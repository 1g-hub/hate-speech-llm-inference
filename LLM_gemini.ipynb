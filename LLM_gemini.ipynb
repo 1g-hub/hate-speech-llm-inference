{
  "cells": [
    {
      "cell_type": "code",
      "execution_count": null,
      "metadata": {
        "colab": {
          "base_uri": "https://localhost:8080/"
        },
        "id": "5QfeSrvQpSyl",
        "outputId": "90e864c7-8786-494b-9a08-dd7957e9ae40"
      },
      "outputs": [
        {
          "output_type": "stream",
          "name": "stdout",
          "text": [
            "Collecting datasets==3.6.0\n",
            "  Downloading datasets-3.6.0-py3-none-any.whl.metadata (19 kB)\n",
            "Requirement already satisfied: filelock in /usr/local/lib/python3.11/dist-packages (from datasets==3.6.0) (3.18.0)\n",
            "Requirement already satisfied: numpy>=1.17 in /usr/local/lib/python3.11/dist-packages (from datasets==3.6.0) (2.0.2)\n",
            "Requirement already satisfied: pyarrow>=15.0.0 in /usr/local/lib/python3.11/dist-packages (from datasets==3.6.0) (18.1.0)\n",
            "Requirement already satisfied: dill<0.3.9,>=0.3.0 in /usr/local/lib/python3.11/dist-packages (from datasets==3.6.0) (0.3.7)\n",
            "Requirement already satisfied: pandas in /usr/local/lib/python3.11/dist-packages (from datasets==3.6.0) (2.2.2)\n",
            "Requirement already satisfied: requests>=2.32.2 in /usr/local/lib/python3.11/dist-packages (from datasets==3.6.0) (2.32.3)\n",
            "Requirement already satisfied: tqdm>=4.66.3 in /usr/local/lib/python3.11/dist-packages (from datasets==3.6.0) (4.67.1)\n",
            "Requirement already satisfied: xxhash in /usr/local/lib/python3.11/dist-packages (from datasets==3.6.0) (3.5.0)\n",
            "Requirement already satisfied: multiprocess<0.70.17 in /usr/local/lib/python3.11/dist-packages (from datasets==3.6.0) (0.70.15)\n",
            "Collecting fsspec<=2025.3.0,>=2023.1.0 (from fsspec[http]<=2025.3.0,>=2023.1.0->datasets==3.6.0)\n",
            "  Downloading fsspec-2025.3.0-py3-none-any.whl.metadata (11 kB)\n",
            "Requirement already satisfied: huggingface-hub>=0.24.0 in /usr/local/lib/python3.11/dist-packages (from datasets==3.6.0) (0.33.4)\n",
            "Requirement already satisfied: packaging in /usr/local/lib/python3.11/dist-packages (from datasets==3.6.0) (25.0)\n",
            "Requirement already satisfied: pyyaml>=5.1 in /usr/local/lib/python3.11/dist-packages (from datasets==3.6.0) (6.0.2)\n",
            "Requirement already satisfied: aiohttp!=4.0.0a0,!=4.0.0a1 in /usr/local/lib/python3.11/dist-packages (from fsspec[http]<=2025.3.0,>=2023.1.0->datasets==3.6.0) (3.11.15)\n",
            "Requirement already satisfied: typing-extensions>=3.7.4.3 in /usr/local/lib/python3.11/dist-packages (from huggingface-hub>=0.24.0->datasets==3.6.0) (4.14.1)\n",
            "Requirement already satisfied: hf-xet<2.0.0,>=1.1.2 in /usr/local/lib/python3.11/dist-packages (from huggingface-hub>=0.24.0->datasets==3.6.0) (1.1.5)\n",
            "Requirement already satisfied: charset-normalizer<4,>=2 in /usr/local/lib/python3.11/dist-packages (from requests>=2.32.2->datasets==3.6.0) (3.4.2)\n",
            "Requirement already satisfied: idna<4,>=2.5 in /usr/local/lib/python3.11/dist-packages (from requests>=2.32.2->datasets==3.6.0) (3.10)\n",
            "Requirement already satisfied: urllib3<3,>=1.21.1 in /usr/local/lib/python3.11/dist-packages (from requests>=2.32.2->datasets==3.6.0) (2.5.0)\n",
            "Requirement already satisfied: certifi>=2017.4.17 in /usr/local/lib/python3.11/dist-packages (from requests>=2.32.2->datasets==3.6.0) (2025.7.14)\n",
            "Requirement already satisfied: python-dateutil>=2.8.2 in /usr/local/lib/python3.11/dist-packages (from pandas->datasets==3.6.0) (2.9.0.post0)\n",
            "Requirement already satisfied: pytz>=2020.1 in /usr/local/lib/python3.11/dist-packages (from pandas->datasets==3.6.0) (2025.2)\n",
            "Requirement already satisfied: tzdata>=2022.7 in /usr/local/lib/python3.11/dist-packages (from pandas->datasets==3.6.0) (2025.2)\n",
            "Requirement already satisfied: aiohappyeyeballs>=2.3.0 in /usr/local/lib/python3.11/dist-packages (from aiohttp!=4.0.0a0,!=4.0.0a1->fsspec[http]<=2025.3.0,>=2023.1.0->datasets==3.6.0) (2.6.1)\n",
            "Requirement already satisfied: aiosignal>=1.1.2 in /usr/local/lib/python3.11/dist-packages (from aiohttp!=4.0.0a0,!=4.0.0a1->fsspec[http]<=2025.3.0,>=2023.1.0->datasets==3.6.0) (1.4.0)\n",
            "Requirement already satisfied: attrs>=17.3.0 in /usr/local/lib/python3.11/dist-packages (from aiohttp!=4.0.0a0,!=4.0.0a1->fsspec[http]<=2025.3.0,>=2023.1.0->datasets==3.6.0) (25.3.0)\n",
            "Requirement already satisfied: frozenlist>=1.1.1 in /usr/local/lib/python3.11/dist-packages (from aiohttp!=4.0.0a0,!=4.0.0a1->fsspec[http]<=2025.3.0,>=2023.1.0->datasets==3.6.0) (1.7.0)\n",
            "Requirement already satisfied: multidict<7.0,>=4.5 in /usr/local/lib/python3.11/dist-packages (from aiohttp!=4.0.0a0,!=4.0.0a1->fsspec[http]<=2025.3.0,>=2023.1.0->datasets==3.6.0) (6.6.3)\n",
            "Requirement already satisfied: propcache>=0.2.0 in /usr/local/lib/python3.11/dist-packages (from aiohttp!=4.0.0a0,!=4.0.0a1->fsspec[http]<=2025.3.0,>=2023.1.0->datasets==3.6.0) (0.3.2)\n",
            "Requirement already satisfied: yarl<2.0,>=1.17.0 in /usr/local/lib/python3.11/dist-packages (from aiohttp!=4.0.0a0,!=4.0.0a1->fsspec[http]<=2025.3.0,>=2023.1.0->datasets==3.6.0) (1.20.1)\n",
            "Requirement already satisfied: six>=1.5 in /usr/local/lib/python3.11/dist-packages (from python-dateutil>=2.8.2->pandas->datasets==3.6.0) (1.17.0)\n",
            "Downloading datasets-3.6.0-py3-none-any.whl (491 kB)\n",
            "\u001b[2K   \u001b[90m━━━━━━━━━━━━━━━━━━━━━━━━━━━━━━━━━━━━━━━━\u001b[0m \u001b[32m491.5/491.5 kB\u001b[0m \u001b[31m8.9 MB/s\u001b[0m eta \u001b[36m0:00:00\u001b[0m\n",
            "\u001b[?25hDownloading fsspec-2025.3.0-py3-none-any.whl (193 kB)\n",
            "\u001b[2K   \u001b[90m━━━━━━━━━━━━━━━━━━━━━━━━━━━━━━━━━━━━━━━━\u001b[0m \u001b[32m193.6/193.6 kB\u001b[0m \u001b[31m15.6 MB/s\u001b[0m eta \u001b[36m0:00:00\u001b[0m\n",
            "\u001b[?25hInstalling collected packages: fsspec, datasets\n",
            "  Attempting uninstall: fsspec\n",
            "    Found existing installation: fsspec 2025.7.0\n",
            "    Uninstalling fsspec-2025.7.0:\n",
            "      Successfully uninstalled fsspec-2025.7.0\n",
            "  Attempting uninstall: datasets\n",
            "    Found existing installation: datasets 2.14.4\n",
            "    Uninstalling datasets-2.14.4:\n",
            "      Successfully uninstalled datasets-2.14.4\n",
            "\u001b[31mERROR: pip's dependency resolver does not currently take into account all the packages that are installed. This behaviour is the source of the following dependency conflicts.\n",
            "gcsfs 2025.7.0 requires fsspec==2025.7.0, but you have fsspec 2025.3.0 which is incompatible.\n",
            "torch 2.6.0+cu124 requires nvidia-cublas-cu12==12.4.5.8; platform_system == \"Linux\" and platform_machine == \"x86_64\", but you have nvidia-cublas-cu12 12.5.3.2 which is incompatible.\n",
            "torch 2.6.0+cu124 requires nvidia-cuda-cupti-cu12==12.4.127; platform_system == \"Linux\" and platform_machine == \"x86_64\", but you have nvidia-cuda-cupti-cu12 12.5.82 which is incompatible.\n",
            "torch 2.6.0+cu124 requires nvidia-cuda-nvrtc-cu12==12.4.127; platform_system == \"Linux\" and platform_machine == \"x86_64\", but you have nvidia-cuda-nvrtc-cu12 12.5.82 which is incompatible.\n",
            "torch 2.6.0+cu124 requires nvidia-cuda-runtime-cu12==12.4.127; platform_system == \"Linux\" and platform_machine == \"x86_64\", but you have nvidia-cuda-runtime-cu12 12.5.82 which is incompatible.\n",
            "torch 2.6.0+cu124 requires nvidia-cudnn-cu12==9.1.0.70; platform_system == \"Linux\" and platform_machine == \"x86_64\", but you have nvidia-cudnn-cu12 9.3.0.75 which is incompatible.\n",
            "torch 2.6.0+cu124 requires nvidia-cufft-cu12==11.2.1.3; platform_system == \"Linux\" and platform_machine == \"x86_64\", but you have nvidia-cufft-cu12 11.2.3.61 which is incompatible.\n",
            "torch 2.6.0+cu124 requires nvidia-curand-cu12==10.3.5.147; platform_system == \"Linux\" and platform_machine == \"x86_64\", but you have nvidia-curand-cu12 10.3.6.82 which is incompatible.\n",
            "torch 2.6.0+cu124 requires nvidia-cusolver-cu12==11.6.1.9; platform_system == \"Linux\" and platform_machine == \"x86_64\", but you have nvidia-cusolver-cu12 11.6.3.83 which is incompatible.\n",
            "torch 2.6.0+cu124 requires nvidia-cusparse-cu12==12.3.1.170; platform_system == \"Linux\" and platform_machine == \"x86_64\", but you have nvidia-cusparse-cu12 12.5.1.3 which is incompatible.\n",
            "torch 2.6.0+cu124 requires nvidia-nvjitlink-cu12==12.4.127; platform_system == \"Linux\" and platform_machine == \"x86_64\", but you have nvidia-nvjitlink-cu12 12.5.82 which is incompatible.\u001b[0m\u001b[31m\n",
            "\u001b[0mSuccessfully installed datasets-3.6.0 fsspec-2025.3.0\n"
          ]
        }
      ],
      "source": [
        "!pip install datasets==3.6.0\n",
        "\n"
      ]
    },
    {
      "cell_type": "code",
      "execution_count": null,
      "metadata": {
        "id": "qeZ6gODlpV6V"
      },
      "outputs": [],
      "source": [
        "import random\n",
        "import re\n",
        "import torch\n",
        "from collections import Counter\n",
        "from datasets import load_dataset\n",
        "from transformers import (\n",
        "    AutoTokenizer, AutoModelForCausalLM, BitsAndBytesConfig, pipeline\n",
        ")\n",
        "from sklearn.metrics import accuracy_score, classification_report\n",
        "from tqdm import tqdm"
      ]
    },
    {
      "cell_type": "code",
      "execution_count": null,
      "metadata": {
        "id": "7PrafjkDslkr"
      },
      "outputs": [],
      "source": [
        "from transformers import AutoTokenizer, AutoModelForCausalLM, BitsAndBytesConfig, pipeline\n",
        "from huggingface_hub import login\n",
        "import torch\n"
      ]
    },
    {
      "cell_type": "code",
      "execution_count": null,
      "metadata": {
        "id": "qkSu8SrptCBK"
      },
      "outputs": [],
      "source": [
        "from huggingface_hub import login\n",
        "\n",
        "# Paste your Hugging Face token here\n",
        "login(token=\"...\")"
      ]
    },
    {
      "cell_type": "code",
      "source": [
        "# Load dataset\n",
        "from datasets import load_dataset\n",
        "import random\n",
        "\n",
        "# Load a larger portion first\n",
        "full_validation = load_dataset(\"hatexplain\", split=\"validation\", trust_remote_code=True)\n"
      ],
      "metadata": {
        "colab": {
          "base_uri": "https://localhost:8080/",
          "height": 365,
          "referenced_widgets": [
            "1788ad4d2a354483bd2e02075e725778",
            "6c722c2a890f421288159e83d90a379d",
            "7da2bde217fd45b99af6f81dfde31519",
            "fd1b1aff8b124ce0b17ce4e102d5229b",
            "a86e01de98fa4748ab71cb2241e9ae36",
            "40d48853fbc74ab1ae8166ebf78ad998",
            "70116b7fdec8498d9f2c4e5b1b7b8652",
            "9939fb7c1be24cab9db7dfbc8d95f73e",
            "a786f336c0834007a362093af2bf9a6b",
            "d9a8315d8d8a40109f56485fbdd72b99",
            "c3b9b3f6c55047408e67e07f39ff0c19",
            "b8668476adba4d0e84150fa75b3c6471",
            "2333c65df0804345a7a238d17685b2c3",
            "bc27a9c257464ea1a54c6f3068cc7ccc",
            "4d74752b2e58428e8d25a3fc95310414",
            "f22e58cd2f2b4ccaaeba94f359edfa30",
            "1f80571e8631499383ac4de33aa24600",
            "176838386b224ec78a36fa4d757ed58d",
            "2c377aeb890843ee94b1a34a96503e26",
            "0eee0067e0c843ceb042513652d5db69",
            "ba66b73910fa45dbb574174f62c3d813",
            "6d5c75f61edd4c61af68a79666596143",
            "fa14836037764e539c8b4d7641a52dd7",
            "a8c039c0223b4ae2b1f8bfda540f51fb",
            "7c343b72a2b74ae69ccb3ea1de671e71",
            "c6af379f074c45c59ec76c09d1de714e",
            "cbcf6bd2d8434cc9bbf7bd4279cba1cf",
            "f9c2a483aa954abc965c80ce7bb1b767",
            "b29285a473ab4f0b818050587e243c18",
            "3251679d4ac04628a419c09b5df6cc7e",
            "ef67f3b025de4b01ae130d6931f5b799",
            "efb39c28a0c94e9990d31871720a1934",
            "b98afe0f040f472ca74639c3915b4857",
            "b4138db2f4e449df969872f6e2d001cc",
            "996ac98b96f54a0b87f4d3302f3c83d6",
            "dac3aa4394a64b8094e4b63ee14391a6",
            "5f10ff437c254ca0b57adb7c2183f378",
            "bb2bd8b2445e429db751393e0ec2f1c9",
            "adfb457c5d904e7ebbd908b5091b8675",
            "5c6f5624aed34497b7a06467ef43c565",
            "9c2ba2b4bbda4f43aa3c8c7ce8e8d576",
            "8691f0873b5b4b60abad0d9b9be2d5b8",
            "27bd3fe4bc414cd29a6e4592ac4a28f8",
            "342b849889e647c99247592b82ab82a4",
            "9d52345c74654e5f974a6dca8fc3727d",
            "2515e0ae498048278d4bc40fdd627e56",
            "d02a26618a5345c2b8e7b3146f4ce53a",
            "2560fce3c2ca418ea964bf1cae85b1ba",
            "f3fc1fcfddd6436ca8ed6466ab30ed23",
            "14ff1a2e7a37465b9e9b29cb7693b035",
            "7fa7e49eb5ff40a6a3691c84d2772567",
            "6f064b96c5b144fabd0af88443a0aa7c",
            "69340754aa84450d8dbb2259b3384a11",
            "6be95760e20847db8877a27f7a75e086",
            "8c40b8a0145c445394e6d7a8787a81d7",
            "312338bde63d48b9a5bb43cc81142be1",
            "0769b7ae4f3b4360b4ca5f5acd0300f3",
            "0d63cc948feb4b3e8ec51bbeced57ee8",
            "3d5f0821f93f41c69a4a81383bea31da",
            "e6390396b95d413fbd45bc901288c1af",
            "9332101357824099869748314a3a03d6",
            "1f761904a03340b6a41755601560aa25",
            "a1b04b4334eb41c9912edea412e71422",
            "7e165e58bfb047dfafc3455fc9add575",
            "2e09c61f537846dbb6e6e4c050090bab",
            "0dfab2e141c54909914b88259b306aa9",
            "7204d4cb4d504d2eab03953ac38f532b",
            "f794a33aacb54bc097721333221e410c",
            "b95cf5ef972d4da28f646e811477d60e",
            "1fa67cc8dc934bc181b1f264848209cc",
            "92fde755276743d89a88103d6829aaf9",
            "c8e889e246d744c69cb85bf213d7f9e1",
            "e973d0c0f233458abcc031f5b95b0d28",
            "bb8dc671e631416f857922d82977f9a4",
            "dacdb5edc073413b84ce4af62c85fd52",
            "39227634afec4a17b2ece7036a4ecc80",
            "49334787b8174fd697d82f7ef947a3c7"
          ]
        },
        "id": "OyWzR95L26na",
        "outputId": "5615d9b6-c57f-426b-ee97-dd0b811b4fb3"
      },
      "execution_count": null,
      "outputs": [
        {
          "output_type": "stream",
          "name": "stderr",
          "text": [
            "/usr/local/lib/python3.11/dist-packages/huggingface_hub/utils/_auth.py:94: UserWarning: \n",
            "The secret `HF_TOKEN` does not exist in your Colab secrets.\n",
            "To authenticate with the Hugging Face Hub, create a token in your settings tab (https://huggingface.co/settings/tokens), set it as secret in your Google Colab and restart your session.\n",
            "You will be able to reuse this secret in all of your notebooks.\n",
            "Please note that authentication is recommended but still optional to access public models or datasets.\n",
            "  warnings.warn(\n"
          ]
        },
        {
          "output_type": "display_data",
          "data": {
            "text/plain": [
              "README.md: 0.00B [00:00, ?B/s]"
            ],
            "application/vnd.jupyter.widget-view+json": {
              "version_major": 2,
              "version_minor": 0,
              "model_id": "1788ad4d2a354483bd2e02075e725778"
            }
          },
          "metadata": {}
        },
        {
          "output_type": "display_data",
          "data": {
            "text/plain": [
              "hatexplain.py: 0.00B [00:00, ?B/s]"
            ],
            "application/vnd.jupyter.widget-view+json": {
              "version_major": 2,
              "version_minor": 0,
              "model_id": "b8668476adba4d0e84150fa75b3c6471"
            }
          },
          "metadata": {}
        },
        {
          "output_type": "display_data",
          "data": {
            "text/plain": [
              "Downloading data:   0%|          | 0.00/12.3M [00:00<?, ?B/s]"
            ],
            "application/vnd.jupyter.widget-view+json": {
              "version_major": 2,
              "version_minor": 0,
              "model_id": "fa14836037764e539c8b4d7641a52dd7"
            }
          },
          "metadata": {}
        },
        {
          "output_type": "display_data",
          "data": {
            "text/plain": [
              "Downloading data:   0%|          | 0.00/592k [00:00<?, ?B/s]"
            ],
            "application/vnd.jupyter.widget-view+json": {
              "version_major": 2,
              "version_minor": 0,
              "model_id": "b4138db2f4e449df969872f6e2d001cc"
            }
          },
          "metadata": {}
        },
        {
          "output_type": "display_data",
          "data": {
            "text/plain": [
              "Generating train split:   0%|          | 0/15383 [00:00<?, ? examples/s]"
            ],
            "application/vnd.jupyter.widget-view+json": {
              "version_major": 2,
              "version_minor": 0,
              "model_id": "9d52345c74654e5f974a6dca8fc3727d"
            }
          },
          "metadata": {}
        },
        {
          "output_type": "display_data",
          "data": {
            "text/plain": [
              "Generating validation split:   0%|          | 0/1922 [00:00<?, ? examples/s]"
            ],
            "application/vnd.jupyter.widget-view+json": {
              "version_major": 2,
              "version_minor": 0,
              "model_id": "312338bde63d48b9a5bb43cc81142be1"
            }
          },
          "metadata": {}
        },
        {
          "output_type": "display_data",
          "data": {
            "text/plain": [
              "Generating test split:   0%|          | 0/1924 [00:00<?, ? examples/s]"
            ],
            "application/vnd.jupyter.widget-view+json": {
              "version_major": 2,
              "version_minor": 0,
              "model_id": "7204d4cb4d504d2eab03953ac38f532b"
            }
          },
          "metadata": {}
        }
      ]
    },
    {
      "cell_type": "code",
      "execution_count": null,
      "metadata": {
        "id": "ScwwamKfpc6M"
      },
      "outputs": [],
      "source": [
        "dataset = full_validation.select(range(950, 1050))  # upper bound is exclusive\n",
        "\n",
        "\n",
        "# Sample 3 few-shot examples\n",
        "fewshot_data = random.sample(list(dataset), 3)"
      ]
    },
    {
      "cell_type": "code",
      "execution_count": 1,
      "metadata": {
        "id": "5Bl_VdpVnlcW"
      },
      "outputs": [],
      "source": [
        "import os\n",
        "# Paste your GOOGLE API KEY here\n",
        "\n",
        "os.environ[\"GOOGLE_API_KEY\"] = \"...\"\n"
      ]
    },
    {
      "cell_type": "code",
      "execution_count": null,
      "metadata": {
        "id": "zRGTxB4ooIP5"
      },
      "outputs": [],
      "source": [
        "import google.generativeai as genai\n",
        "\n",
        "genai.configure(api_key=os.environ[\"GOOGLE_API_KEY\"])\n",
        "\n",
        "model = genai.GenerativeModel(\"gemini-2.5-pro\")\n"
      ]
    },
    {
      "cell_type": "code",
      "execution_count": null,
      "metadata": {
        "id": "wJFtoAm7ofV6"
      },
      "outputs": [],
      "source": [
        "label_map = {0: \"hatespeech\", 1: \"normal\", 2: \"offensive\"}\n",
        "\n",
        "def normalize_labels(labels):\n",
        "    return [label_map[l] if isinstance(l, int) else l for l in labels]\n",
        "\n",
        "def majority_label(label_list):\n",
        "    from collections import Counter\n",
        "    return label_map[Counter(label_list).most_common(1)[0][0]]\n",
        "\n",
        "def format_gemini_prompt(test_text, fewshot_data=None):\n",
        "    prompt = (\n",
        "        \"This prompt is part of a research project on AI-based content moderation. \"\n",
        "    \"You are a moderation engine. Classify the following text into one of three categories: \"\n",
        "    \"normal: No harmful intent. May contain vulgarity or references to race, religion, gender, etc., but does not attack or insult.\"\n",
        "    \"-offensive: Uses strong language or insults, possibly directed at an individual, but not hateful toward a group.\"\n",
        "    \"hatespeech: Attacks, dehumanizes, or incites hatred against a group based on race, religion, gender, etc.\"\n",
        "    \"Respond in JSON format: {\\\"label\\\": \\\"<normal|offensive|hatespeech>\\\", \\\"explanation\\\": \\\"<short reason>\\\"}\\n\\n\"\n",
        "    \"Text: \\\"{}\\\"\"\n",
        "\n",
        "    )\n",
        "    if fewshot_data:\n",
        "        prompt += \"Use the following definitions:\\n\"\n",
        "        \"Important instructions:\"\n",
        "        \"- **DO NOT** mark speech as offensive or hatespeech *just because it references race, religion, gender, or politics*. These may be part of a factual or provocative discussion.\"\n",
        "        \"- Mark as normal if the content reflects opinion, debate, or neutral statement—even if it touches on sensitive themes—**as long as it does not insult, or incite hate.\"\n",
        "        \"- Annotators may label many such examples as normal. Match their judgment unless clear reasons justify otherwise.\"\n",
        "\n",
        "        for sample in fewshot_data:\n",
        "            example_text = \" \".join(sample[\"post_tokens\"])\n",
        "            label = majority_label(sample[\"annotators\"][\"label\"])\n",
        "            prompt += f'User: {example_text}\\nAssistant:\\n{{\"label\": \"{label}\"}}\\n\\n'\n",
        "\n",
        "    prompt += f\"User: {test_text}\\nAssistant:\\n\"\n",
        "    return prompt\n"
      ]
    },
    {
      "cell_type": "code",
      "execution_count": null,
      "metadata": {
        "id": "DO-J5MKRAnW-"
      },
      "outputs": [],
      "source": [
        "def format_gemini_prompt(test_text, fewshot_data=None):\n",
        "    prompt = (\n",
        "        \"This prompt is part of a research project on AI-based content moderation.\\n\"\n",
        "        \"You are a content moderation engine classifying online posts as:\\n\"\n",
        "       \"You are a moderation engine for a social media. Classify the following text from users of social media from twitter and Gab into one of three categories: \"\n",
        "    \"normal: No harmful intent. May contain vulgarity or references to race, religion, gender, etc., but does not attack or insult.\"\n",
        "    \"-offensive: Uses strong language or insults, possibly directed at an individual, but not hateful toward a group.\"\n",
        "        \"hatespeech: Attacks, dehumanizes, or incites hatred against a group based on race, religion, gender, etc.\"\n",
        "        \"Respond only in the following JSON format:\\n\"\n",
        "        '{\"label\": \"<normal|offensive|hatespeech>\", \"explanation\": \"<brief reason>\"}\\n\\n'\n",
        "         \"If you are uncertain or hesitant, add this line:\"\n",
        "          \"SECOND PASS: Please reconsider briefly.\"\n",
        "           )\n",
        "\n",
        "    if fewshot_data:\n",
        "        prompt += \"Additional few-shot examples from the dataset:\\n\"\n",
        "        \"Important instructions:\\n\"\n",
        "        \"- Do NOT classify something as offensive or hatespeech just for mentioning race, religion, gender, or politics.\\n\"\n",
        "        \"- Sarcasm, criticism, or complex social commentary should be marked as 'normal' unless they clearly target or insult.\\n\\n\"\n",
        "        \"Respond only in the following JSON format:\\n\"\n",
        "        '{\"label\": \"<normal|offensive|hatespeech>\", \"explanation\": \"<brief reason>\"}\\n\\n'\n",
        "        \"If it's between normal and hatespeech, the moderation is very lenient towards hatespeech, so if it's not so violent put it in normal\"\n",
        "        \"If it's between normal and offensive, the moderation is very lenient towards offensive, so if it's not so violent put it in normal\"\n",
        "        \"If it's between offensive and hatespeech, what matters is really if there's a target and how the target is treated, if it incites hate, then it is hatespeech\"\n",
        "        \"Examples:\\n\\n\"\n",
        "        'User: \"I don\\'t think black people should pay more in taxes.\"\\n'\n",
        "        'Assistant:\\n{\"label\": \"normal\", \"explanation\": \"Social commentary; not hateful or offensive.\"}\\n\\n'\n",
        "        'User: \"The government helps Jews but not us.\"\\n'\n",
        "        'Assistant:\\n{\"label\": \"normal\", \"explanation\": \"Perceived inequality claim; not hateful.\"}\\n\\n'\n",
        "        'User: \"You dumb b*tch, shut up already.\"\\n'\n",
        "        'Assistant:\\n{\"label\": \"offensive\", \"explanation\": \"Insulting and disrespectful language.\"}\\n\\n'\n",
        "        'User: \"Muslims are evil and should be banned.\"\\n'\n",
        "        'Assistant:\\n{\"label\": \"hatespeech\", \"explanation\": \"Promotes hatred against a group.\"}\\n\\n'\n",
        "\n",
        "        for sample in fewshot_data:\n",
        "            example_text = \" \".join(sample[\"post_tokens\"])\n",
        "            label = majority_label(sample[\"annotators\"][\"label\"])\n",
        "            prompt += f'User: \"{example_text}\"\\nAssistant:\\n{{\"label\": \"{label}\"}}\\n\\n'\n",
        "\n",
        "    prompt += f'User: \"{test_text}\"\\nAssistant:\\n'\n",
        "    return prompt\n"
      ]
    },
    {
      "cell_type": "code",
      "execution_count": null,
      "metadata": {
        "id": "WuuUSlmGo4JH"
      },
      "outputs": [],
      "source": [
        "def run_gemini_inference(dataset, fewshot_data=None):\n",
        "    results = []\n",
        "    for sample in dataset:\n",
        "        text = \" \".join(sample[\"post_tokens\"])\n",
        "        prompt = format_gemini_prompt(text, fewshot_data=fewshot_data)\n",
        "        response = model.generate_content(prompt)\n",
        "        result = response.text\n",
        "        results.append({\"generated_text\": result})\n",
        "    return results\n"
      ]
    },
    {
      "cell_type": "code",
      "execution_count": null,
      "metadata": {
        "id": "cADMaY_to8sm"
      },
      "outputs": [],
      "source": []
    },
    {
      "cell_type": "code",
      "execution_count": null,
      "metadata": {
        "id": "jln6ZuwQRsQh"
      },
      "outputs": [],
      "source": [
        "import re\n",
        "\n",
        "def extract_label_from_text(text):\n",
        "        # Match **Label:** line\n",
        "        matches = re.findall(r\"\\*\\*label:\\*\\*\\s*(hatespeech|normal|offensive)\", text.lower())\n",
        "        if matches:\n",
        "            return matches[-1]\n",
        "        # Fallback to JSON\n",
        "        fallback = re.findall(r'\"label\"\\s*:\\s*\"?(hatespeech|normal|offensive)\"?', text.lower())\n",
        "        if fallback:\n",
        "            return fallback[-1]\n",
        "        return \"unknown\"\n"
      ]
    },
    {
      "cell_type": "code",
      "execution_count": null,
      "metadata": {
        "id": "irVq0TOUqr3J"
      },
      "outputs": [],
      "source": [
        "from sklearn.metrics import confusion_matrix, ConfusionMatrixDisplay\n",
        "import matplotlib.pyplot as plt\n",
        "\n",
        "def majority_label(label_list):\n",
        "    count = Counter(label_list)\n",
        "    return count.most_common(1)[0][0]\n",
        "\n",
        "def plot_confusion_matrix(dataset, preds):\n",
        "    label_map = {0: \"hatespeech\", 1: \"normal\", 2: \"offensive\"}\n",
        "    id_to_label = {0: \"hatespeech\", 1: \"normal\", 2: \"offensive\"}\n",
        "    label_order = [\"hatespeech\", \"normal\", \"offensive\" ]\n",
        "\n",
        "    golds = [label_map[majority_label(sample[\"annotators\"][\"label\"])] for sample in dataset]\n",
        "\n",
        "    cm = confusion_matrix(golds, preds, labels=label_order)\n",
        "    disp = ConfusionMatrixDisplay(confusion_matrix=cm, display_labels=label_order)\n",
        "\n",
        "    fig, ax = plt.subplots(figsize=(6, 6))\n",
        "    disp.plot(ax=ax, cmap=\"Blues\", values_format=\"d\")\n",
        "    plt.title(\"Confusion Matrix\")\n",
        "    plt.show()\n",
        "\n"
      ]
    },
    {
      "cell_type": "code",
      "execution_count": null,
      "metadata": {
        "id": "2Dn4weAFHgtS"
      },
      "outputs": [],
      "source": []
    },
    {
      "cell_type": "code",
      "execution_count": null,
      "metadata": {
        "id": "ltK5IejXHhjx"
      },
      "outputs": [],
      "source": [
        "# Global state to track where we left off\n"
      ]
    },
    {
      "cell_type": "code",
      "execution_count": null,
      "metadata": {
        "id": "H0kEiLe2HkMf"
      },
      "outputs": [],
      "source": [
        "def run_gemini_in_chunks(dataset, fewshot_data=None, chunk_size=10, temperature=0.2):\n",
        "    global gemini_run_index\n",
        "\n",
        "    if gemini_run_index >= len(dataset):\n",
        "        print(\"✅ All samples have been processed.\")\n",
        "        return []\n",
        "\n",
        "    end_index = min(gemini_run_index + chunk_size, len(dataset))\n",
        "    chunk = list(dataset.select(range(gemini_run_index, end_index)))\n",
        "\n",
        "    results = []\n",
        "    for sample in chunk:\n",
        "        text = \" \".join(sample[\"post_tokens\"])\n",
        "        prompt = format_gemini_prompt(text, fewshot_data=fewshot_data)\n",
        "        response = model.generate_content(\n",
        "            prompt,\n",
        "            generation_config={\n",
        "                \"temperature\": temperature,\n",
        "            }\n",
        "        )\n",
        "        result = response.text\n",
        "        results.append({\"generated_text\": result})\n",
        "\n",
        "    print(f\"✅ Processed samples {gemini_run_index} to {end_index - 1} with temperature={temperature}\")\n",
        "    gemini_run_index = end_index\n",
        "    return results\n"
      ]
    },
    {
      "cell_type": "code",
      "execution_count": null,
      "metadata": {
        "id": "DY9DeAfXS2Sr"
      },
      "outputs": [],
      "source": [
        "def run_gemini_in_chunks(dataset, fewshot_data=None, chunk_size=5, temperature=0.2):\n",
        "    global gemini_run_index\n",
        "\n",
        "    if gemini_run_index >= len(dataset):\n",
        "        print(\"✅ All samples have been processed.\")\n",
        "        return []\n",
        "\n",
        "    end_index = min(gemini_run_index + chunk_size, len(dataset))\n",
        "    chunk = list(dataset.select(range(gemini_run_index, end_index)))\n",
        "\n",
        "    results = []\n",
        "    for sample in chunk:\n",
        "        text = \" \".join(sample[\"post_tokens\"])\n",
        "        prompt = format_gemini_prompt(text)\n",
        "\n",
        "        # First pass\n",
        "        response = model.generate_content(\n",
        "            prompt,\n",
        "            generation_config={\n",
        "                \"temperature\": temperature}\n",
        "        )\n",
        "        result_text = response.text\n",
        "\n",
        "        # If the model is uncertain, request second pass\n",
        "        if \"SECOND PASS\" in result_text:\n",
        "            print(\"🔁 Re-prompting for second pass due to uncertainty...\")\n",
        "            second_prompt = result_text + \"\\nPlease reconsider and respond again in JSON format.\"\n",
        "            second_response = model.generate_content(\n",
        "                second_prompt,\n",
        "                generation_config={\n",
        "                    \"temperature\": temperature}\n",
        "            )\n",
        "            result_text = second_response.text\n",
        "\n",
        "        results.append({\"generated_text\": result_text})\n",
        "\n",
        "    print(f\"✅ Processed samples {gemini_run_index} to {end_index - 1} with temperature={temperature}\")\n",
        "    gemini_run_index = end_index\n",
        "    return results\n"
      ]
    },
    {
      "cell_type": "code",
      "execution_count": null,
      "metadata": {
        "id": "qjyAu_Q5P_qS"
      },
      "outputs": [],
      "source": [
        "from sklearn.metrics import accuracy_score, f1_score\n",
        "\n",
        "def evaluate_outputs(dataset, outputs):\n",
        "    preds = [extract_label_from_text(x[\"generated_text\"]) for x in outputs]\n",
        "\n",
        "    golds_majority = [\n",
        "        label_map[Counter(sample[\"annotators\"][\"label\"]).most_common(1)[0][0]]\n",
        "        for sample in dataset.select(range(len(preds)))\n",
        "    ]\n",
        "\n",
        "    # Custom accuracy: prediction ∈ any annotator's labels\n",
        "    match_any_annotator = []\n",
        "    for sample, pred in zip(dataset.select(range(len(preds))), preds):\n",
        "        annotator_labels = [label_map[l] for l in sample[\"annotators\"][\"label\"]]\n",
        "        match_any_annotator.append(int(pred in annotator_labels))\n",
        "\n",
        "    custom_acc = sum(match_any_annotator) / len(preds)\n",
        "\n",
        "    # Final reporting\n",
        "    print(\"Accuracy (majority gold):\", accuracy_score(golds_majority, preds))\n",
        "    print(\"Macro-F1:                \", f1_score(golds_majority, preds, average=\"macro\"))\n",
        "    print(\"Custom Accuracy (any annotator agrees):\", round(custom_acc, 3))\n",
        "\n"
      ]
    },
    {
      "cell_type": "code",
      "execution_count": null,
      "metadata": {
        "id": "2lFQDOVJQlBQ"
      },
      "outputs": [],
      "source": [
        "from collections import Counter\n",
        "from sklearn.metrics import confusion_matrix, ConfusionMatrixDisplay\n",
        "import matplotlib.pyplot as plt\n",
        "\n",
        "label_map = {0: \"hatespeech\", 1: \"normal\", 2: \"offensive\"}\n",
        "label_order = [\"hatespeech\", \"normal\", \"offensive\" ]\n",
        "\n",
        "\n",
        "def plot_confusion_matrix_from_outputs(dataset, outputs):\n",
        "    preds = [extract_label_from_text(x[\"generated_text\"]) for x in outputs]\n",
        "\n",
        "    golds = [\n",
        "        label_map[\n",
        "            Counter(sample[\"annotators\"][\"label\"]).most_common(1)[0][0]\n",
        "        ]\n",
        "        for sample in dataset.select(range(len(preds)))\n",
        "    ]\n",
        "\n",
        "    cm = confusion_matrix(golds, preds, labels=label_order)\n",
        "    disp = ConfusionMatrixDisplay(confusion_matrix=cm, display_labels=label_order)\n",
        "    fig, ax = plt.subplots(figsize=(6, 6))\n",
        "    disp.plot(ax=ax, cmap=\"Blues\", values_format=\"d\")\n",
        "    plt.title(\"Confusion Matrix\")\n",
        "    plt.show()\n"
      ]
    },
    {
      "cell_type": "code",
      "execution_count": null,
      "metadata": {
        "id": "4XHkdDHeT71G"
      },
      "outputs": [],
      "source": [
        "import random\n",
        "import re\n",
        "from collections import Counter\n",
        "\n",
        "label_map = {0: \"hatespeech\", 1: \"normal\", 2: \"offensive\"}\n",
        "\n",
        "def extract_label_and_explanation(text):\n",
        "    label_match = re.search(r'\"label\"\\s*:\\s*\"?(normal|offensive|hatespeech)\"?', text.lower())\n",
        "    explanation_match = re.search(r'\"explanation\"\\s*:\\s*\"([^\"]+)\"', text)\n",
        "\n",
        "    label = label_match.group(1) if label_match else \"unknown\"\n",
        "    explanation = explanation_match.group(1) if explanation_match else \"(no explanation found)\"\n",
        "    return label, explanation\n",
        "\n",
        "def print_sample_info(dataset, outputs, index=None, label=None):\n",
        "    if label:\n",
        "        # Search for a random sample with that predicted label\n",
        "        matches = [\n",
        "            i for i, out in enumerate(outputs)\n",
        "            if extract_label_and_explanation(out[\"generated_text\"])[0] == label\n",
        "        ]\n",
        "        if not matches:\n",
        "            print(f\"❌ No predicted samples found with label '{label}'\")\n",
        "            return\n",
        "        index = random.choice(matches)\n",
        "        print(f\"🎯 Random sample with predicted label '{label}': index {index}\")\n",
        "\n",
        "    if index is None or index >= len(outputs):\n",
        "        print(f\"❌ Invalid index: {index}\")\n",
        "        return\n",
        "\n",
        "    sample = dataset[index]\n",
        "    output_text = outputs[index][\"generated_text\"]\n",
        "    text_input = \" \".join(sample[\"post_tokens\"])\n",
        "\n",
        "    # Get true labels\n",
        "    raw_labels = sample[\"annotators\"][\"label\"]\n",
        "    label_strings = [label_map[l] for l in raw_labels]\n",
        "    majority = Counter(label_strings).most_common(1)[0][0]\n",
        "\n",
        "    # Extract prediction\n",
        "    pred_label, explanation = extract_label_and_explanation(output_text)\n",
        "\n",
        "    # --- Print everything ---\n",
        "    print(f\"\\n📄 Input Text (Sample #{index}):\\n{text_input}\\n\")\n",
        "    print(\"🧠 Full Model Output:\\n\" + output_text + \"\\n\")\n",
        "    print(\"🔎 Extracted Prediction:\")\n",
        "    print(f\"   Label       : {pred_label}\")\n",
        "    print(f\"   Explanation : {explanation}\\n\")\n",
        "    print(\"🧑‍⚖️ Annotator Labels:\")\n",
        "    print(f\"   Numeric     : {raw_labels}\")\n",
        "    print(f\"   Mapped      : {label_strings}\")\n",
        "    print(f\"   Majority    : {majority}\")\n"
      ]
    },
    {
      "cell_type": "code",
      "execution_count": null,
      "metadata": {
        "id": "FoIMs6RYH4-3"
      },
      "outputs": [],
      "source": [
        "outputs = []\n",
        "gemini_run_index = 0\n",
        "temp=0.2\n",
        "chunk=5"
      ]
    },
    {
      "cell_type": "code",
      "execution_count": null,
      "metadata": {
        "colab": {
          "base_uri": "https://localhost:8080/",
          "height": 34
        },
        "id": "sN5TeXTPH8fL",
        "outputId": "f8166017-86a8-480d-f3b4-117f69e569a3"
      },
      "outputs": [
        {
          "output_type": "stream",
          "name": "stdout",
          "text": [
            "✅ Processed samples 0 to 4 with temperature=0\n"
          ]
        }
      ],
      "source": [
        "fewshot_data = random.sample(list(full_validation), 3)\n",
        "outputs += run_gemini_in_chunks(dataset, fewshot_data, chunk_size=chunk, temperature=temp)\n",
        "# ... until done\n"
      ]
    },
    {
      "cell_type": "code",
      "execution_count": null,
      "metadata": {
        "colab": {
          "base_uri": "https://localhost:8080/",
          "height": 34
        },
        "id": "BuXbQn2kA2Q9",
        "outputId": "1cbd9e5c-53d8-479d-f628-c00493ba74ab"
      },
      "outputs": [
        {
          "output_type": "stream",
          "name": "stdout",
          "text": [
            "✅ Processed samples 5 to 9 with temperature=0\n"
          ]
        }
      ],
      "source": [
        "fewshot_data = random.sample(list(full_validation), 3)\n",
        "outputs += run_gemini_in_chunks(dataset, fewshot_data, chunk_size=chunk, temperature=temp)\n",
        "# ... until done\n"
      ]
    },
    {
      "cell_type": "code",
      "execution_count": null,
      "metadata": {
        "colab": {
          "base_uri": "https://localhost:8080/",
          "height": 34
        },
        "id": "UKfUwX6XBOQt",
        "outputId": "a2ada896-6669-47a8-8444-cb52c92736f7"
      },
      "outputs": [
        {
          "output_type": "stream",
          "name": "stdout",
          "text": [
            "✅ Processed samples 10 to 14 with temperature=0\n"
          ]
        }
      ],
      "source": [
        "fewshot_data = random.sample(list(full_validation), 3)\n",
        "outputs += run_gemini_in_chunks(dataset, fewshot_data, chunk_size=chunk, temperature=temp)\n",
        "# ... until done\n"
      ]
    },
    {
      "cell_type": "code",
      "execution_count": null,
      "metadata": {
        "colab": {
          "base_uri": "https://localhost:8080/",
          "height": 34
        },
        "id": "leRNxCmnBOQu",
        "outputId": "f835a959-aa02-4517-e486-8e63654fcd66"
      },
      "outputs": [
        {
          "output_type": "stream",
          "name": "stdout",
          "text": [
            "✅ Processed samples 15 to 19 with temperature=0\n"
          ]
        }
      ],
      "source": [
        "fewshot_data = random.sample(list(full_validation), 3)\n",
        "outputs += run_gemini_in_chunks(dataset, fewshot_data, chunk_size=chunk, temperature=temp)\n",
        "# ... until done\n"
      ]
    },
    {
      "cell_type": "code",
      "execution_count": null,
      "metadata": {
        "colab": {
          "base_uri": "https://localhost:8080/",
          "height": 34
        },
        "id": "Lc4U5X4qBQEV",
        "outputId": "39dee94b-f07b-4724-de86-c72fba85ecc9"
      },
      "outputs": [
        {
          "output_type": "stream",
          "name": "stdout",
          "text": [
            "✅ Processed samples 20 to 24 with temperature=0\n"
          ]
        }
      ],
      "source": [
        "fewshot_data = random.sample(list(full_validation), 3)\n",
        "outputs += run_gemini_in_chunks(dataset, fewshot_data, chunk_size=chunk, temperature=temp)\n",
        "# ... until done\n"
      ]
    },
    {
      "cell_type": "code",
      "execution_count": null,
      "metadata": {
        "colab": {
          "base_uri": "https://localhost:8080/",
          "height": 34
        },
        "id": "4XoRkIJJBQEW",
        "outputId": "86d22fbe-585d-49b2-aff9-4fc9ffbfc3f6"
      },
      "outputs": [
        {
          "output_type": "stream",
          "name": "stdout",
          "text": [
            "✅ Processed samples 25 to 29 with temperature=0\n"
          ]
        }
      ],
      "source": [
        "fewshot_data = random.sample(list(full_validation), 3)\n",
        "outputs += run_gemini_in_chunks(dataset, fewshot_data, chunk_size=chunk, temperature=temp)\n",
        "# ... until done\n"
      ]
    },
    {
      "cell_type": "code",
      "execution_count": null,
      "metadata": {
        "colab": {
          "base_uri": "https://localhost:8080/",
          "height": 34
        },
        "id": "_Sqh0cgWBQcr",
        "outputId": "0fb94450-eda4-46ff-8ade-74f610fa6052"
      },
      "outputs": [
        {
          "output_type": "stream",
          "name": "stdout",
          "text": [
            "✅ Processed samples 30 to 34 with temperature=0\n"
          ]
        }
      ],
      "source": [
        "fewshot_data = random.sample(list(full_validation), 3)\n",
        "outputs += run_gemini_in_chunks(dataset, fewshot_data, chunk_size=chunk, temperature=temp)\n",
        "# ... until done\n"
      ]
    },
    {
      "cell_type": "code",
      "execution_count": null,
      "metadata": {
        "colab": {
          "base_uri": "https://localhost:8080/",
          "height": 34
        },
        "id": "PFY0IH_aBQcr",
        "outputId": "cb2fbde1-a211-4743-82e0-36fabf2103fb"
      },
      "outputs": [
        {
          "output_type": "stream",
          "name": "stdout",
          "text": [
            "✅ Processed samples 35 to 39 with temperature=0\n"
          ]
        }
      ],
      "source": [
        "fewshot_data = random.sample(list(full_validation), 3)\n",
        "outputs += run_gemini_in_chunks(dataset, fewshot_data, chunk_size=chunk, temperature=temp)\n",
        "# ... until done\n"
      ]
    },
    {
      "cell_type": "code",
      "execution_count": null,
      "metadata": {
        "colab": {
          "base_uri": "https://localhost:8080/",
          "height": 34
        },
        "id": "X1s405xKBQi-",
        "outputId": "86678eca-85f8-4987-ee69-92504ce6735f"
      },
      "outputs": [
        {
          "output_type": "stream",
          "name": "stdout",
          "text": [
            "✅ Processed samples 40 to 44 with temperature=0\n"
          ]
        }
      ],
      "source": [
        "fewshot_data = random.sample(list(full_validation), 3)\n",
        "outputs += run_gemini_in_chunks(dataset, fewshot_data, chunk_size=chunk, temperature=temp)\n",
        "# ... until done\n"
      ]
    },
    {
      "cell_type": "code",
      "execution_count": null,
      "metadata": {
        "colab": {
          "base_uri": "https://localhost:8080/",
          "height": 34
        },
        "id": "mDdmv8NXBQi_",
        "outputId": "227a6e0b-78fe-404c-9d1f-0148d10fdf93"
      },
      "outputs": [
        {
          "output_type": "stream",
          "name": "stdout",
          "text": [
            "✅ Processed samples 45 to 49 with temperature=0\n"
          ]
        }
      ],
      "source": [
        "fewshot_data = random.sample(list(full_validation), 3)\n",
        "outputs += run_gemini_in_chunks(dataset, fewshot_data, chunk_size=chunk, temperature=temp)\n",
        "# ... until done\n"
      ]
    },
    {
      "cell_type": "code",
      "execution_count": null,
      "metadata": {
        "colab": {
          "base_uri": "https://localhost:8080/",
          "height": 34
        },
        "id": "2XpvQOixyccS",
        "outputId": "ad3f12f6-48fe-4149-c8e7-28e96217e82d"
      },
      "outputs": [
        {
          "output_type": "stream",
          "name": "stdout",
          "text": [
            "✅ Processed samples 50 to 54 with temperature=0\n"
          ]
        }
      ],
      "source": [
        "fewshot_data = random.sample(list(full_validation), 3)\n",
        "outputs += run_gemini_in_chunks(dataset, fewshot_data, chunk_size=chunk, temperature=temp)\n",
        "# ... until done\n"
      ]
    },
    {
      "cell_type": "code",
      "execution_count": null,
      "metadata": {
        "colab": {
          "base_uri": "https://localhost:8080/",
          "height": 34
        },
        "id": "z8awKD9oyccT",
        "outputId": "5f6bb6db-35bd-4cd9-dd78-2eeb9d9cf04e"
      },
      "outputs": [
        {
          "output_type": "stream",
          "name": "stdout",
          "text": [
            "✅ Processed samples 55 to 59 with temperature=0\n"
          ]
        }
      ],
      "source": [
        "fewshot_data = random.sample(list(full_validation), 3)\n",
        "outputs += run_gemini_in_chunks(dataset, fewshot_data, chunk_size=chunk, temperature=temp)\n",
        "# ... until done\n"
      ]
    },
    {
      "cell_type": "code",
      "execution_count": null,
      "metadata": {
        "colab": {
          "base_uri": "https://localhost:8080/",
          "height": 34
        },
        "id": "nctjRvaOyccT",
        "outputId": "4db9c01b-b3f8-4507-b7d4-f85d978b0866"
      },
      "outputs": [
        {
          "output_type": "stream",
          "name": "stdout",
          "text": [
            "✅ Processed samples 60 to 64 with temperature=0\n"
          ]
        }
      ],
      "source": [
        "fewshot_data = random.sample(list(full_validation), 3)\n",
        "outputs += run_gemini_in_chunks(dataset, fewshot_data, chunk_size=chunk, temperature=temp)\n",
        "# ... until done\n"
      ]
    },
    {
      "cell_type": "code",
      "execution_count": null,
      "metadata": {
        "colab": {
          "base_uri": "https://localhost:8080/",
          "height": 34
        },
        "id": "yIWCvVXayccT",
        "outputId": "b61daa67-44f7-4794-d3be-be8ad2e32bbb"
      },
      "outputs": [
        {
          "output_type": "stream",
          "name": "stdout",
          "text": [
            "✅ Processed samples 65 to 69 with temperature=0\n"
          ]
        }
      ],
      "source": [
        "fewshot_data = random.sample(list(full_validation), 3)\n",
        "outputs += run_gemini_in_chunks(dataset, fewshot_data, chunk_size=chunk, temperature=temp)\n",
        "# ... until done\n"
      ]
    },
    {
      "cell_type": "code",
      "execution_count": null,
      "metadata": {
        "colab": {
          "base_uri": "https://localhost:8080/",
          "height": 34
        },
        "id": "THI8zclIyccT",
        "outputId": "4e214ac3-35b9-4f8f-c191-5df078c994b1"
      },
      "outputs": [
        {
          "output_type": "stream",
          "name": "stdout",
          "text": [
            "✅ Processed samples 70 to 74 with temperature=0\n"
          ]
        }
      ],
      "source": [
        "fewshot_data = random.sample(list(full_validation), 3)\n",
        "outputs += run_gemini_in_chunks(dataset, fewshot_data, chunk_size=chunk, temperature=temp)\n",
        "# ... until done\n"
      ]
    },
    {
      "cell_type": "code",
      "execution_count": null,
      "metadata": {
        "colab": {
          "base_uri": "https://localhost:8080/",
          "height": 34
        },
        "id": "JmfgeTbvyccT",
        "outputId": "f30de1e3-534a-44f5-e0b7-e8b2b836742d"
      },
      "outputs": [
        {
          "output_type": "stream",
          "name": "stdout",
          "text": [
            "✅ Processed samples 75 to 79 with temperature=0\n"
          ]
        }
      ],
      "source": [
        "fewshot_data = random.sample(list(full_validation), 3)\n",
        "outputs += run_gemini_in_chunks(dataset, fewshot_data, chunk_size=chunk, temperature=temp)\n",
        "# ... until done\n"
      ]
    },
    {
      "cell_type": "code",
      "execution_count": null,
      "metadata": {
        "colab": {
          "base_uri": "https://localhost:8080/",
          "height": 34
        },
        "id": "J9sygNKOyccT",
        "outputId": "8ded68ca-16d2-43b3-b9fb-9b1b74e9ec51"
      },
      "outputs": [
        {
          "output_type": "stream",
          "name": "stdout",
          "text": [
            "✅ Processed samples 80 to 84 with temperature=0\n"
          ]
        }
      ],
      "source": [
        "fewshot_data = random.sample(list(full_validation), 3)\n",
        "outputs += run_gemini_in_chunks(dataset, fewshot_data, chunk_size=chunk, temperature=temp)\n",
        "# ... until done\n"
      ]
    },
    {
      "cell_type": "code",
      "execution_count": null,
      "metadata": {
        "colab": {
          "base_uri": "https://localhost:8080/",
          "height": 52
        },
        "id": "pipU6lNVyccT",
        "outputId": "84bef428-571c-460d-bf3c-8d08bad1d100"
      },
      "outputs": [
        {
          "output_type": "stream",
          "name": "stderr",
          "text": [
            "ERROR:tornado.access:503 POST /v1beta/models/gemini-2.5-pro:generateContent?%24alt=json%3Benum-encoding%3Dint (127.0.0.1) 4772.84ms\n"
          ]
        },
        {
          "output_type": "stream",
          "name": "stdout",
          "text": [
            "✅ Processed samples 85 to 89 with temperature=0\n"
          ]
        }
      ],
      "source": [
        "fewshot_data = random.sample(list(full_validation), 3)\n",
        "outputs += run_gemini_in_chunks(dataset, fewshot_data, chunk_size=chunk, temperature=temp)\n",
        "# ... until done\n"
      ]
    },
    {
      "cell_type": "code",
      "execution_count": null,
      "metadata": {
        "colab": {
          "base_uri": "https://localhost:8080/",
          "height": 34
        },
        "id": "KMA-fpf_yccT",
        "outputId": "8d950551-cc6f-41d5-d8ba-b7f6c14faad9"
      },
      "outputs": [
        {
          "output_type": "stream",
          "name": "stdout",
          "text": [
            "✅ Processed samples 90 to 94 with temperature=0\n"
          ]
        }
      ],
      "source": [
        "fewshot_data = random.sample(list(full_validation), 3)\n",
        "outputs += run_gemini_in_chunks(dataset, fewshot_data, chunk_size=chunk, temperature=temp)\n",
        "# ... until done\n"
      ]
    },
    {
      "cell_type": "code",
      "execution_count": null,
      "metadata": {
        "colab": {
          "base_uri": "https://localhost:8080/",
          "height": 34
        },
        "id": "7Hw4I0dvyccT",
        "outputId": "a22cb320-fec0-4767-ec46-7a3a07810ce0"
      },
      "outputs": [
        {
          "output_type": "stream",
          "name": "stdout",
          "text": [
            "✅ Processed samples 95 to 99 with temperature=0\n"
          ]
        }
      ],
      "source": [
        "fewshot_data = random.sample(list(full_validation), 3)\n",
        "outputs += run_gemini_in_chunks(dataset, fewshot_data, chunk_size=chunk, temperature=temp)\n",
        "# ... until done\n"
      ]
    },
    {
      "cell_type": "code",
      "execution_count": null,
      "metadata": {
        "colab": {
          "base_uri": "https://localhost:8080/"
        },
        "id": "fAhJeOMsyeun",
        "outputId": "1e29001e-f141-4d9d-be73-cbd588c69de2"
      },
      "outputs": [
        {
          "output_type": "stream",
          "name": "stdout",
          "text": [
            "✅ All samples have been processed.\n"
          ]
        }
      ],
      "source": [
        "fewshot_data = random.sample(list(full_validation), 3)\n",
        "outputs += run_gemini_in_chunks(dataset, fewshot_data, chunk_size=chunk, temperature=temp)\n",
        "# ... until done\n"
      ]
    },
    {
      "cell_type": "code",
      "execution_count": null,
      "metadata": {
        "colab": {
          "base_uri": "https://localhost:8080/"
        },
        "id": "_KdCAOMPyeuo",
        "outputId": "37f449db-628d-4133-9b16-8df329722a3c"
      },
      "outputs": [
        {
          "output_type": "stream",
          "name": "stdout",
          "text": [
            "✅ All samples have been processed.\n"
          ]
        }
      ],
      "source": [
        "fewshot_data = random.sample(list(full_validation), 3)\n",
        "outputs += run_gemini_in_chunks(dataset, fewshot_data, chunk_size=chunk, temperature=temp)\n",
        "# ... until done\n"
      ]
    },
    {
      "cell_type": "code",
      "execution_count": null,
      "metadata": {
        "colab": {
          "base_uri": "https://localhost:8080/"
        },
        "id": "XsR1o8CAyeuo",
        "outputId": "fd323eda-104d-4393-da04-264e8f5871b2"
      },
      "outputs": [
        {
          "output_type": "stream",
          "name": "stdout",
          "text": [
            "✅ All samples have been processed.\n"
          ]
        }
      ],
      "source": [
        "fewshot_data = random.sample(list(full_validation), 3)\n",
        "outputs += run_gemini_in_chunks(dataset, fewshot_data, chunk_size=chunk, temperature=temp)\n",
        "# ... until done\n"
      ]
    },
    {
      "cell_type": "code",
      "execution_count": null,
      "metadata": {
        "colab": {
          "base_uri": "https://localhost:8080/"
        },
        "id": "HTbv8p66yeuo",
        "outputId": "db2ccd20-aaf8-4f0d-d0fa-f96ff9bb5f22"
      },
      "outputs": [
        {
          "output_type": "stream",
          "name": "stdout",
          "text": [
            "✅ All samples have been processed.\n"
          ]
        }
      ],
      "source": [
        "fewshot_data = random.sample(list(full_validation), 3)\n",
        "outputs += run_gemini_in_chunks(dataset, fewshot_data, chunk_size=chunk, temperature=temp)\n",
        "# ... until done\n"
      ]
    },
    {
      "cell_type": "code",
      "execution_count": null,
      "metadata": {
        "colab": {
          "base_uri": "https://localhost:8080/"
        },
        "id": "cheG5J0Wyeuo",
        "outputId": "c4b9ccf6-b8d5-4107-ab7d-6a5bbe60d0b3"
      },
      "outputs": [
        {
          "output_type": "stream",
          "name": "stdout",
          "text": [
            "✅ All samples have been processed.\n"
          ]
        }
      ],
      "source": [
        "fewshot_data = random.sample(list(full_validation), 3)\n",
        "outputs += run_gemini_in_chunks(dataset, fewshot_data, chunk_size=chunk, temperature=temp)\n",
        "# ... until done\n"
      ]
    },
    {
      "cell_type": "code",
      "execution_count": null,
      "metadata": {
        "colab": {
          "base_uri": "https://localhost:8080/"
        },
        "id": "O26tgOwDyeuo",
        "outputId": "e4cb5034-d5a1-4954-d9e7-fa82942dc7ac"
      },
      "outputs": [
        {
          "output_type": "stream",
          "name": "stdout",
          "text": [
            "✅ All samples have been processed.\n"
          ]
        }
      ],
      "source": [
        "fewshot_data = random.sample(list(full_validation), 3)\n",
        "outputs += run_gemini_in_chunks(dataset, fewshot_data, chunk_size=chunk, temperature=temp)\n",
        "# ... until done\n"
      ]
    },
    {
      "cell_type": "code",
      "execution_count": null,
      "metadata": {
        "colab": {
          "base_uri": "https://localhost:8080/"
        },
        "id": "ILIM6mBlyeuo",
        "outputId": "de7e2454-6a8b-4968-c24d-b8635b917fdc"
      },
      "outputs": [
        {
          "output_type": "stream",
          "name": "stdout",
          "text": [
            "✅ All samples have been processed.\n"
          ]
        }
      ],
      "source": [
        "fewshot_data = random.sample(list(full_validation), 3)\n",
        "outputs += run_gemini_in_chunks(dataset, fewshot_data, chunk_size=chunk, temperature=temp)\n",
        "# ... until done\n"
      ]
    },
    {
      "cell_type": "code",
      "execution_count": null,
      "metadata": {
        "colab": {
          "base_uri": "https://localhost:8080/"
        },
        "id": "_xqA-wKjyeuo",
        "outputId": "c9c57f50-4afa-4d49-f212-66e9c9b5ccb1"
      },
      "outputs": [
        {
          "output_type": "stream",
          "name": "stdout",
          "text": [
            "✅ All samples have been processed.\n"
          ]
        }
      ],
      "source": [
        "fewshot_data = random.sample(list(full_validation), 3)\n",
        "outputs += run_gemini_in_chunks(dataset, fewshot_data, chunk_size=chunk, temperature=temp)\n",
        "# ... until done\n"
      ]
    },
    {
      "cell_type": "code",
      "execution_count": null,
      "metadata": {
        "colab": {
          "base_uri": "https://localhost:8080/"
        },
        "id": "PHLKDe3iyeuo",
        "outputId": "53043aa0-8ddb-4161-e284-ce3dd10187cf"
      },
      "outputs": [
        {
          "output_type": "stream",
          "name": "stdout",
          "text": [
            "✅ All samples have been processed.\n"
          ]
        }
      ],
      "source": [
        "fewshot_data = random.sample(list(full_validation), 3)\n",
        "outputs += run_gemini_in_chunks(dataset, fewshot_data, chunk_size=chunk, temperature=temp)\n",
        "# ... until done\n"
      ]
    },
    {
      "cell_type": "code",
      "execution_count": null,
      "metadata": {
        "colab": {
          "base_uri": "https://localhost:8080/"
        },
        "id": "avI44TVgyeup",
        "outputId": "759e138e-62b6-42c8-dfe2-28c182cc5a24"
      },
      "outputs": [
        {
          "output_type": "stream",
          "name": "stdout",
          "text": [
            "✅ All samples have been processed.\n"
          ]
        }
      ],
      "source": [
        "fewshot_data = random.sample(list(full_validation), 3)\n",
        "outputs += run_gemini_in_chunks(dataset, fewshot_data, chunk_size=chunk, temperature=temp)\n",
        "# ... until done\n"
      ]
    },
    {
      "cell_type": "code",
      "execution_count": null,
      "metadata": {
        "colab": {
          "base_uri": "https://localhost:8080/"
        },
        "id": "nlaB_HV1yhGQ",
        "outputId": "58e2fb3f-c7ce-4534-c8b5-ac69acd937a9"
      },
      "outputs": [
        {
          "output_type": "stream",
          "name": "stdout",
          "text": [
            "✅ All samples have been processed.\n"
          ]
        }
      ],
      "source": [
        "fewshot_data = random.sample(list(full_validation), 3)\n",
        "outputs += run_gemini_in_chunks(dataset, fewshot_data, chunk_size=chunk, temperature=temp)\n",
        "# ... until done\n"
      ]
    },
    {
      "cell_type": "code",
      "execution_count": null,
      "metadata": {
        "colab": {
          "base_uri": "https://localhost:8080/"
        },
        "id": "kXZDI4TRyhGR",
        "outputId": "eeff3fda-1280-45e5-af9b-1955ce24bb10"
      },
      "outputs": [
        {
          "output_type": "stream",
          "name": "stdout",
          "text": [
            "✅ All samples have been processed.\n"
          ]
        }
      ],
      "source": [
        "fewshot_data = random.sample(list(full_validation), 3)\n",
        "outputs += run_gemini_in_chunks(dataset, fewshot_data, chunk_size=chunk, temperature=temp)\n",
        "# ... until done\n"
      ]
    },
    {
      "cell_type": "code",
      "execution_count": null,
      "metadata": {
        "colab": {
          "base_uri": "https://localhost:8080/"
        },
        "id": "m1zzmPhvyhGR",
        "outputId": "13dae428-6ac7-43e4-fc97-b75301b3c11d"
      },
      "outputs": [
        {
          "output_type": "stream",
          "name": "stdout",
          "text": [
            "✅ All samples have been processed.\n"
          ]
        }
      ],
      "source": [
        "fewshot_data = random.sample(list(full_validation), 3)\n",
        "outputs += run_gemini_in_chunks(dataset, fewshot_data, chunk_size=chunk, temperature=temp)\n",
        "# ... until done\n"
      ]
    },
    {
      "cell_type": "code",
      "execution_count": null,
      "metadata": {
        "colab": {
          "base_uri": "https://localhost:8080/"
        },
        "id": "hetzDwGWyhGR",
        "outputId": "fe6febf6-c6ec-4e80-a95c-25edbf28d460"
      },
      "outputs": [
        {
          "output_type": "stream",
          "name": "stdout",
          "text": [
            "✅ All samples have been processed.\n"
          ]
        }
      ],
      "source": [
        "fewshot_data = random.sample(list(full_validation), 3)\n",
        "outputs += run_gemini_in_chunks(dataset, fewshot_data, chunk_size=chunk, temperature=temp)\n",
        "# ... until done\n"
      ]
    },
    {
      "cell_type": "code",
      "execution_count": null,
      "metadata": {
        "colab": {
          "base_uri": "https://localhost:8080/"
        },
        "id": "xEVNJZSOyhGR",
        "outputId": "ac951d69-7243-4a23-9942-3f3d890582ea"
      },
      "outputs": [
        {
          "output_type": "stream",
          "name": "stdout",
          "text": [
            "✅ All samples have been processed.\n"
          ]
        }
      ],
      "source": [
        "fewshot_data = random.sample(list(full_validation), 3)\n",
        "outputs += run_gemini_in_chunks(dataset, fewshot_data, chunk_size=chunk, temperature=temp)\n",
        "# ... until done\n"
      ]
    },
    {
      "cell_type": "code",
      "execution_count": null,
      "metadata": {
        "colab": {
          "base_uri": "https://localhost:8080/"
        },
        "id": "O4qnd5DYyhGR",
        "outputId": "3aaf3475-804f-4cf1-9037-397bbd42f246"
      },
      "outputs": [
        {
          "output_type": "stream",
          "name": "stdout",
          "text": [
            "✅ All samples have been processed.\n"
          ]
        }
      ],
      "source": [
        "fewshot_data = random.sample(list(full_validation), 3)\n",
        "outputs += run_gemini_in_chunks(dataset, fewshot_data, chunk_size=chunk, temperature=temp)\n",
        "# ... until done\n"
      ]
    },
    {
      "cell_type": "code",
      "execution_count": null,
      "metadata": {
        "colab": {
          "base_uri": "https://localhost:8080/"
        },
        "id": "tR7T9lMmyhGR",
        "outputId": "f36a9547-d5f6-4711-cfe1-3c9bd78d58f5"
      },
      "outputs": [
        {
          "output_type": "stream",
          "name": "stdout",
          "text": [
            "✅ All samples have been processed.\n"
          ]
        }
      ],
      "source": [
        "fewshot_data = random.sample(list(full_validation), 3)\n",
        "outputs += run_gemini_in_chunks(dataset, fewshot_data, chunk_size=chunk, temperature=temp)\n",
        "# ... until done\n"
      ]
    },
    {
      "cell_type": "code",
      "execution_count": null,
      "metadata": {
        "colab": {
          "base_uri": "https://localhost:8080/"
        },
        "id": "mvHl02pZyhGR",
        "outputId": "1ca348df-0728-4b89-b188-92a2024c6880"
      },
      "outputs": [
        {
          "output_type": "stream",
          "name": "stdout",
          "text": [
            "✅ All samples have been processed.\n"
          ]
        }
      ],
      "source": [
        "fewshot_data = random.sample(list(full_validation), 3)\n",
        "outputs += run_gemini_in_chunks(dataset, fewshot_data, chunk_size=chunk, temperature=temp)\n",
        "# ... until done\n"
      ]
    },
    {
      "cell_type": "code",
      "execution_count": null,
      "metadata": {
        "colab": {
          "base_uri": "https://localhost:8080/"
        },
        "id": "2CxdviPQyhGS",
        "outputId": "98eb498d-0634-4330-9611-2aa9df5b1f9f"
      },
      "outputs": [
        {
          "output_type": "stream",
          "name": "stdout",
          "text": [
            "✅ All samples have been processed.\n"
          ]
        }
      ],
      "source": [
        "fewshot_data = random.sample(list(full_validation), 3)\n",
        "outputs += run_gemini_in_chunks(dataset, fewshot_data, chunk_size=chunk, temperature=temp)\n",
        "# ... until done\n"
      ]
    },
    {
      "cell_type": "code",
      "execution_count": null,
      "metadata": {
        "colab": {
          "base_uri": "https://localhost:8080/"
        },
        "id": "PnjQpjAnyhGS",
        "outputId": "38155bac-dae0-4a9e-e683-b6544c706445"
      },
      "outputs": [
        {
          "output_type": "stream",
          "name": "stdout",
          "text": [
            "✅ All samples have been processed.\n"
          ]
        }
      ],
      "source": [
        "fewshot_data = random.sample(list(full_validation), 3)\n",
        "outputs += run_gemini_in_chunks(dataset, fewshot_data, chunk_size=chunk, temperature=temp)\n",
        "# ... until done\n"
      ]
    },
    {
      "cell_type": "code",
      "execution_count": null,
      "metadata": {
        "colab": {
          "base_uri": "https://localhost:8080/"
        },
        "id": "K6-cHEgPP21D",
        "outputId": "9c6107e3-f9fe-4738-d450-d5028fc567e2"
      },
      "outputs": [
        {
          "output_type": "stream",
          "name": "stdout",
          "text": [
            "Accuracy (majority gold): 0.56\n",
            "Macro-F1:                 0.5335324966472508\n",
            "Custom Accuracy (any annotator agrees): 0.76\n"
          ]
        }
      ],
      "source": [
        "evaluate_outputs(dataset, outputs)\n"
      ]
    },
    {
      "cell_type": "code",
      "execution_count": null,
      "metadata": {
        "colab": {
          "base_uri": "https://localhost:8080/",
          "height": 513
        },
        "id": "sFy-4mrJQm39",
        "outputId": "13f65315-8fdf-47c2-a9be-c0033b335ca7"
      },
      "outputs": [
        {
          "output_type": "display_data",
          "data": {
            "text/plain": [
              "<Figure size 600x600 with 2 Axes>"
            ],
            "image/png": "[encoded data removed]"
          },
          "metadata": {}
        }
      ],
      "source": [
        "plot_confusion_matrix_from_outputs(dataset, outputs)\n"
      ]
    },
    {
      "cell_type": "code",
      "execution_count": null,
      "metadata": {
        "colab": {
          "base_uri": "https://localhost:8080/"
        },
        "id": "2Ng_UoX9T9kb",
        "outputId": "3cb8cceb-652f-46b3-9d7b-fe9baacadcba"
      },
      "outputs": [
        {
          "output_type": "stream",
          "name": "stdout",
          "text": [
            "\n",
            "📄 Input Text (Sample #4):\n",
            "true story nigger tryed to run me over in a car at a party missed and killed a girl hung himself in jail\n",
            "\n",
            "🧠 Full Model Output:\n",
            "```json\n",
            "{\"label\": \"hatespeech\", \"explanation\": \"The post uses a derogatory racial slur to describe an individual, which constitutes an attack on a group based on race.\"\n",
            "}\n",
            "```\n",
            "\n",
            "🔎 Extracted Prediction:\n",
            "   Label       : hatespeech\n",
            "   Explanation : The post uses a derogatory racial slur to describe an individual, which constitutes an attack on a group based on race.\n",
            "\n",
            "🧑‍⚖️ Annotator Labels:\n",
            "   Numeric     : [0, 0, 0]\n",
            "   Mapped      : ['hatespeech', 'hatespeech', 'hatespeech']\n",
            "   Majority    : hatespeech\n"
          ]
        }
      ],
      "source": [
        "print_sample_info(dataset, outputs, index=4)              # ← Specific sample\n"
      ]
    },
    {
      "cell_type": "code",
      "execution_count": null,
      "metadata": {
        "colab": {
          "base_uri": "https://localhost:8080/"
        },
        "id": "UO9XNSXLfUls",
        "outputId": "f0e9e63b-8ed7-4cda-e3b5-d15902a0a84a"
      },
      "outputs": [
        {
          "output_type": "stream",
          "name": "stdout",
          "text": [
            "🎯 Random sample with predicted label 'hatespeech': index 90\n",
            "\n",
            "📄 Input Text (Sample #90):\n",
            "muzzies should be kicked out of the usa these barbarian goathumpers and wifebeaters add nothing to american society send them back to the shithole they came here from they are her for the free stuff and have on intention of assimilating\n",
            "\n",
            "🧠 Full Model Output:\n",
            "```json\n",
            "{\n",
            "  \"label\": \"hatespeech\",\n",
            "  \"explanation\": \"The text uses a derogatory slur ('muzzies') and dehumanizing language ('barbarian goathumpers') to attack a religious group and calls for their expulsion, which incites hatred against a group based on religion.\"\n",
            "}\n",
            "```\n",
            "\n",
            "🔎 Extracted Prediction:\n",
            "   Label       : hatespeech\n",
            "   Explanation : The text uses a derogatory slur ('muzzies') and dehumanizing language ('barbarian goathumpers') to attack a religious group and calls for their expulsion, which incites hatred against a group based on religion.\n",
            "\n",
            "🧑‍⚖️ Annotator Labels:\n",
            "   Numeric     : [0, 0, 0]\n",
            "   Mapped      : ['hatespeech', 'hatespeech', 'hatespeech']\n",
            "   Majority    : hatespeech\n"
          ]
        }
      ],
      "source": [
        "print_sample_info(dataset, outputs, label=\"hatespeech\")    # ← Random predicted match\n"
      ]
    }
  ],
  "metadata": {
    "colab": {
      "provenance": [],
      "machine_shape": "hm",
      "gpuType": "T4"
    },
    "kernelspec": {
      "display_name": "Python 3",
      "name": "python3"
    },
    "language_info": {
      "name": "python"
    },
    "accelerator": "GPU",
    "widgets": {
      "application/vnd.jupyter.widget-state+json": {
        "1788ad4d2a354483bd2e02075e725778": {
          "model_module": "@jupyter-widgets/controls",
          "model_name": "HBoxModel",
          "model_module_version": "1.5.0",
          "state": {
            "_dom_classes": [],
            "_model_module": "@jupyter-widgets/controls",
            "_model_module_version": "1.5.0",
            "_model_name": "HBoxModel",
            "_view_count": null,
            "_view_module": "@jupyter-widgets/controls",
            "_view_module_version": "1.5.0",
            "_view_name": "HBoxView",
            "box_style": "",
            "children": [
              "IPY_MODEL_6c722c2a890f421288159e83d90a379d",
              "IPY_MODEL_7da2bde217fd45b99af6f81dfde31519",
              "IPY_MODEL_fd1b1aff8b124ce0b17ce4e102d5229b"
            ],
            "layout": "IPY_MODEL_a86e01de98fa4748ab71cb2241e9ae36"
          }
        },
        "6c722c2a890f421288159e83d90a379d": {
          "model_module": "@jupyter-widgets/controls",
          "model_name": "HTMLModel",
          "model_module_version": "1.5.0",
          "state": {
            "_dom_classes": [],
            "_model_module": "@jupyter-widgets/controls",
            "_model_module_version": "1.5.0",
            "_model_name": "HTMLModel",
            "_view_count": null,
            "_view_module": "@jupyter-widgets/controls",
            "_view_module_version": "1.5.0",
            "_view_name": "HTMLView",
            "description": "",
            "description_tooltip": null,
            "layout": "IPY_MODEL_40d48853fbc74ab1ae8166ebf78ad998",
            "placeholder": "​",
            "style": "IPY_MODEL_70116b7fdec8498d9f2c4e5b1b7b8652",
            "value": "README.md: "
          }
        },
        "7da2bde217fd45b99af6f81dfde31519": {
          "model_module": "@jupyter-widgets/controls",
          "model_name": "FloatProgressModel",
          "model_module_version": "1.5.0",
          "state": {
            "_dom_classes": [],
            "_model_module": "@jupyter-widgets/controls",
            "_model_module_version": "1.5.0",
            "_model_name": "FloatProgressModel",
            "_view_count": null,
            "_view_module": "@jupyter-widgets/controls",
            "_view_module_version": "1.5.0",
            "_view_name": "ProgressView",
            "bar_style": "success",
            "description": "",
            "description_tooltip": null,
            "layout": "IPY_MODEL_9939fb7c1be24cab9db7dfbc8d95f73e",
            "max": 1,
            "min": 0,
            "orientation": "horizontal",
            "style": "IPY_MODEL_a786f336c0834007a362093af2bf9a6b",
            "value": 1
          }
        },
        "fd1b1aff8b124ce0b17ce4e102d5229b": {
          "model_module": "@jupyter-widgets/controls",
          "model_name": "HTMLModel",
          "model_module_version": "1.5.0",
          "state": {
            "_dom_classes": [],
            "_model_module": "@jupyter-widgets/controls",
            "_model_module_version": "1.5.0",
            "_model_name": "HTMLModel",
            "_view_count": null,
            "_view_module": "@jupyter-widgets/controls",
            "_view_module_version": "1.5.0",
            "_view_name": "HTMLView",
            "description": "",
            "description_tooltip": null,
            "layout": "IPY_MODEL_d9a8315d8d8a40109f56485fbdd72b99",
            "placeholder": "​",
            "style": "IPY_MODEL_c3b9b3f6c55047408e67e07f39ff0c19",
            "value": " 10.1k/? [00:00&lt;00:00, 602kB/s]"
          }
        },
        "a86e01de98fa4748ab71cb2241e9ae36": {
          "model_module": "@jupyter-widgets/base",
          "model_name": "LayoutModel",
          "model_module_version": "1.2.0",
          "state": {
            "_model_module": "@jupyter-widgets/base",
            "_model_module_version": "1.2.0",
            "_model_name": "LayoutModel",
            "_view_count": null,
            "_view_module": "@jupyter-widgets/base",
            "_view_module_version": "1.2.0",
            "_view_name": "LayoutView",
            "align_content": null,
            "align_items": null,
            "align_self": null,
            "border": null,
            "bottom": null,
            "display": null,
            "flex": null,
            "flex_flow": null,
            "grid_area": null,
            "grid_auto_columns": null,
            "grid_auto_flow": null,
            "grid_auto_rows": null,
            "grid_column": null,
            "grid_gap": null,
            "grid_row": null,
            "grid_template_areas": null,
            "grid_template_columns": null,
            "grid_template_rows": null,
            "height": null,
            "justify_content": null,
            "justify_items": null,
            "left": null,
            "margin": null,
            "max_height": null,
            "max_width": null,
            "min_height": null,
            "min_width": null,
            "object_fit": null,
            "object_position": null,
            "order": null,
            "overflow": null,
            "overflow_x": null,
            "overflow_y": null,
            "padding": null,
            "right": null,
            "top": null,
            "visibility": null,
            "width": null
          }
        },
        "40d48853fbc74ab1ae8166ebf78ad998": {
          "model_module": "@jupyter-widgets/base",
          "model_name": "LayoutModel",
          "model_module_version": "1.2.0",
          "state": {
            "_model_module": "@jupyter-widgets/base",
            "_model_module_version": "1.2.0",
            "_model_name": "LayoutModel",
            "_view_count": null,
            "_view_module": "@jupyter-widgets/base",
            "_view_module_version": "1.2.0",
            "_view_name": "LayoutView",
            "align_content": null,
            "align_items": null,
            "align_self": null,
            "border": null,
            "bottom": null,
            "display": null,
            "flex": null,
            "flex_flow": null,
            "grid_area": null,
            "grid_auto_columns": null,
            "grid_auto_flow": null,
            "grid_auto_rows": null,
            "grid_column": null,
            "grid_gap": null,
            "grid_row": null,
            "grid_template_areas": null,
            "grid_template_columns": null,
            "grid_template_rows": null,
            "height": null,
            "justify_content": null,
            "justify_items": null,
            "left": null,
            "margin": null,
            "max_height": null,
            "max_width": null,
            "min_height": null,
            "min_width": null,
            "object_fit": null,
            "object_position": null,
            "order": null,
            "overflow": null,
            "overflow_x": null,
            "overflow_y": null,
            "padding": null,
            "right": null,
            "top": null,
            "visibility": null,
            "width": null
          }
        },
        "70116b7fdec8498d9f2c4e5b1b7b8652": {
          "model_module": "@jupyter-widgets/controls",
          "model_name": "DescriptionStyleModel",
          "model_module_version": "1.5.0",
          "state": {
            "_model_module": "@jupyter-widgets/controls",
            "_model_module_version": "1.5.0",
            "_model_name": "DescriptionStyleModel",
            "_view_count": null,
            "_view_module": "@jupyter-widgets/base",
            "_view_module_version": "1.2.0",
            "_view_name": "StyleView",
            "description_width": ""
          }
        },
        "9939fb7c1be24cab9db7dfbc8d95f73e": {
          "model_module": "@jupyter-widgets/base",
          "model_name": "LayoutModel",
          "model_module_version": "1.2.0",
          "state": {
            "_model_module": "@jupyter-widgets/base",
            "_model_module_version": "1.2.0",
            "_model_name": "LayoutModel",
            "_view_count": null,
            "_view_module": "@jupyter-widgets/base",
            "_view_module_version": "1.2.0",
            "_view_name": "LayoutView",
            "align_content": null,
            "align_items": null,
            "align_self": null,
            "border": null,
            "bottom": null,
            "display": null,
            "flex": null,
            "flex_flow": null,
            "grid_area": null,
            "grid_auto_columns": null,
            "grid_auto_flow": null,
            "grid_auto_rows": null,
            "grid_column": null,
            "grid_gap": null,
            "grid_row": null,
            "grid_template_areas": null,
            "grid_template_columns": null,
            "grid_template_rows": null,
            "height": null,
            "justify_content": null,
            "justify_items": null,
            "left": null,
            "margin": null,
            "max_height": null,
            "max_width": null,
            "min_height": null,
            "min_width": null,
            "object_fit": null,
            "object_position": null,
            "order": null,
            "overflow": null,
            "overflow_x": null,
            "overflow_y": null,
            "padding": null,
            "right": null,
            "top": null,
            "visibility": null,
            "width": "20px"
          }
        },
        "a786f336c0834007a362093af2bf9a6b": {
          "model_module": "@jupyter-widgets/controls",
          "model_name": "ProgressStyleModel",
          "model_module_version": "1.5.0",
          "state": {
            "_model_module": "@jupyter-widgets/controls",
            "_model_module_version": "1.5.0",
            "_model_name": "ProgressStyleModel",
            "_view_count": null,
            "_view_module": "@jupyter-widgets/base",
            "_view_module_version": "1.2.0",
            "_view_name": "StyleView",
            "bar_color": null,
            "description_width": ""
          }
        },
        "d9a8315d8d8a40109f56485fbdd72b99": {
          "model_module": "@jupyter-widgets/base",
          "model_name": "LayoutModel",
          "model_module_version": "1.2.0",
          "state": {
            "_model_module": "@jupyter-widgets/base",
            "_model_module_version": "1.2.0",
            "_model_name": "LayoutModel",
            "_view_count": null,
            "_view_module": "@jupyter-widgets/base",
            "_view_module_version": "1.2.0",
            "_view_name": "LayoutView",
            "align_content": null,
            "align_items": null,
            "align_self": null,
            "border": null,
            "bottom": null,
            "display": null,
            "flex": null,
            "flex_flow": null,
            "grid_area": null,
            "grid_auto_columns": null,
            "grid_auto_flow": null,
            "grid_auto_rows": null,
            "grid_column": null,
            "grid_gap": null,
            "grid_row": null,
            "grid_template_areas": null,
            "grid_template_columns": null,
            "grid_template_rows": null,
            "height": null,
            "justify_content": null,
            "justify_items": null,
            "left": null,
            "margin": null,
            "max_height": null,
            "max_width": null,
            "min_height": null,
            "min_width": null,
            "object_fit": null,
            "object_position": null,
            "order": null,
            "overflow": null,
            "overflow_x": null,
            "overflow_y": null,
            "padding": null,
            "right": null,
            "top": null,
            "visibility": null,
            "width": null
          }
        },
        "c3b9b3f6c55047408e67e07f39ff0c19": {
          "model_module": "@jupyter-widgets/controls",
          "model_name": "DescriptionStyleModel",
          "model_module_version": "1.5.0",
          "state": {
            "_model_module": "@jupyter-widgets/controls",
            "_model_module_version": "1.5.0",
            "_model_name": "DescriptionStyleModel",
            "_view_count": null,
            "_view_module": "@jupyter-widgets/base",
            "_view_module_version": "1.2.0",
            "_view_name": "StyleView",
            "description_width": ""
          }
        },
        "b8668476adba4d0e84150fa75b3c6471": {
          "model_module": "@jupyter-widgets/controls",
          "model_name": "HBoxModel",
          "model_module_version": "1.5.0",
          "state": {
            "_dom_classes": [],
            "_model_module": "@jupyter-widgets/controls",
            "_model_module_version": "1.5.0",
            "_model_name": "HBoxModel",
            "_view_count": null,
            "_view_module": "@jupyter-widgets/controls",
            "_view_module_version": "1.5.0",
            "_view_name": "HBoxView",
            "box_style": "",
            "children": [
              "IPY_MODEL_2333c65df0804345a7a238d17685b2c3",
              "IPY_MODEL_bc27a9c257464ea1a54c6f3068cc7ccc",
              "IPY_MODEL_4d74752b2e58428e8d25a3fc95310414"
            ],
            "layout": "IPY_MODEL_f22e58cd2f2b4ccaaeba94f359edfa30"
          }
        },
        "2333c65df0804345a7a238d17685b2c3": {
          "model_module": "@jupyter-widgets/controls",
          "model_name": "HTMLModel",
          "model_module_version": "1.5.0",
          "state": {
            "_dom_classes": [],
            "_model_module": "@jupyter-widgets/controls",
            "_model_module_version": "1.5.0",
            "_model_name": "HTMLModel",
            "_view_count": null,
            "_view_module": "@jupyter-widgets/controls",
            "_view_module_version": "1.5.0",
            "_view_name": "HTMLView",
            "description": "",
            "description_tooltip": null,
            "layout": "IPY_MODEL_1f80571e8631499383ac4de33aa24600",
            "placeholder": "​",
            "style": "IPY_MODEL_176838386b224ec78a36fa4d757ed58d",
            "value": "hatexplain.py: "
          }
        },
        "bc27a9c257464ea1a54c6f3068cc7ccc": {
          "model_module": "@jupyter-widgets/controls",
          "model_name": "FloatProgressModel",
          "model_module_version": "1.5.0",
          "state": {
            "_dom_classes": [],
            "_model_module": "@jupyter-widgets/controls",
            "_model_module_version": "1.5.0",
            "_model_name": "FloatProgressModel",
            "_view_count": null,
            "_view_module": "@jupyter-widgets/controls",
            "_view_module_version": "1.5.0",
            "_view_name": "ProgressView",
            "bar_style": "success",
            "description": "",
            "description_tooltip": null,
            "layout": "IPY_MODEL_2c377aeb890843ee94b1a34a96503e26",
            "max": 1,
            "min": 0,
            "orientation": "horizontal",
            "style": "IPY_MODEL_0eee0067e0c843ceb042513652d5db69",
            "value": 1
          }
        },
        "4d74752b2e58428e8d25a3fc95310414": {
          "model_module": "@jupyter-widgets/controls",
          "model_name": "HTMLModel",
          "model_module_version": "1.5.0",
          "state": {
            "_dom_classes": [],
            "_model_module": "@jupyter-widgets/controls",
            "_model_module_version": "1.5.0",
            "_model_name": "HTMLModel",
            "_view_count": null,
            "_view_module": "@jupyter-widgets/controls",
            "_view_module_version": "1.5.0",
            "_view_name": "HTMLView",
            "description": "",
            "description_tooltip": null,
            "layout": "IPY_MODEL_ba66b73910fa45dbb574174f62c3d813",
            "placeholder": "​",
            "style": "IPY_MODEL_6d5c75f61edd4c61af68a79666596143",
            "value": " 4.78k/? [00:00&lt;00:00, 357kB/s]"
          }
        },
        "f22e58cd2f2b4ccaaeba94f359edfa30": {
          "model_module": "@jupyter-widgets/base",
          "model_name": "LayoutModel",
          "model_module_version": "1.2.0",
          "state": {
            "_model_module": "@jupyter-widgets/base",
            "_model_module_version": "1.2.0",
            "_model_name": "LayoutModel",
            "_view_count": null,
            "_view_module": "@jupyter-widgets/base",
            "_view_module_version": "1.2.0",
            "_view_name": "LayoutView",
            "align_content": null,
            "align_items": null,
            "align_self": null,
            "border": null,
            "bottom": null,
            "display": null,
            "flex": null,
            "flex_flow": null,
            "grid_area": null,
            "grid_auto_columns": null,
            "grid_auto_flow": null,
            "grid_auto_rows": null,
            "grid_column": null,
            "grid_gap": null,
            "grid_row": null,
            "grid_template_areas": null,
            "grid_template_columns": null,
            "grid_template_rows": null,
            "height": null,
            "justify_content": null,
            "justify_items": null,
            "left": null,
            "margin": null,
            "max_height": null,
            "max_width": null,
            "min_height": null,
            "min_width": null,
            "object_fit": null,
            "object_position": null,
            "order": null,
            "overflow": null,
            "overflow_x": null,
            "overflow_y": null,
            "padding": null,
            "right": null,
            "top": null,
            "visibility": null,
            "width": null
          }
        },
        "1f80571e8631499383ac4de33aa24600": {
          "model_module": "@jupyter-widgets/base",
          "model_name": "LayoutModel",
          "model_module_version": "1.2.0",
          "state": {
            "_model_module": "@jupyter-widgets/base",
            "_model_module_version": "1.2.0",
            "_model_name": "LayoutModel",
            "_view_count": null,
            "_view_module": "@jupyter-widgets/base",
            "_view_module_version": "1.2.0",
            "_view_name": "LayoutView",
            "align_content": null,
            "align_items": null,
            "align_self": null,
            "border": null,
            "bottom": null,
            "display": null,
            "flex": null,
            "flex_flow": null,
            "grid_area": null,
            "grid_auto_columns": null,
            "grid_auto_flow": null,
            "grid_auto_rows": null,
            "grid_column": null,
            "grid_gap": null,
            "grid_row": null,
            "grid_template_areas": null,
            "grid_template_columns": null,
            "grid_template_rows": null,
            "height": null,
            "justify_content": null,
            "justify_items": null,
            "left": null,
            "margin": null,
            "max_height": null,
            "max_width": null,
            "min_height": null,
            "min_width": null,
            "object_fit": null,
            "object_position": null,
            "order": null,
            "overflow": null,
            "overflow_x": null,
            "overflow_y": null,
            "padding": null,
            "right": null,
            "top": null,
            "visibility": null,
            "width": null
          }
        },
        "176838386b224ec78a36fa4d757ed58d": {
          "model_module": "@jupyter-widgets/controls",
          "model_name": "DescriptionStyleModel",
          "model_module_version": "1.5.0",
          "state": {
            "_model_module": "@jupyter-widgets/controls",
            "_model_module_version": "1.5.0",
            "_model_name": "DescriptionStyleModel",
            "_view_count": null,
            "_view_module": "@jupyter-widgets/base",
            "_view_module_version": "1.2.0",
            "_view_name": "StyleView",
            "description_width": ""
          }
        },
        "2c377aeb890843ee94b1a34a96503e26": {
          "model_module": "@jupyter-widgets/base",
          "model_name": "LayoutModel",
          "model_module_version": "1.2.0",
          "state": {
            "_model_module": "@jupyter-widgets/base",
            "_model_module_version": "1.2.0",
            "_model_name": "LayoutModel",
            "_view_count": null,
            "_view_module": "@jupyter-widgets/base",
            "_view_module_version": "1.2.0",
            "_view_name": "LayoutView",
            "align_content": null,
            "align_items": null,
            "align_self": null,
            "border": null,
            "bottom": null,
            "display": null,
            "flex": null,
            "flex_flow": null,
            "grid_area": null,
            "grid_auto_columns": null,
            "grid_auto_flow": null,
            "grid_auto_rows": null,
            "grid_column": null,
            "grid_gap": null,
            "grid_row": null,
            "grid_template_areas": null,
            "grid_template_columns": null,
            "grid_template_rows": null,
            "height": null,
            "justify_content": null,
            "justify_items": null,
            "left": null,
            "margin": null,
            "max_height": null,
            "max_width": null,
            "min_height": null,
            "min_width": null,
            "object_fit": null,
            "object_position": null,
            "order": null,
            "overflow": null,
            "overflow_x": null,
            "overflow_y": null,
            "padding": null,
            "right": null,
            "top": null,
            "visibility": null,
            "width": "20px"
          }
        },
        "0eee0067e0c843ceb042513652d5db69": {
          "model_module": "@jupyter-widgets/controls",
          "model_name": "ProgressStyleModel",
          "model_module_version": "1.5.0",
          "state": {
            "_model_module": "@jupyter-widgets/controls",
            "_model_module_version": "1.5.0",
            "_model_name": "ProgressStyleModel",
            "_view_count": null,
            "_view_module": "@jupyter-widgets/base",
            "_view_module_version": "1.2.0",
            "_view_name": "StyleView",
            "bar_color": null,
            "description_width": ""
          }
        },
        "ba66b73910fa45dbb574174f62c3d813": {
          "model_module": "@jupyter-widgets/base",
          "model_name": "LayoutModel",
          "model_module_version": "1.2.0",
          "state": {
            "_model_module": "@jupyter-widgets/base",
            "_model_module_version": "1.2.0",
            "_model_name": "LayoutModel",
            "_view_count": null,
            "_view_module": "@jupyter-widgets/base",
            "_view_module_version": "1.2.0",
            "_view_name": "LayoutView",
            "align_content": null,
            "align_items": null,
            "align_self": null,
            "border": null,
            "bottom": null,
            "display": null,
            "flex": null,
            "flex_flow": null,
            "grid_area": null,
            "grid_auto_columns": null,
            "grid_auto_flow": null,
            "grid_auto_rows": null,
            "grid_column": null,
            "grid_gap": null,
            "grid_row": null,
            "grid_template_areas": null,
            "grid_template_columns": null,
            "grid_template_rows": null,
            "height": null,
            "justify_content": null,
            "justify_items": null,
            "left": null,
            "margin": null,
            "max_height": null,
            "max_width": null,
            "min_height": null,
            "min_width": null,
            "object_fit": null,
            "object_position": null,
            "order": null,
            "overflow": null,
            "overflow_x": null,
            "overflow_y": null,
            "padding": null,
            "right": null,
            "top": null,
            "visibility": null,
            "width": null
          }
        },
        "6d5c75f61edd4c61af68a79666596143": {
          "model_module": "@jupyter-widgets/controls",
          "model_name": "DescriptionStyleModel",
          "model_module_version": "1.5.0",
          "state": {
            "_model_module": "@jupyter-widgets/controls",
            "_model_module_version": "1.5.0",
            "_model_name": "DescriptionStyleModel",
            "_view_count": null,
            "_view_module": "@jupyter-widgets/base",
            "_view_module_version": "1.2.0",
            "_view_name": "StyleView",
            "description_width": ""
          }
        },
        "fa14836037764e539c8b4d7641a52dd7": {
          "model_module": "@jupyter-widgets/controls",
          "model_name": "HBoxModel",
          "model_module_version": "1.5.0",
          "state": {
            "_dom_classes": [],
            "_model_module": "@jupyter-widgets/controls",
            "_model_module_version": "1.5.0",
            "_model_name": "HBoxModel",
            "_view_count": null,
            "_view_module": "@jupyter-widgets/controls",
            "_view_module_version": "1.5.0",
            "_view_name": "HBoxView",
            "box_style": "",
            "children": [
              "IPY_MODEL_a8c039c0223b4ae2b1f8bfda540f51fb",
              "IPY_MODEL_7c343b72a2b74ae69ccb3ea1de671e71",
              "IPY_MODEL_c6af379f074c45c59ec76c09d1de714e"
            ],
            "layout": "IPY_MODEL_cbcf6bd2d8434cc9bbf7bd4279cba1cf"
          }
        },
        "a8c039c0223b4ae2b1f8bfda540f51fb": {
          "model_module": "@jupyter-widgets/controls",
          "model_name": "HTMLModel",
          "model_module_version": "1.5.0",
          "state": {
            "_dom_classes": [],
            "_model_module": "@jupyter-widgets/controls",
            "_model_module_version": "1.5.0",
            "_model_name": "HTMLModel",
            "_view_count": null,
            "_view_module": "@jupyter-widgets/controls",
            "_view_module_version": "1.5.0",
            "_view_name": "HTMLView",
            "description": "",
            "description_tooltip": null,
            "layout": "IPY_MODEL_f9c2a483aa954abc965c80ce7bb1b767",
            "placeholder": "​",
            "style": "IPY_MODEL_b29285a473ab4f0b818050587e243c18",
            "value": "Downloading data: 100%"
          }
        },
        "7c343b72a2b74ae69ccb3ea1de671e71": {
          "model_module": "@jupyter-widgets/controls",
          "model_name": "FloatProgressModel",
          "model_module_version": "1.5.0",
          "state": {
            "_dom_classes": [],
            "_model_module": "@jupyter-widgets/controls",
            "_model_module_version": "1.5.0",
            "_model_name": "FloatProgressModel",
            "_view_count": null,
            "_view_module": "@jupyter-widgets/controls",
            "_view_module_version": "1.5.0",
            "_view_name": "ProgressView",
            "bar_style": "success",
            "description": "",
            "description_tooltip": null,
            "layout": "IPY_MODEL_3251679d4ac04628a419c09b5df6cc7e",
            "max": 12256170,
            "min": 0,
            "orientation": "horizontal",
            "style": "IPY_MODEL_ef67f3b025de4b01ae130d6931f5b799",
            "value": 12256170
          }
        },
        "c6af379f074c45c59ec76c09d1de714e": {
          "model_module": "@jupyter-widgets/controls",
          "model_name": "HTMLModel",
          "model_module_version": "1.5.0",
          "state": {
            "_dom_classes": [],
            "_model_module": "@jupyter-widgets/controls",
            "_model_module_version": "1.5.0",
            "_model_name": "HTMLModel",
            "_view_count": null,
            "_view_module": "@jupyter-widgets/controls",
            "_view_module_version": "1.5.0",
            "_view_name": "HTMLView",
            "description": "",
            "description_tooltip": null,
            "layout": "IPY_MODEL_efb39c28a0c94e9990d31871720a1934",
            "placeholder": "​",
            "style": "IPY_MODEL_b98afe0f040f472ca74639c3915b4857",
            "value": " 12.3M/12.3M [00:00&lt;00:00, 101MB/s]"
          }
        },
        "cbcf6bd2d8434cc9bbf7bd4279cba1cf": {
          "model_module": "@jupyter-widgets/base",
          "model_name": "LayoutModel",
          "model_module_version": "1.2.0",
          "state": {
            "_model_module": "@jupyter-widgets/base",
            "_model_module_version": "1.2.0",
            "_model_name": "LayoutModel",
            "_view_count": null,
            "_view_module": "@jupyter-widgets/base",
            "_view_module_version": "1.2.0",
            "_view_name": "LayoutView",
            "align_content": null,
            "align_items": null,
            "align_self": null,
            "border": null,
            "bottom": null,
            "display": null,
            "flex": null,
            "flex_flow": null,
            "grid_area": null,
            "grid_auto_columns": null,
            "grid_auto_flow": null,
            "grid_auto_rows": null,
            "grid_column": null,
            "grid_gap": null,
            "grid_row": null,
            "grid_template_areas": null,
            "grid_template_columns": null,
            "grid_template_rows": null,
            "height": null,
            "justify_content": null,
            "justify_items": null,
            "left": null,
            "margin": null,
            "max_height": null,
            "max_width": null,
            "min_height": null,
            "min_width": null,
            "object_fit": null,
            "object_position": null,
            "order": null,
            "overflow": null,
            "overflow_x": null,
            "overflow_y": null,
            "padding": null,
            "right": null,
            "top": null,
            "visibility": null,
            "width": null
          }
        },
        "f9c2a483aa954abc965c80ce7bb1b767": {
          "model_module": "@jupyter-widgets/base",
          "model_name": "LayoutModel",
          "model_module_version": "1.2.0",
          "state": {
            "_model_module": "@jupyter-widgets/base",
            "_model_module_version": "1.2.0",
            "_model_name": "LayoutModel",
            "_view_count": null,
            "_view_module": "@jupyter-widgets/base",
            "_view_module_version": "1.2.0",
            "_view_name": "LayoutView",
            "align_content": null,
            "align_items": null,
            "align_self": null,
            "border": null,
            "bottom": null,
            "display": null,
            "flex": null,
            "flex_flow": null,
            "grid_area": null,
            "grid_auto_columns": null,
            "grid_auto_flow": null,
            "grid_auto_rows": null,
            "grid_column": null,
            "grid_gap": null,
            "grid_row": null,
            "grid_template_areas": null,
            "grid_template_columns": null,
            "grid_template_rows": null,
            "height": null,
            "justify_content": null,
            "justify_items": null,
            "left": null,
            "margin": null,
            "max_height": null,
            "max_width": null,
            "min_height": null,
            "min_width": null,
            "object_fit": null,
            "object_position": null,
            "order": null,
            "overflow": null,
            "overflow_x": null,
            "overflow_y": null,
            "padding": null,
            "right": null,
            "top": null,
            "visibility": null,
            "width": null
          }
        },
        "b29285a473ab4f0b818050587e243c18": {
          "model_module": "@jupyter-widgets/controls",
          "model_name": "DescriptionStyleModel",
          "model_module_version": "1.5.0",
          "state": {
            "_model_module": "@jupyter-widgets/controls",
            "_model_module_version": "1.5.0",
            "_model_name": "DescriptionStyleModel",
            "_view_count": null,
            "_view_module": "@jupyter-widgets/base",
            "_view_module_version": "1.2.0",
            "_view_name": "StyleView",
            "description_width": ""
          }
        },
        "3251679d4ac04628a419c09b5df6cc7e": {
          "model_module": "@jupyter-widgets/base",
          "model_name": "LayoutModel",
          "model_module_version": "1.2.0",
          "state": {
            "_model_module": "@jupyter-widgets/base",
            "_model_module_version": "1.2.0",
            "_model_name": "LayoutModel",
            "_view_count": null,
            "_view_module": "@jupyter-widgets/base",
            "_view_module_version": "1.2.0",
            "_view_name": "LayoutView",
            "align_content": null,
            "align_items": null,
            "align_self": null,
            "border": null,
            "bottom": null,
            "display": null,
            "flex": null,
            "flex_flow": null,
            "grid_area": null,
            "grid_auto_columns": null,
            "grid_auto_flow": null,
            "grid_auto_rows": null,
            "grid_column": null,
            "grid_gap": null,
            "grid_row": null,
            "grid_template_areas": null,
            "grid_template_columns": null,
            "grid_template_rows": null,
            "height": null,
            "justify_content": null,
            "justify_items": null,
            "left": null,
            "margin": null,
            "max_height": null,
            "max_width": null,
            "min_height": null,
            "min_width": null,
            "object_fit": null,
            "object_position": null,
            "order": null,
            "overflow": null,
            "overflow_x": null,
            "overflow_y": null,
            "padding": null,
            "right": null,
            "top": null,
            "visibility": null,
            "width": null
          }
        },
        "ef67f3b025de4b01ae130d6931f5b799": {
          "model_module": "@jupyter-widgets/controls",
          "model_name": "ProgressStyleModel",
          "model_module_version": "1.5.0",
          "state": {
            "_model_module": "@jupyter-widgets/controls",
            "_model_module_version": "1.5.0",
            "_model_name": "ProgressStyleModel",
            "_view_count": null,
            "_view_module": "@jupyter-widgets/base",
            "_view_module_version": "1.2.0",
            "_view_name": "StyleView",
            "bar_color": null,
            "description_width": ""
          }
        },
        "efb39c28a0c94e9990d31871720a1934": {
          "model_module": "@jupyter-widgets/base",
          "model_name": "LayoutModel",
          "model_module_version": "1.2.0",
          "state": {
            "_model_module": "@jupyter-widgets/base",
            "_model_module_version": "1.2.0",
            "_model_name": "LayoutModel",
            "_view_count": null,
            "_view_module": "@jupyter-widgets/base",
            "_view_module_version": "1.2.0",
            "_view_name": "LayoutView",
            "align_content": null,
            "align_items": null,
            "align_self": null,
            "border": null,
            "bottom": null,
            "display": null,
            "flex": null,
            "flex_flow": null,
            "grid_area": null,
            "grid_auto_columns": null,
            "grid_auto_flow": null,
            "grid_auto_rows": null,
            "grid_column": null,
            "grid_gap": null,
            "grid_row": null,
            "grid_template_areas": null,
            "grid_template_columns": null,
            "grid_template_rows": null,
            "height": null,
            "justify_content": null,
            "justify_items": null,
            "left": null,
            "margin": null,
            "max_height": null,
            "max_width": null,
            "min_height": null,
            "min_width": null,
            "object_fit": null,
            "object_position": null,
            "order": null,
            "overflow": null,
            "overflow_x": null,
            "overflow_y": null,
            "padding": null,
            "right": null,
            "top": null,
            "visibility": null,
            "width": null
          }
        },
        "b98afe0f040f472ca74639c3915b4857": {
          "model_module": "@jupyter-widgets/controls",
          "model_name": "DescriptionStyleModel",
          "model_module_version": "1.5.0",
          "state": {
            "_model_module": "@jupyter-widgets/controls",
            "_model_module_version": "1.5.0",
            "_model_name": "DescriptionStyleModel",
            "_view_count": null,
            "_view_module": "@jupyter-widgets/base",
            "_view_module_version": "1.2.0",
            "_view_name": "StyleView",
            "description_width": ""
          }
        },
        "b4138db2f4e449df969872f6e2d001cc": {
          "model_module": "@jupyter-widgets/controls",
          "model_name": "HBoxModel",
          "model_module_version": "1.5.0",
          "state": {
            "_dom_classes": [],
            "_model_module": "@jupyter-widgets/controls",
            "_model_module_version": "1.5.0",
            "_model_name": "HBoxModel",
            "_view_count": null,
            "_view_module": "@jupyter-widgets/controls",
            "_view_module_version": "1.5.0",
            "_view_name": "HBoxView",
            "box_style": "",
            "children": [
              "IPY_MODEL_996ac98b96f54a0b87f4d3302f3c83d6",
              "IPY_MODEL_dac3aa4394a64b8094e4b63ee14391a6",
              "IPY_MODEL_5f10ff437c254ca0b57adb7c2183f378"
            ],
            "layout": "IPY_MODEL_bb2bd8b2445e429db751393e0ec2f1c9"
          }
        },
        "996ac98b96f54a0b87f4d3302f3c83d6": {
          "model_module": "@jupyter-widgets/controls",
          "model_name": "HTMLModel",
          "model_module_version": "1.5.0",
          "state": {
            "_dom_classes": [],
            "_model_module": "@jupyter-widgets/controls",
            "_model_module_version": "1.5.0",
            "_model_name": "HTMLModel",
            "_view_count": null,
            "_view_module": "@jupyter-widgets/controls",
            "_view_module_version": "1.5.0",
            "_view_name": "HTMLView",
            "description": "",
            "description_tooltip": null,
            "layout": "IPY_MODEL_adfb457c5d904e7ebbd908b5091b8675",
            "placeholder": "​",
            "style": "IPY_MODEL_5c6f5624aed34497b7a06467ef43c565",
            "value": "Downloading data: 100%"
          }
        },
        "dac3aa4394a64b8094e4b63ee14391a6": {
          "model_module": "@jupyter-widgets/controls",
          "model_name": "FloatProgressModel",
          "model_module_version": "1.5.0",
          "state": {
            "_dom_classes": [],
            "_model_module": "@jupyter-widgets/controls",
            "_model_module_version": "1.5.0",
            "_model_name": "FloatProgressModel",
            "_view_count": null,
            "_view_module": "@jupyter-widgets/controls",
            "_view_module_version": "1.5.0",
            "_view_name": "ProgressView",
            "bar_style": "success",
            "description": "",
            "description_tooltip": null,
            "layout": "IPY_MODEL_9c2ba2b4bbda4f43aa3c8c7ce8e8d576",
            "max": 591921,
            "min": 0,
            "orientation": "horizontal",
            "style": "IPY_MODEL_8691f0873b5b4b60abad0d9b9be2d5b8",
            "value": 591921
          }
        },
        "5f10ff437c254ca0b57adb7c2183f378": {
          "model_module": "@jupyter-widgets/controls",
          "model_name": "HTMLModel",
          "model_module_version": "1.5.0",
          "state": {
            "_dom_classes": [],
            "_model_module": "@jupyter-widgets/controls",
            "_model_module_version": "1.5.0",
            "_model_name": "HTMLModel",
            "_view_count": null,
            "_view_module": "@jupyter-widgets/controls",
            "_view_module_version": "1.5.0",
            "_view_name": "HTMLView",
            "description": "",
            "description_tooltip": null,
            "layout": "IPY_MODEL_27bd3fe4bc414cd29a6e4592ac4a28f8",
            "placeholder": "​",
            "style": "IPY_MODEL_342b849889e647c99247592b82ab82a4",
            "value": " 592k/592k [00:00&lt;00:00, 52.8MB/s]"
          }
        },
        "bb2bd8b2445e429db751393e0ec2f1c9": {
          "model_module": "@jupyter-widgets/base",
          "model_name": "LayoutModel",
          "model_module_version": "1.2.0",
          "state": {
            "_model_module": "@jupyter-widgets/base",
            "_model_module_version": "1.2.0",
            "_model_name": "LayoutModel",
            "_view_count": null,
            "_view_module": "@jupyter-widgets/base",
            "_view_module_version": "1.2.0",
            "_view_name": "LayoutView",
            "align_content": null,
            "align_items": null,
            "align_self": null,
            "border": null,
            "bottom": null,
            "display": null,
            "flex": null,
            "flex_flow": null,
            "grid_area": null,
            "grid_auto_columns": null,
            "grid_auto_flow": null,
            "grid_auto_rows": null,
            "grid_column": null,
            "grid_gap": null,
            "grid_row": null,
            "grid_template_areas": null,
            "grid_template_columns": null,
            "grid_template_rows": null,
            "height": null,
            "justify_content": null,
            "justify_items": null,
            "left": null,
            "margin": null,
            "max_height": null,
            "max_width": null,
            "min_height": null,
            "min_width": null,
            "object_fit": null,
            "object_position": null,
            "order": null,
            "overflow": null,
            "overflow_x": null,
            "overflow_y": null,
            "padding": null,
            "right": null,
            "top": null,
            "visibility": null,
            "width": null
          }
        },
        "adfb457c5d904e7ebbd908b5091b8675": {
          "model_module": "@jupyter-widgets/base",
          "model_name": "LayoutModel",
          "model_module_version": "1.2.0",
          "state": {
            "_model_module": "@jupyter-widgets/base",
            "_model_module_version": "1.2.0",
            "_model_name": "LayoutModel",
            "_view_count": null,
            "_view_module": "@jupyter-widgets/base",
            "_view_module_version": "1.2.0",
            "_view_name": "LayoutView",
            "align_content": null,
            "align_items": null,
            "align_self": null,
            "border": null,
            "bottom": null,
            "display": null,
            "flex": null,
            "flex_flow": null,
            "grid_area": null,
            "grid_auto_columns": null,
            "grid_auto_flow": null,
            "grid_auto_rows": null,
            "grid_column": null,
            "grid_gap": null,
            "grid_row": null,
            "grid_template_areas": null,
            "grid_template_columns": null,
            "grid_template_rows": null,
            "height": null,
            "justify_content": null,
            "justify_items": null,
            "left": null,
            "margin": null,
            "max_height": null,
            "max_width": null,
            "min_height": null,
            "min_width": null,
            "object_fit": null,
            "object_position": null,
            "order": null,
            "overflow": null,
            "overflow_x": null,
            "overflow_y": null,
            "padding": null,
            "right": null,
            "top": null,
            "visibility": null,
            "width": null
          }
        },
        "5c6f5624aed34497b7a06467ef43c565": {
          "model_module": "@jupyter-widgets/controls",
          "model_name": "DescriptionStyleModel",
          "model_module_version": "1.5.0",
          "state": {
            "_model_module": "@jupyter-widgets/controls",
            "_model_module_version": "1.5.0",
            "_model_name": "DescriptionStyleModel",
            "_view_count": null,
            "_view_module": "@jupyter-widgets/base",
            "_view_module_version": "1.2.0",
            "_view_name": "StyleView",
            "description_width": ""
          }
        },
        "9c2ba2b4bbda4f43aa3c8c7ce8e8d576": {
          "model_module": "@jupyter-widgets/base",
          "model_name": "LayoutModel",
          "model_module_version": "1.2.0",
          "state": {
            "_model_module": "@jupyter-widgets/base",
            "_model_module_version": "1.2.0",
            "_model_name": "LayoutModel",
            "_view_count": null,
            "_view_module": "@jupyter-widgets/base",
            "_view_module_version": "1.2.0",
            "_view_name": "LayoutView",
            "align_content": null,
            "align_items": null,
            "align_self": null,
            "border": null,
            "bottom": null,
            "display": null,
            "flex": null,
            "flex_flow": null,
            "grid_area": null,
            "grid_auto_columns": null,
            "grid_auto_flow": null,
            "grid_auto_rows": null,
            "grid_column": null,
            "grid_gap": null,
            "grid_row": null,
            "grid_template_areas": null,
            "grid_template_columns": null,
            "grid_template_rows": null,
            "height": null,
            "justify_content": null,
            "justify_items": null,
            "left": null,
            "margin": null,
            "max_height": null,
            "max_width": null,
            "min_height": null,
            "min_width": null,
            "object_fit": null,
            "object_position": null,
            "order": null,
            "overflow": null,
            "overflow_x": null,
            "overflow_y": null,
            "padding": null,
            "right": null,
            "top": null,
            "visibility": null,
            "width": null
          }
        },
        "8691f0873b5b4b60abad0d9b9be2d5b8": {
          "model_module": "@jupyter-widgets/controls",
          "model_name": "ProgressStyleModel",
          "model_module_version": "1.5.0",
          "state": {
            "_model_module": "@jupyter-widgets/controls",
            "_model_module_version": "1.5.0",
            "_model_name": "ProgressStyleModel",
            "_view_count": null,
            "_view_module": "@jupyter-widgets/base",
            "_view_module_version": "1.2.0",
            "_view_name": "StyleView",
            "bar_color": null,
            "description_width": ""
          }
        },
        "27bd3fe4bc414cd29a6e4592ac4a28f8": {
          "model_module": "@jupyter-widgets/base",
          "model_name": "LayoutModel",
          "model_module_version": "1.2.0",
          "state": {
            "_model_module": "@jupyter-widgets/base",
            "_model_module_version": "1.2.0",
            "_model_name": "LayoutModel",
            "_view_count": null,
            "_view_module": "@jupyter-widgets/base",
            "_view_module_version": "1.2.0",
            "_view_name": "LayoutView",
            "align_content": null,
            "align_items": null,
            "align_self": null,
            "border": null,
            "bottom": null,
            "display": null,
            "flex": null,
            "flex_flow": null,
            "grid_area": null,
            "grid_auto_columns": null,
            "grid_auto_flow": null,
            "grid_auto_rows": null,
            "grid_column": null,
            "grid_gap": null,
            "grid_row": null,
            "grid_template_areas": null,
            "grid_template_columns": null,
            "grid_template_rows": null,
            "height": null,
            "justify_content": null,
            "justify_items": null,
            "left": null,
            "margin": null,
            "max_height": null,
            "max_width": null,
            "min_height": null,
            "min_width": null,
            "object_fit": null,
            "object_position": null,
            "order": null,
            "overflow": null,
            "overflow_x": null,
            "overflow_y": null,
            "padding": null,
            "right": null,
            "top": null,
            "visibility": null,
            "width": null
          }
        },
        "342b849889e647c99247592b82ab82a4": {
          "model_module": "@jupyter-widgets/controls",
          "model_name": "DescriptionStyleModel",
          "model_module_version": "1.5.0",
          "state": {
            "_model_module": "@jupyter-widgets/controls",
            "_model_module_version": "1.5.0",
            "_model_name": "DescriptionStyleModel",
            "_view_count": null,
            "_view_module": "@jupyter-widgets/base",
            "_view_module_version": "1.2.0",
            "_view_name": "StyleView",
            "description_width": ""
          }
        },
        "9d52345c74654e5f974a6dca8fc3727d": {
          "model_module": "@jupyter-widgets/controls",
          "model_name": "HBoxModel",
          "model_module_version": "1.5.0",
          "state": {
            "_dom_classes": [],
            "_model_module": "@jupyter-widgets/controls",
            "_model_module_version": "1.5.0",
            "_model_name": "HBoxModel",
            "_view_count": null,
            "_view_module": "@jupyter-widgets/controls",
            "_view_module_version": "1.5.0",
            "_view_name": "HBoxView",
            "box_style": "",
            "children": [
              "IPY_MODEL_2515e0ae498048278d4bc40fdd627e56",
              "IPY_MODEL_d02a26618a5345c2b8e7b3146f4ce53a",
              "IPY_MODEL_2560fce3c2ca418ea964bf1cae85b1ba"
            ],
            "layout": "IPY_MODEL_f3fc1fcfddd6436ca8ed6466ab30ed23"
          }
        },
        "2515e0ae498048278d4bc40fdd627e56": {
          "model_module": "@jupyter-widgets/controls",
          "model_name": "HTMLModel",
          "model_module_version": "1.5.0",
          "state": {
            "_dom_classes": [],
            "_model_module": "@jupyter-widgets/controls",
            "_model_module_version": "1.5.0",
            "_model_name": "HTMLModel",
            "_view_count": null,
            "_view_module": "@jupyter-widgets/controls",
            "_view_module_version": "1.5.0",
            "_view_name": "HTMLView",
            "description": "",
            "description_tooltip": null,
            "layout": "IPY_MODEL_14ff1a2e7a37465b9e9b29cb7693b035",
            "placeholder": "​",
            "style": "IPY_MODEL_7fa7e49eb5ff40a6a3691c84d2772567",
            "value": "Generating train split: 100%"
          }
        },
        "d02a26618a5345c2b8e7b3146f4ce53a": {
          "model_module": "@jupyter-widgets/controls",
          "model_name": "FloatProgressModel",
          "model_module_version": "1.5.0",
          "state": {
            "_dom_classes": [],
            "_model_module": "@jupyter-widgets/controls",
            "_model_module_version": "1.5.0",
            "_model_name": "FloatProgressModel",
            "_view_count": null,
            "_view_module": "@jupyter-widgets/controls",
            "_view_module_version": "1.5.0",
            "_view_name": "ProgressView",
            "bar_style": "success",
            "description": "",
            "description_tooltip": null,
            "layout": "IPY_MODEL_6f064b96c5b144fabd0af88443a0aa7c",
            "max": 15383,
            "min": 0,
            "orientation": "horizontal",
            "style": "IPY_MODEL_69340754aa84450d8dbb2259b3384a11",
            "value": 15383
          }
        },
        "2560fce3c2ca418ea964bf1cae85b1ba": {
          "model_module": "@jupyter-widgets/controls",
          "model_name": "HTMLModel",
          "model_module_version": "1.5.0",
          "state": {
            "_dom_classes": [],
            "_model_module": "@jupyter-widgets/controls",
            "_model_module_version": "1.5.0",
            "_model_name": "HTMLModel",
            "_view_count": null,
            "_view_module": "@jupyter-widgets/controls",
            "_view_module_version": "1.5.0",
            "_view_name": "HTMLView",
            "description": "",
            "description_tooltip": null,
            "layout": "IPY_MODEL_6be95760e20847db8877a27f7a75e086",
            "placeholder": "​",
            "style": "IPY_MODEL_8c40b8a0145c445394e6d7a8787a81d7",
            "value": " 15383/15383 [00:02&lt;00:00, 9375.83 examples/s]"
          }
        },
        "f3fc1fcfddd6436ca8ed6466ab30ed23": {
          "model_module": "@jupyter-widgets/base",
          "model_name": "LayoutModel",
          "model_module_version": "1.2.0",
          "state": {
            "_model_module": "@jupyter-widgets/base",
            "_model_module_version": "1.2.0",
            "_model_name": "LayoutModel",
            "_view_count": null,
            "_view_module": "@jupyter-widgets/base",
            "_view_module_version": "1.2.0",
            "_view_name": "LayoutView",
            "align_content": null,
            "align_items": null,
            "align_self": null,
            "border": null,
            "bottom": null,
            "display": null,
            "flex": null,
            "flex_flow": null,
            "grid_area": null,
            "grid_auto_columns": null,
            "grid_auto_flow": null,
            "grid_auto_rows": null,
            "grid_column": null,
            "grid_gap": null,
            "grid_row": null,
            "grid_template_areas": null,
            "grid_template_columns": null,
            "grid_template_rows": null,
            "height": null,
            "justify_content": null,
            "justify_items": null,
            "left": null,
            "margin": null,
            "max_height": null,
            "max_width": null,
            "min_height": null,
            "min_width": null,
            "object_fit": null,
            "object_position": null,
            "order": null,
            "overflow": null,
            "overflow_x": null,
            "overflow_y": null,
            "padding": null,
            "right": null,
            "top": null,
            "visibility": null,
            "width": null
          }
        },
        "14ff1a2e7a37465b9e9b29cb7693b035": {
          "model_module": "@jupyter-widgets/base",
          "model_name": "LayoutModel",
          "model_module_version": "1.2.0",
          "state": {
            "_model_module": "@jupyter-widgets/base",
            "_model_module_version": "1.2.0",
            "_model_name": "LayoutModel",
            "_view_count": null,
            "_view_module": "@jupyter-widgets/base",
            "_view_module_version": "1.2.0",
            "_view_name": "LayoutView",
            "align_content": null,
            "align_items": null,
            "align_self": null,
            "border": null,
            "bottom": null,
            "display": null,
            "flex": null,
            "flex_flow": null,
            "grid_area": null,
            "grid_auto_columns": null,
            "grid_auto_flow": null,
            "grid_auto_rows": null,
            "grid_column": null,
            "grid_gap": null,
            "grid_row": null,
            "grid_template_areas": null,
            "grid_template_columns": null,
            "grid_template_rows": null,
            "height": null,
            "justify_content": null,
            "justify_items": null,
            "left": null,
            "margin": null,
            "max_height": null,
            "max_width": null,
            "min_height": null,
            "min_width": null,
            "object_fit": null,
            "object_position": null,
            "order": null,
            "overflow": null,
            "overflow_x": null,
            "overflow_y": null,
            "padding": null,
            "right": null,
            "top": null,
            "visibility": null,
            "width": null
          }
        },
        "7fa7e49eb5ff40a6a3691c84d2772567": {
          "model_module": "@jupyter-widgets/controls",
          "model_name": "DescriptionStyleModel",
          "model_module_version": "1.5.0",
          "state": {
            "_model_module": "@jupyter-widgets/controls",
            "_model_module_version": "1.5.0",
            "_model_name": "DescriptionStyleModel",
            "_view_count": null,
            "_view_module": "@jupyter-widgets/base",
            "_view_module_version": "1.2.0",
            "_view_name": "StyleView",
            "description_width": ""
          }
        },
        "6f064b96c5b144fabd0af88443a0aa7c": {
          "model_module": "@jupyter-widgets/base",
          "model_name": "LayoutModel",
          "model_module_version": "1.2.0",
          "state": {
            "_model_module": "@jupyter-widgets/base",
            "_model_module_version": "1.2.0",
            "_model_name": "LayoutModel",
            "_view_count": null,
            "_view_module": "@jupyter-widgets/base",
            "_view_module_version": "1.2.0",
            "_view_name": "LayoutView",
            "align_content": null,
            "align_items": null,
            "align_self": null,
            "border": null,
            "bottom": null,
            "display": null,
            "flex": null,
            "flex_flow": null,
            "grid_area": null,
            "grid_auto_columns": null,
            "grid_auto_flow": null,
            "grid_auto_rows": null,
            "grid_column": null,
            "grid_gap": null,
            "grid_row": null,
            "grid_template_areas": null,
            "grid_template_columns": null,
            "grid_template_rows": null,
            "height": null,
            "justify_content": null,
            "justify_items": null,
            "left": null,
            "margin": null,
            "max_height": null,
            "max_width": null,
            "min_height": null,
            "min_width": null,
            "object_fit": null,
            "object_position": null,
            "order": null,
            "overflow": null,
            "overflow_x": null,
            "overflow_y": null,
            "padding": null,
            "right": null,
            "top": null,
            "visibility": null,
            "width": null
          }
        },
        "69340754aa84450d8dbb2259b3384a11": {
          "model_module": "@jupyter-widgets/controls",
          "model_name": "ProgressStyleModel",
          "model_module_version": "1.5.0",
          "state": {
            "_model_module": "@jupyter-widgets/controls",
            "_model_module_version": "1.5.0",
            "_model_name": "ProgressStyleModel",
            "_view_count": null,
            "_view_module": "@jupyter-widgets/base",
            "_view_module_version": "1.2.0",
            "_view_name": "StyleView",
            "bar_color": null,
            "description_width": ""
          }
        },
        "6be95760e20847db8877a27f7a75e086": {
          "model_module": "@jupyter-widgets/base",
          "model_name": "LayoutModel",
          "model_module_version": "1.2.0",
          "state": {
            "_model_module": "@jupyter-widgets/base",
            "_model_module_version": "1.2.0",
            "_model_name": "LayoutModel",
            "_view_count": null,
            "_view_module": "@jupyter-widgets/base",
            "_view_module_version": "1.2.0",
            "_view_name": "LayoutView",
            "align_content": null,
            "align_items": null,
            "align_self": null,
            "border": null,
            "bottom": null,
            "display": null,
            "flex": null,
            "flex_flow": null,
            "grid_area": null,
            "grid_auto_columns": null,
            "grid_auto_flow": null,
            "grid_auto_rows": null,
            "grid_column": null,
            "grid_gap": null,
            "grid_row": null,
            "grid_template_areas": null,
            "grid_template_columns": null,
            "grid_template_rows": null,
            "height": null,
            "justify_content": null,
            "justify_items": null,
            "left": null,
            "margin": null,
            "max_height": null,
            "max_width": null,
            "min_height": null,
            "min_width": null,
            "object_fit": null,
            "object_position": null,
            "order": null,
            "overflow": null,
            "overflow_x": null,
            "overflow_y": null,
            "padding": null,
            "right": null,
            "top": null,
            "visibility": null,
            "width": null
          }
        },
        "8c40b8a0145c445394e6d7a8787a81d7": {
          "model_module": "@jupyter-widgets/controls",
          "model_name": "DescriptionStyleModel",
          "model_module_version": "1.5.0",
          "state": {
            "_model_module": "@jupyter-widgets/controls",
            "_model_module_version": "1.5.0",
            "_model_name": "DescriptionStyleModel",
            "_view_count": null,
            "_view_module": "@jupyter-widgets/base",
            "_view_module_version": "1.2.0",
            "_view_name": "StyleView",
            "description_width": ""
          }
        },
        "312338bde63d48b9a5bb43cc81142be1": {
          "model_module": "@jupyter-widgets/controls",
          "model_name": "HBoxModel",
          "model_module_version": "1.5.0",
          "state": {
            "_dom_classes": [],
            "_model_module": "@jupyter-widgets/controls",
            "_model_module_version": "1.5.0",
            "_model_name": "HBoxModel",
            "_view_count": null,
            "_view_module": "@jupyter-widgets/controls",
            "_view_module_version": "1.5.0",
            "_view_name": "HBoxView",
            "box_style": "",
            "children": [
              "IPY_MODEL_0769b7ae4f3b4360b4ca5f5acd0300f3",
              "IPY_MODEL_0d63cc948feb4b3e8ec51bbeced57ee8",
              "IPY_MODEL_3d5f0821f93f41c69a4a81383bea31da"
            ],
            "layout": "IPY_MODEL_e6390396b95d413fbd45bc901288c1af"
          }
        },
        "0769b7ae4f3b4360b4ca5f5acd0300f3": {
          "model_module": "@jupyter-widgets/controls",
          "model_name": "HTMLModel",
          "model_module_version": "1.5.0",
          "state": {
            "_dom_classes": [],
            "_model_module": "@jupyter-widgets/controls",
            "_model_module_version": "1.5.0",
            "_model_name": "HTMLModel",
            "_view_count": null,
            "_view_module": "@jupyter-widgets/controls",
            "_view_module_version": "1.5.0",
            "_view_name": "HTMLView",
            "description": "",
            "description_tooltip": null,
            "layout": "IPY_MODEL_9332101357824099869748314a3a03d6",
            "placeholder": "​",
            "style": "IPY_MODEL_1f761904a03340b6a41755601560aa25",
            "value": "Generating validation split: 100%"
          }
        },
        "0d63cc948feb4b3e8ec51bbeced57ee8": {
          "model_module": "@jupyter-widgets/controls",
          "model_name": "FloatProgressModel",
          "model_module_version": "1.5.0",
          "state": {
            "_dom_classes": [],
            "_model_module": "@jupyter-widgets/controls",
            "_model_module_version": "1.5.0",
            "_model_name": "FloatProgressModel",
            "_view_count": null,
            "_view_module": "@jupyter-widgets/controls",
            "_view_module_version": "1.5.0",
            "_view_name": "ProgressView",
            "bar_style": "success",
            "description": "",
            "description_tooltip": null,
            "layout": "IPY_MODEL_a1b04b4334eb41c9912edea412e71422",
            "max": 1922,
            "min": 0,
            "orientation": "horizontal",
            "style": "IPY_MODEL_7e165e58bfb047dfafc3455fc9add575",
            "value": 1922
          }
        },
        "3d5f0821f93f41c69a4a81383bea31da": {
          "model_module": "@jupyter-widgets/controls",
          "model_name": "HTMLModel",
          "model_module_version": "1.5.0",
          "state": {
            "_dom_classes": [],
            "_model_module": "@jupyter-widgets/controls",
            "_model_module_version": "1.5.0",
            "_model_name": "HTMLModel",
            "_view_count": null,
            "_view_module": "@jupyter-widgets/controls",
            "_view_module_version": "1.5.0",
            "_view_name": "HTMLView",
            "description": "",
            "description_tooltip": null,
            "layout": "IPY_MODEL_2e09c61f537846dbb6e6e4c050090bab",
            "placeholder": "​",
            "style": "IPY_MODEL_0dfab2e141c54909914b88259b306aa9",
            "value": " 1922/1922 [00:01&lt;00:00, 1217.88 examples/s]"
          }
        },
        "e6390396b95d413fbd45bc901288c1af": {
          "model_module": "@jupyter-widgets/base",
          "model_name": "LayoutModel",
          "model_module_version": "1.2.0",
          "state": {
            "_model_module": "@jupyter-widgets/base",
            "_model_module_version": "1.2.0",
            "_model_name": "LayoutModel",
            "_view_count": null,
            "_view_module": "@jupyter-widgets/base",
            "_view_module_version": "1.2.0",
            "_view_name": "LayoutView",
            "align_content": null,
            "align_items": null,
            "align_self": null,
            "border": null,
            "bottom": null,
            "display": null,
            "flex": null,
            "flex_flow": null,
            "grid_area": null,
            "grid_auto_columns": null,
            "grid_auto_flow": null,
            "grid_auto_rows": null,
            "grid_column": null,
            "grid_gap": null,
            "grid_row": null,
            "grid_template_areas": null,
            "grid_template_columns": null,
            "grid_template_rows": null,
            "height": null,
            "justify_content": null,
            "justify_items": null,
            "left": null,
            "margin": null,
            "max_height": null,
            "max_width": null,
            "min_height": null,
            "min_width": null,
            "object_fit": null,
            "object_position": null,
            "order": null,
            "overflow": null,
            "overflow_x": null,
            "overflow_y": null,
            "padding": null,
            "right": null,
            "top": null,
            "visibility": null,
            "width": null
          }
        },
        "9332101357824099869748314a3a03d6": {
          "model_module": "@jupyter-widgets/base",
          "model_name": "LayoutModel",
          "model_module_version": "1.2.0",
          "state": {
            "_model_module": "@jupyter-widgets/base",
            "_model_module_version": "1.2.0",
            "_model_name": "LayoutModel",
            "_view_count": null,
            "_view_module": "@jupyter-widgets/base",
            "_view_module_version": "1.2.0",
            "_view_name": "LayoutView",
            "align_content": null,
            "align_items": null,
            "align_self": null,
            "border": null,
            "bottom": null,
            "display": null,
            "flex": null,
            "flex_flow": null,
            "grid_area": null,
            "grid_auto_columns": null,
            "grid_auto_flow": null,
            "grid_auto_rows": null,
            "grid_column": null,
            "grid_gap": null,
            "grid_row": null,
            "grid_template_areas": null,
            "grid_template_columns": null,
            "grid_template_rows": null,
            "height": null,
            "justify_content": null,
            "justify_items": null,
            "left": null,
            "margin": null,
            "max_height": null,
            "max_width": null,
            "min_height": null,
            "min_width": null,
            "object_fit": null,
            "object_position": null,
            "order": null,
            "overflow": null,
            "overflow_x": null,
            "overflow_y": null,
            "padding": null,
            "right": null,
            "top": null,
            "visibility": null,
            "width": null
          }
        },
        "1f761904a03340b6a41755601560aa25": {
          "model_module": "@jupyter-widgets/controls",
          "model_name": "DescriptionStyleModel",
          "model_module_version": "1.5.0",
          "state": {
            "_model_module": "@jupyter-widgets/controls",
            "_model_module_version": "1.5.0",
            "_model_name": "DescriptionStyleModel",
            "_view_count": null,
            "_view_module": "@jupyter-widgets/base",
            "_view_module_version": "1.2.0",
            "_view_name": "StyleView",
            "description_width": ""
          }
        },
        "a1b04b4334eb41c9912edea412e71422": {
          "model_module": "@jupyter-widgets/base",
          "model_name": "LayoutModel",
          "model_module_version": "1.2.0",
          "state": {
            "_model_module": "@jupyter-widgets/base",
            "_model_module_version": "1.2.0",
            "_model_name": "LayoutModel",
            "_view_count": null,
            "_view_module": "@jupyter-widgets/base",
            "_view_module_version": "1.2.0",
            "_view_name": "LayoutView",
            "align_content": null,
            "align_items": null,
            "align_self": null,
            "border": null,
            "bottom": null,
            "display": null,
            "flex": null,
            "flex_flow": null,
            "grid_area": null,
            "grid_auto_columns": null,
            "grid_auto_flow": null,
            "grid_auto_rows": null,
            "grid_column": null,
            "grid_gap": null,
            "grid_row": null,
            "grid_template_areas": null,
            "grid_template_columns": null,
            "grid_template_rows": null,
            "height": null,
            "justify_content": null,
            "justify_items": null,
            "left": null,
            "margin": null,
            "max_height": null,
            "max_width": null,
            "min_height": null,
            "min_width": null,
            "object_fit": null,
            "object_position": null,
            "order": null,
            "overflow": null,
            "overflow_x": null,
            "overflow_y": null,
            "padding": null,
            "right": null,
            "top": null,
            "visibility": null,
            "width": null
          }
        },
        "7e165e58bfb047dfafc3455fc9add575": {
          "model_module": "@jupyter-widgets/controls",
          "model_name": "ProgressStyleModel",
          "model_module_version": "1.5.0",
          "state": {
            "_model_module": "@jupyter-widgets/controls",
            "_model_module_version": "1.5.0",
            "_model_name": "ProgressStyleModel",
            "_view_count": null,
            "_view_module": "@jupyter-widgets/base",
            "_view_module_version": "1.2.0",
            "_view_name": "StyleView",
            "bar_color": null,
            "description_width": ""
          }
        },
        "2e09c61f537846dbb6e6e4c050090bab": {
          "model_module": "@jupyter-widgets/base",
          "model_name": "LayoutModel",
          "model_module_version": "1.2.0",
          "state": {
            "_model_module": "@jupyter-widgets/base",
            "_model_module_version": "1.2.0",
            "_model_name": "LayoutModel",
            "_view_count": null,
            "_view_module": "@jupyter-widgets/base",
            "_view_module_version": "1.2.0",
            "_view_name": "LayoutView",
            "align_content": null,
            "align_items": null,
            "align_self": null,
            "border": null,
            "bottom": null,
            "display": null,
            "flex": null,
            "flex_flow": null,
            "grid_area": null,
            "grid_auto_columns": null,
            "grid_auto_flow": null,
            "grid_auto_rows": null,
            "grid_column": null,
            "grid_gap": null,
            "grid_row": null,
            "grid_template_areas": null,
            "grid_template_columns": null,
            "grid_template_rows": null,
            "height": null,
            "justify_content": null,
            "justify_items": null,
            "left": null,
            "margin": null,
            "max_height": null,
            "max_width": null,
            "min_height": null,
            "min_width": null,
            "object_fit": null,
            "object_position": null,
            "order": null,
            "overflow": null,
            "overflow_x": null,
            "overflow_y": null,
            "padding": null,
            "right": null,
            "top": null,
            "visibility": null,
            "width": null
          }
        },
        "0dfab2e141c54909914b88259b306aa9": {
          "model_module": "@jupyter-widgets/controls",
          "model_name": "DescriptionStyleModel",
          "model_module_version": "1.5.0",
          "state": {
            "_model_module": "@jupyter-widgets/controls",
            "_model_module_version": "1.5.0",
            "_model_name": "DescriptionStyleModel",
            "_view_count": null,
            "_view_module": "@jupyter-widgets/base",
            "_view_module_version": "1.2.0",
            "_view_name": "StyleView",
            "description_width": ""
          }
        },
        "7204d4cb4d504d2eab03953ac38f532b": {
          "model_module": "@jupyter-widgets/controls",
          "model_name": "HBoxModel",
          "model_module_version": "1.5.0",
          "state": {
            "_dom_classes": [],
            "_model_module": "@jupyter-widgets/controls",
            "_model_module_version": "1.5.0",
            "_model_name": "HBoxModel",
            "_view_count": null,
            "_view_module": "@jupyter-widgets/controls",
            "_view_module_version": "1.5.0",
            "_view_name": "HBoxView",
            "box_style": "",
            "children": [
              "IPY_MODEL_f794a33aacb54bc097721333221e410c",
              "IPY_MODEL_b95cf5ef972d4da28f646e811477d60e",
              "IPY_MODEL_1fa67cc8dc934bc181b1f264848209cc"
            ],
            "layout": "IPY_MODEL_92fde755276743d89a88103d6829aaf9"
          }
        },
        "f794a33aacb54bc097721333221e410c": {
          "model_module": "@jupyter-widgets/controls",
          "model_name": "HTMLModel",
          "model_module_version": "1.5.0",
          "state": {
            "_dom_classes": [],
            "_model_module": "@jupyter-widgets/controls",
            "_model_module_version": "1.5.0",
            "_model_name": "HTMLModel",
            "_view_count": null,
            "_view_module": "@jupyter-widgets/controls",
            "_view_module_version": "1.5.0",
            "_view_name": "HTMLView",
            "description": "",
            "description_tooltip": null,
            "layout": "IPY_MODEL_c8e889e246d744c69cb85bf213d7f9e1",
            "placeholder": "​",
            "style": "IPY_MODEL_e973d0c0f233458abcc031f5b95b0d28",
            "value": "Generating test split: 100%"
          }
        },
        "b95cf5ef972d4da28f646e811477d60e": {
          "model_module": "@jupyter-widgets/controls",
          "model_name": "FloatProgressModel",
          "model_module_version": "1.5.0",
          "state": {
            "_dom_classes": [],
            "_model_module": "@jupyter-widgets/controls",
            "_model_module_version": "1.5.0",
            "_model_name": "FloatProgressModel",
            "_view_count": null,
            "_view_module": "@jupyter-widgets/controls",
            "_view_module_version": "1.5.0",
            "_view_name": "ProgressView",
            "bar_style": "success",
            "description": "",
            "description_tooltip": null,
            "layout": "IPY_MODEL_bb8dc671e631416f857922d82977f9a4",
            "max": 1924,
            "min": 0,
            "orientation": "horizontal",
            "style": "IPY_MODEL_dacdb5edc073413b84ce4af62c85fd52",
            "value": 1924
          }
        },
        "1fa67cc8dc934bc181b1f264848209cc": {
          "model_module": "@jupyter-widgets/controls",
          "model_name": "HTMLModel",
          "model_module_version": "1.5.0",
          "state": {
            "_dom_classes": [],
            "_model_module": "@jupyter-widgets/controls",
            "_model_module_version": "1.5.0",
            "_model_name": "HTMLModel",
            "_view_count": null,
            "_view_module": "@jupyter-widgets/controls",
            "_view_module_version": "1.5.0",
            "_view_name": "HTMLView",
            "description": "",
            "description_tooltip": null,
            "layout": "IPY_MODEL_39227634afec4a17b2ece7036a4ecc80",
            "placeholder": "​",
            "style": "IPY_MODEL_49334787b8174fd697d82f7ef947a3c7",
            "value": " 1924/1924 [00:00&lt;00:00, 1680.23 examples/s]"
          }
        },
        "92fde755276743d89a88103d6829aaf9": {
          "model_module": "@jupyter-widgets/base",
          "model_name": "LayoutModel",
          "model_module_version": "1.2.0",
          "state": {
            "_model_module": "@jupyter-widgets/base",
            "_model_module_version": "1.2.0",
            "_model_name": "LayoutModel",
            "_view_count": null,
            "_view_module": "@jupyter-widgets/base",
            "_view_module_version": "1.2.0",
            "_view_name": "LayoutView",
            "align_content": null,
            "align_items": null,
            "align_self": null,
            "border": null,
            "bottom": null,
            "display": null,
            "flex": null,
            "flex_flow": null,
            "grid_area": null,
            "grid_auto_columns": null,
            "grid_auto_flow": null,
            "grid_auto_rows": null,
            "grid_column": null,
            "grid_gap": null,
            "grid_row": null,
            "grid_template_areas": null,
            "grid_template_columns": null,
            "grid_template_rows": null,
            "height": null,
            "justify_content": null,
            "justify_items": null,
            "left": null,
            "margin": null,
            "max_height": null,
            "max_width": null,
            "min_height": null,
            "min_width": null,
            "object_fit": null,
            "object_position": null,
            "order": null,
            "overflow": null,
            "overflow_x": null,
            "overflow_y": null,
            "padding": null,
            "right": null,
            "top": null,
            "visibility": null,
            "width": null
          }
        },
        "c8e889e246d744c69cb85bf213d7f9e1": {
          "model_module": "@jupyter-widgets/base",
          "model_name": "LayoutModel",
          "model_module_version": "1.2.0",
          "state": {
            "_model_module": "@jupyter-widgets/base",
            "_model_module_version": "1.2.0",
            "_model_name": "LayoutModel",
            "_view_count": null,
            "_view_module": "@jupyter-widgets/base",
            "_view_module_version": "1.2.0",
            "_view_name": "LayoutView",
            "align_content": null,
            "align_items": null,
            "align_self": null,
            "border": null,
            "bottom": null,
            "display": null,
            "flex": null,
            "flex_flow": null,
            "grid_area": null,
            "grid_auto_columns": null,
            "grid_auto_flow": null,
            "grid_auto_rows": null,
            "grid_column": null,
            "grid_gap": null,
            "grid_row": null,
            "grid_template_areas": null,
            "grid_template_columns": null,
            "grid_template_rows": null,
            "height": null,
            "justify_content": null,
            "justify_items": null,
            "left": null,
            "margin": null,
            "max_height": null,
            "max_width": null,
            "min_height": null,
            "min_width": null,
            "object_fit": null,
            "object_position": null,
            "order": null,
            "overflow": null,
            "overflow_x": null,
            "overflow_y": null,
            "padding": null,
            "right": null,
            "top": null,
            "visibility": null,
            "width": null
          }
        },
        "e973d0c0f233458abcc031f5b95b0d28": {
          "model_module": "@jupyter-widgets/controls",
          "model_name": "DescriptionStyleModel",
          "model_module_version": "1.5.0",
          "state": {
            "_model_module": "@jupyter-widgets/controls",
            "_model_module_version": "1.5.0",
            "_model_name": "DescriptionStyleModel",
            "_view_count": null,
            "_view_module": "@jupyter-widgets/base",
            "_view_module_version": "1.2.0",
            "_view_name": "StyleView",
            "description_width": ""
          }
        },
        "bb8dc671e631416f857922d82977f9a4": {
          "model_module": "@jupyter-widgets/base",
          "model_name": "LayoutModel",
          "model_module_version": "1.2.0",
          "state": {
            "_model_module": "@jupyter-widgets/base",
            "_model_module_version": "1.2.0",
            "_model_name": "LayoutModel",
            "_view_count": null,
            "_view_module": "@jupyter-widgets/base",
            "_view_module_version": "1.2.0",
            "_view_name": "LayoutView",
            "align_content": null,
            "align_items": null,
            "align_self": null,
            "border": null,
            "bottom": null,
            "display": null,
            "flex": null,
            "flex_flow": null,
            "grid_area": null,
            "grid_auto_columns": null,
            "grid_auto_flow": null,
            "grid_auto_rows": null,
            "grid_column": null,
            "grid_gap": null,
            "grid_row": null,
            "grid_template_areas": null,
            "grid_template_columns": null,
            "grid_template_rows": null,
            "height": null,
            "justify_content": null,
            "justify_items": null,
            "left": null,
            "margin": null,
            "max_height": null,
            "max_width": null,
            "min_height": null,
            "min_width": null,
            "object_fit": null,
            "object_position": null,
            "order": null,
            "overflow": null,
            "overflow_x": null,
            "overflow_y": null,
            "padding": null,
            "right": null,
            "top": null,
            "visibility": null,
            "width": null
          }
        },
        "dacdb5edc073413b84ce4af62c85fd52": {
          "model_module": "@jupyter-widgets/controls",
          "model_name": "ProgressStyleModel",
          "model_module_version": "1.5.0",
          "state": {
            "_model_module": "@jupyter-widgets/controls",
            "_model_module_version": "1.5.0",
            "_model_name": "ProgressStyleModel",
            "_view_count": null,
            "_view_module": "@jupyter-widgets/base",
            "_view_module_version": "1.2.0",
            "_view_name": "StyleView",
            "bar_color": null,
            "description_width": ""
          }
        },
        "39227634afec4a17b2ece7036a4ecc80": {
          "model_module": "@jupyter-widgets/base",
          "model_name": "LayoutModel",
          "model_module_version": "1.2.0",
          "state": {
            "_model_module": "@jupyter-widgets/base",
            "_model_module_version": "1.2.0",
            "_model_name": "LayoutModel",
            "_view_count": null,
            "_view_module": "@jupyter-widgets/base",
            "_view_module_version": "1.2.0",
            "_view_name": "LayoutView",
            "align_content": null,
            "align_items": null,
            "align_self": null,
            "border": null,
            "bottom": null,
            "display": null,
            "flex": null,
            "flex_flow": null,
            "grid_area": null,
            "grid_auto_columns": null,
            "grid_auto_flow": null,
            "grid_auto_rows": null,
            "grid_column": null,
            "grid_gap": null,
            "grid_row": null,
            "grid_template_areas": null,
            "grid_template_columns": null,
            "grid_template_rows": null,
            "height": null,
            "justify_content": null,
            "justify_items": null,
            "left": null,
            "margin": null,
            "max_height": null,
            "max_width": null,
            "min_height": null,
            "min_width": null,
            "object_fit": null,
            "object_position": null,
            "order": null,
            "overflow": null,
            "overflow_x": null,
            "overflow_y": null,
            "padding": null,
            "right": null,
            "top": null,
            "visibility": null,
            "width": null
          }
        },
        "49334787b8174fd697d82f7ef947a3c7": {
          "model_module": "@jupyter-widgets/controls",
          "model_name": "DescriptionStyleModel",
          "model_module_version": "1.5.0",
          "state": {
            "_model_module": "@jupyter-widgets/controls",
            "_model_module_version": "1.5.0",
            "_model_name": "DescriptionStyleModel",
            "_view_count": null,
            "_view_module": "@jupyter-widgets/base",
            "_view_module_version": "1.2.0",
            "_view_name": "StyleView",
            "description_width": ""
          }
        }
      }
    }
  },
  "nbformat": 4,
  "nbformat_minor": 0
}