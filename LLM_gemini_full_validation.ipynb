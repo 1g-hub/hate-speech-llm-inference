{
  "cells": [
    {
      "cell_type": "code",
      "execution_count": 1,
      "metadata": {
        "colab": {
          "base_uri": "https://localhost:8080/"
        },
        "id": "5QfeSrvQpSyl",
        "outputId": "db67ad51-22d2-4e05-ab85-c773f074df77"
      },
      "outputs": [
        {
          "output_type": "stream",
          "name": "stdout",
          "text": [
            "Collecting datasets==3.6.0\n",
            "  Downloading datasets-3.6.0-py3-none-any.whl.metadata (19 kB)\n",
            "Requirement already satisfied: filelock in /usr/local/lib/python3.11/dist-packages (from datasets==3.6.0) (3.18.0)\n",
            "Requirement already satisfied: numpy>=1.17 in /usr/local/lib/python3.11/dist-packages (from datasets==3.6.0) (2.0.2)\n",
            "Requirement already satisfied: pyarrow>=15.0.0 in /usr/local/lib/python3.11/dist-packages (from datasets==3.6.0) (18.1.0)\n",
            "Requirement already satisfied: dill<0.3.9,>=0.3.0 in /usr/local/lib/python3.11/dist-packages (from datasets==3.6.0) (0.3.8)\n",
            "Requirement already satisfied: pandas in /usr/local/lib/python3.11/dist-packages (from datasets==3.6.0) (2.2.2)\n",
            "Requirement already satisfied: requests>=2.32.2 in /usr/local/lib/python3.11/dist-packages (from datasets==3.6.0) (2.32.3)\n",
            "Requirement already satisfied: tqdm>=4.66.3 in /usr/local/lib/python3.11/dist-packages (from datasets==3.6.0) (4.67.1)\n",
            "Requirement already satisfied: xxhash in /usr/local/lib/python3.11/dist-packages (from datasets==3.6.0) (3.5.0)\n",
            "Requirement already satisfied: multiprocess<0.70.17 in /usr/local/lib/python3.11/dist-packages (from datasets==3.6.0) (0.70.16)\n",
            "Requirement already satisfied: fsspec<=2025.3.0,>=2023.1.0 in /usr/local/lib/python3.11/dist-packages (from fsspec[http]<=2025.3.0,>=2023.1.0->datasets==3.6.0) (2025.3.0)\n",
            "Requirement already satisfied: huggingface-hub>=0.24.0 in /usr/local/lib/python3.11/dist-packages (from datasets==3.6.0) (0.34.1)\n",
            "Requirement already satisfied: packaging in /usr/local/lib/python3.11/dist-packages (from datasets==3.6.0) (25.0)\n",
            "Requirement already satisfied: pyyaml>=5.1 in /usr/local/lib/python3.11/dist-packages (from datasets==3.6.0) (6.0.2)\n",
            "Requirement already satisfied: aiohttp!=4.0.0a0,!=4.0.0a1 in /usr/local/lib/python3.11/dist-packages (from fsspec[http]<=2025.3.0,>=2023.1.0->datasets==3.6.0) (3.12.14)\n",
            "Requirement already satisfied: typing-extensions>=3.7.4.3 in /usr/local/lib/python3.11/dist-packages (from huggingface-hub>=0.24.0->datasets==3.6.0) (4.14.1)\n",
            "Requirement already satisfied: hf-xet<2.0.0,>=1.1.3 in /usr/local/lib/python3.11/dist-packages (from huggingface-hub>=0.24.0->datasets==3.6.0) (1.1.5)\n",
            "Requirement already satisfied: charset-normalizer<4,>=2 in /usr/local/lib/python3.11/dist-packages (from requests>=2.32.2->datasets==3.6.0) (3.4.2)\n",
            "Requirement already satisfied: idna<4,>=2.5 in /usr/local/lib/python3.11/dist-packages (from requests>=2.32.2->datasets==3.6.0) (3.10)\n",
            "Requirement already satisfied: urllib3<3,>=1.21.1 in /usr/local/lib/python3.11/dist-packages (from requests>=2.32.2->datasets==3.6.0) (2.5.0)\n",
            "Requirement already satisfied: certifi>=2017.4.17 in /usr/local/lib/python3.11/dist-packages (from requests>=2.32.2->datasets==3.6.0) (2025.7.14)\n",
            "Requirement already satisfied: python-dateutil>=2.8.2 in /usr/local/lib/python3.11/dist-packages (from pandas->datasets==3.6.0) (2.9.0.post0)\n",
            "Requirement already satisfied: pytz>=2020.1 in /usr/local/lib/python3.11/dist-packages (from pandas->datasets==3.6.0) (2025.2)\n",
            "Requirement already satisfied: tzdata>=2022.7 in /usr/local/lib/python3.11/dist-packages (from pandas->datasets==3.6.0) (2025.2)\n",
            "Requirement already satisfied: aiohappyeyeballs>=2.5.0 in /usr/local/lib/python3.11/dist-packages (from aiohttp!=4.0.0a0,!=4.0.0a1->fsspec[http]<=2025.3.0,>=2023.1.0->datasets==3.6.0) (2.6.1)\n",
            "Requirement already satisfied: aiosignal>=1.4.0 in /usr/local/lib/python3.11/dist-packages (from aiohttp!=4.0.0a0,!=4.0.0a1->fsspec[http]<=2025.3.0,>=2023.1.0->datasets==3.6.0) (1.4.0)\n",
            "Requirement already satisfied: attrs>=17.3.0 in /usr/local/lib/python3.11/dist-packages (from aiohttp!=4.0.0a0,!=4.0.0a1->fsspec[http]<=2025.3.0,>=2023.1.0->datasets==3.6.0) (25.3.0)\n",
            "Requirement already satisfied: frozenlist>=1.1.1 in /usr/local/lib/python3.11/dist-packages (from aiohttp!=4.0.0a0,!=4.0.0a1->fsspec[http]<=2025.3.0,>=2023.1.0->datasets==3.6.0) (1.7.0)\n",
            "Requirement already satisfied: multidict<7.0,>=4.5 in /usr/local/lib/python3.11/dist-packages (from aiohttp!=4.0.0a0,!=4.0.0a1->fsspec[http]<=2025.3.0,>=2023.1.0->datasets==3.6.0) (6.6.3)\n",
            "Requirement already satisfied: propcache>=0.2.0 in /usr/local/lib/python3.11/dist-packages (from aiohttp!=4.0.0a0,!=4.0.0a1->fsspec[http]<=2025.3.0,>=2023.1.0->datasets==3.6.0) (0.3.2)\n",
            "Requirement already satisfied: yarl<2.0,>=1.17.0 in /usr/local/lib/python3.11/dist-packages (from aiohttp!=4.0.0a0,!=4.0.0a1->fsspec[http]<=2025.3.0,>=2023.1.0->datasets==3.6.0) (1.20.1)\n",
            "Requirement already satisfied: six>=1.5 in /usr/local/lib/python3.11/dist-packages (from python-dateutil>=2.8.2->pandas->datasets==3.6.0) (1.17.0)\n",
            "Downloading datasets-3.6.0-py3-none-any.whl (491 kB)\n",
            "\u001b[2K   \u001b[90m━━━━━━━━━━━━━━━━━━━━━━━━━━━━━━━━━━━━━━━━\u001b[0m \u001b[32m491.5/491.5 kB\u001b[0m \u001b[31m8.2 MB/s\u001b[0m eta \u001b[36m0:00:00\u001b[0m\n",
            "\u001b[?25hInstalling collected packages: datasets\n",
            "  Attempting uninstall: datasets\n",
            "    Found existing installation: datasets 4.0.0\n",
            "    Uninstalling datasets-4.0.0:\n",
            "      Successfully uninstalled datasets-4.0.0\n",
            "Successfully installed datasets-3.6.0\n"
          ]
        }
      ],
      "source": [
        "!pip install datasets==3.6.0\n",
        "\n"
      ]
    },
    {
      "cell_type": "code",
      "execution_count": 53,
      "metadata": {
        "id": "qeZ6gODlpV6V"
      },
      "outputs": [],
      "source": [
        "import random\n",
        "import re\n",
        "import torch\n",
        "from collections import Counter\n",
        "from datasets import load_dataset\n",
        "from transformers import (\n",
        "    AutoTokenizer, AutoModelForCausalLM, BitsAndBytesConfig, pipeline\n",
        ")\n",
        "from sklearn.metrics import accuracy_score, classification_report\n",
        "from tqdm import tqdm"
      ]
    },
    {
      "cell_type": "code",
      "execution_count": 54,
      "metadata": {
        "id": "7PrafjkDslkr"
      },
      "outputs": [],
      "source": [
        "from transformers import AutoTokenizer, AutoModelForCausalLM, BitsAndBytesConfig, pipeline\n",
        "from huggingface_hub import login\n",
        "import torch\n"
      ]
    },
    {
      "cell_type": "code",
      "source": [
        "from google.colab import drive\n",
        "drive.mount('/content/drive')\n"
      ],
      "metadata": {
        "colab": {
          "base_uri": "https://localhost:8080/"
        },
        "id": "B-2o8idra8BZ",
        "outputId": "d1336411-d1a6-4d57-9218-57392cbdd884"
      },
      "execution_count": 6,
      "outputs": [
        {
          "output_type": "stream",
          "name": "stdout",
          "text": [
            "Drive already mounted at /content/drive; to attempt to forcibly remount, call drive.mount(\"/content/drive\", force_remount=True).\n"
          ]
        }
      ]
    },
    {
      "cell_type": "code",
      "execution_count": 55,
      "metadata": {
        "id": "qkSu8SrptCBK"
      },
      "outputs": [],
      "source": [
        "from huggingface_hub import login\n",
        "\n",
        "# Paste your Hugging Face token here\n",
        "login(token=\"...\")"
      ]
    },
    {
      "cell_type": "code",
      "source": [
        "# Load dataset\n",
        "from datasets import load_dataset\n",
        "import random\n",
        "\n",
        "# Load a larger portion first\n",
        "full_validation = load_dataset(\"hatexplain\", split=\"validation\", trust_remote_code=True)\n"
      ],
      "metadata": {
        "id": "OyWzR95L26na"
      },
      "execution_count": 56,
      "outputs": []
    },
    {
      "cell_type": "code",
      "execution_count": 57,
      "metadata": {
        "id": "ScwwamKfpc6M"
      },
      "outputs": [],
      "source": [
        "dataset = full_validation  # upper bound is exclusive\n",
        "\n",
        "\n",
        "# Sample 3 few-shot examples\n",
        "fewshot_data = random.sample(list(dataset), 3)"
      ]
    },
    {
      "cell_type": "code",
      "execution_count": 58,
      "metadata": {
        "id": "5Bl_VdpVnlcW"
      },
      "outputs": [],
      "source": [
        "import os\n",
        "# Paste your GOOGLE API KEY here\n",
        "\n",
        "os.environ[\"GOOGLE_API_KEY\"] = \"...\"\n"
      ]
    },
    {
      "cell_type": "code",
      "execution_count": 59,
      "metadata": {
        "id": "zRGTxB4ooIP5"
      },
      "outputs": [],
      "source": [
        "import google.generativeai as genai\n",
        "\n",
        "genai.configure(api_key=os.environ[\"GOOGLE_API_KEY\"])\n",
        "\n",
        "model = genai.GenerativeModel(\"gemini-2.5-pro\")\n"
      ]
    },
    {
      "cell_type": "code",
      "execution_count": 60,
      "metadata": {
        "id": "wJFtoAm7ofV6"
      },
      "outputs": [],
      "source": [
        "label_map = {0: \"hatespeech\", 1: \"normal\", 2: \"offensive\"}\n",
        "\n",
        "def normalize_labels(labels):\n",
        "    return [label_map[l] if isinstance(l, int) else l for l in labels]\n",
        "\n",
        "def majority_label(label_list):\n",
        "    from collections import Counter\n",
        "    return label_map[Counter(label_list).most_common(1)[0][0]]\n",
        "\n",
        "def format_gemini_prompt(test_text, fewshot_data=None):\n",
        "    prompt = (\n",
        "        \"This prompt is part of a research project on AI-based content moderation. \"\n",
        "    \"You are a moderation engine. Classify the following text into one of three categories: \"\n",
        "    \"normal: No harmful intent. May contain vulgarity or references to race, religion, gender, etc., but does not attack or insult.\"\n",
        "    \"-offensive: Uses strong language or insults, possibly directed at an individual, but not hateful toward a group.\"\n",
        "    \"hatespeech: Attacks, dehumanizes, or incites hatred against a group based on race, religion, gender, etc.\"\n",
        "    \"Respond in JSON format: {\\\"label\\\": \\\"<normal|offensive|hatespeech>\\\", \\\"explanation\\\": \\\"<short reason>\\\"}\\n\\n\"\n",
        "    \"Text: \\\"{}\\\"\"\n",
        "\n",
        "    )\n",
        "    if fewshot_data:\n",
        "        prompt += \"Use the following definitions:\\n\"\n",
        "        \"Important instructions:\"\n",
        "        \"- **DO NOT** mark speech as offensive or hatespeech *just because it references race, religion, gender, or politics*. These may be part of a factual or provocative discussion.\"\n",
        "        \"- Mark as normal if the content reflects opinion, debate, or neutral statement—even if it touches on sensitive themes—**as long as it does not insult, or incite hate.\"\n",
        "        \"- Annotators may label many such examples as normal. Match their judgment unless clear reasons justify otherwise.\"\n",
        "\n",
        "        for sample in fewshot_data:\n",
        "            example_text = \" \".join(sample[\"post_tokens\"])\n",
        "            label = majority_label(sample[\"annotators\"][\"label\"])\n",
        "            prompt += f'User: {example_text}\\nAssistant:\\n{{\"label\": \"{label}\"}}\\n\\n'\n",
        "\n",
        "    prompt += f\"User: {test_text}\\nAssistant:\\n\"\n",
        "    return prompt\n"
      ]
    },
    {
      "cell_type": "code",
      "execution_count": 61,
      "metadata": {
        "id": "DO-J5MKRAnW-"
      },
      "outputs": [],
      "source": [
        "def format_gemini_prompt(test_text, fewshot_data=None):\n",
        "    prompt = (\n",
        "        \"This prompt is part of a research project on AI-based content moderation.\\n\"\n",
        "        \"You are a content moderation engine classifying online posts as:\\n\"\n",
        "       \"You are a moderation engine for a social media. Classify the following text from users of social media from twitter and Gab into one of three categories: \"\n",
        "    \"normal: No harmful intent. May contain vulgarity or references to race, religion, gender, etc., but does not attack or insult.\"\n",
        "    \"-offensive: Uses strong language or insults, possibly directed at an individual, but not hateful toward a group.\"\n",
        "        \"hatespeech: Attacks, dehumanizes, or incites hatred against a group based on race, religion, gender, etc.\"\n",
        "        \"Respond only in the following JSON format:\\n\"\n",
        "        '{\"label\": \"<normal|offensive|hatespeech>\", \"explanation\": \"<brief reason>\"}\\n\\n'\n",
        "         \"If you are uncertain or hesitant, add this line:\"\n",
        "          \"SECOND PASS: Please reconsider briefly.\"\n",
        "          \"Additional few-shot examples from the dataset:\\n\"\n",
        "        \"Important instructions:\\n\"\n",
        "        \"- Do NOT classify something as offensive or hatespeech just for mentioning race, religion, gender, or politics.\\n\"\n",
        "        \"- Sarcasm, criticism, or complex social commentary should be marked as 'normal' unless they clearly target or insult.\\n\\n\"\n",
        "        \"Respond only in the following JSON format:\\n\"\n",
        "        '{\"label\": \"<normal|offensive|hatespeech>\", \"explanation\": \"<brief reason>\"}\\n\\n'\n",
        "        \"If it's between normal and hatespeech, the moderation is very lenient towards hatespeech, so if it's not so violent put it in normal\"\n",
        "        \"If it's between normal and offensive, the moderation is very lenient towards offensive, so if it's not so violent put it in normal\"\n",
        "        \"If it's between offensive and hatespeech, what matters is really if there's a target and how the target is treated, if it incites hate, then it is hatespeech\"\n",
        "        \"Examples:\\n\\n\"\n",
        "        'User: \"I don\\'t think black people should pay more in taxes.\"\\n'\n",
        "        'Assistant:\\n{\"label\": \"normal\", \"explanation\": \"Social commentary; not hateful or offensive.\"}\\n\\n'\n",
        "        'User: \"The government helps Jews but not us.\"\\n'\n",
        "        'Assistant:\\n{\"label\": \"normal\", \"explanation\": \"Perceived inequality claim; not hateful.\"}\\n\\n'\n",
        "        'User: \"You dumb b*tch, shut up already.\"\\n'\n",
        "        'Assistant:\\n{\"label\": \"offensive\", \"explanation\": \"Insulting and disrespectful language.\"}\\n\\n'\n",
        "        'User: \"Muslims are evil and should be banned.\"\\n'\n",
        "        'Assistant:\\n{\"label\": \"hatespeech\", \"explanation\": \"Promotes hatred against a group.\"}\\n\\n'\n",
        "           )\n",
        "\n",
        "    if fewshot_data:\n",
        "        for sample in fewshot_data:\n",
        "            example_text = \" \".join(sample[\"post_tokens\"])\n",
        "            label = majority_label(sample[\"annotators\"][\"label\"])\n",
        "            prompt += f'User: \"{example_text}\"\\nAssistant:\\n{{\"label\": \"{label}\"}}\\n\\n'\n",
        "\n",
        "    prompt += f'User: \"{test_text}\"\\nAssistant:\\n'\n",
        "    return prompt\n"
      ]
    },
    {
      "cell_type": "code",
      "source": [
        "def format_gemini_prompt(test_text, fewshot_data=None):\n",
        "    prompt = (\n",
        "        \"This prompt is part of a research project on AI-based content moderation.\\n\"\n",
        "        \"You are a moderation engine for social media. \"\n",
        "        \"Classify the following text from Twitter and Gab users into one of three categories:\\n\\n\"\n",
        "        \"normal: No harmful intent. May include vulgarity or references to race, religion, gender, etc., \"\n",
        "        \"but does not attack or insult.\\n\"\n",
        "        \"offensive: Uses strong language or insults, possibly directed at an individual, \"\n",
        "        \"but not hateful toward a group.\\n\"\n",
        "        \"hatespeech: Attacks, dehumanizes, or incites hatred against a group based on race, religion, gender, etc.\\n\\n\"\n",
        "        \"Respond only in this JSON format:\\n\"\n",
        "        '{\"label\": \"<normal|offensive|hatespeech>\", \"explanation\": \"<brief reason>\"}\\n\\n'\n",
        "        \"If you are uncertain or hesitant, add this line: \"\n",
        "        \"SECOND PASS: Please reconsider briefly.\\n\\n\"\n",
        "        \"Important instructions:\\n\"\n",
        "        \"- Do NOT classify as offensive or hatespeech just for mentioning race, religion, gender, or politics.\\n\"\n",
        "        \"- Sarcasm, criticism, or complex social commentary should be 'normal' unless they clearly target or insult.\\n\"\n",
        "        \"- If unsure between normal and hatespeech, choose normal unless it strongly incites hate.\\n\"\n",
        "        \"- If unsure between normal and offensive, choose normal unless it is clearly insulting.\\n\"\n",
        "        \"- If unsure between offensive and hatespeech, decide based on targeting and incitement toward a group.\\n\\n\"\n",
        "        \"Examples:\\n\"\n",
        "        'User: \"I don\\'t think black people should pay more in taxes.\"\\n'\n",
        "        'Assistant:\\n{\"label\": \"normal\", \"explanation\": \"Social commentary; not hateful or offensive.\"}\\n\\n'\n",
        "        'User: \"The government helps Jews but not us.\"\\n'\n",
        "        'Assistant:\\n{\"label\": \"normal\", \"explanation\": \"Perceived inequality claim; not hateful.\"}\\n\\n'\n",
        "        'User: \"You dumb b*tch, shut up already.\"\\n'\n",
        "        'Assistant:\\n{\"label\": \"offensive\", \"explanation\": \"Insulting and disrespectful language.\"}\\n\\n'\n",
        "        'User: \"Muslims are evil and should be banned.\"\\n'\n",
        "        'Assistant:\\n{\"label\": \"hatespeech\", \"explanation\": \"Promotes hatred against a group.\"}\\n\\n'\n",
        "    )\n",
        "\n",
        "    if fewshot_data:\n",
        "        prompt += \"Additional few-shot examples:\\n\\n\"\n",
        "        for sample in fewshot_data:\n",
        "            example_text = \" \".join(sample[\"post_tokens\"])\n",
        "            label = majority_label(sample[\"annotators\"][\"label\"])\n",
        "            prompt += f'User: \"{example_text}\"\\nAssistant:\\n{{\"label\": \"{label}\"}}\\n\\n'\n",
        "\n",
        "    prompt += f'User: \"{test_text}\"\\nAssistant:\\n'\n",
        "    return prompt\n"
      ],
      "metadata": {
        "id": "A6zBtLGcZJSx"
      },
      "execution_count": 62,
      "outputs": []
    },
    {
      "cell_type": "code",
      "execution_count": 63,
      "metadata": {
        "id": "WuuUSlmGo4JH"
      },
      "outputs": [],
      "source": [
        "def run_gemini_inference(dataset, fewshot_data=None):\n",
        "    results = []\n",
        "    for sample in dataset:\n",
        "        text = \" \".join(sample[\"post_tokens\"])\n",
        "        prompt = format_gemini_prompt(text, fewshot_data=fewshot_data)\n",
        "        response = model.generate_content(prompt)\n",
        "        result = response.text\n",
        "        results.append({\"generated_text\": result})\n",
        "    return results\n"
      ]
    },
    {
      "cell_type": "code",
      "execution_count": 15,
      "metadata": {
        "id": "cADMaY_to8sm"
      },
      "outputs": [],
      "source": []
    },
    {
      "cell_type": "code",
      "execution_count": 64,
      "metadata": {
        "id": "jln6ZuwQRsQh"
      },
      "outputs": [],
      "source": [
        "import re\n",
        "\n",
        "def extract_label_from_text(text):\n",
        "        # Match **Label:** line\n",
        "        matches = re.findall(r\"\\*\\*label:\\*\\*\\s*(hatespeech|normal|offensive)\", text.lower())\n",
        "        if matches:\n",
        "            return matches[-1]\n",
        "        # Fallback to JSON\n",
        "        fallback = re.findall(r'\"label\"\\s*:\\s*\"?(hatespeech|normal|offensive)\"?', text.lower())\n",
        "        if fallback:\n",
        "            return fallback[-1]\n",
        "        return \"unknown\"\n"
      ]
    },
    {
      "cell_type": "code",
      "execution_count": 65,
      "metadata": {
        "id": "irVq0TOUqr3J"
      },
      "outputs": [],
      "source": [
        "from sklearn.metrics import confusion_matrix, ConfusionMatrixDisplay\n",
        "import matplotlib.pyplot as plt\n",
        "\n",
        "def majority_label(label_list):\n",
        "    count = Counter(label_list)\n",
        "    return count.most_common(1)[0][0]\n",
        "\n",
        "def plot_confusion_matrix(dataset, preds):\n",
        "    label_map = {0: \"hatespeech\", 1: \"normal\", 2: \"offensive\"}\n",
        "    id_to_label = {0: \"hatespeech\", 1: \"normal\", 2: \"offensive\"}\n",
        "    label_order = [\"hatespeech\", \"normal\", \"offensive\" ]\n",
        "\n",
        "    golds = [label_map[majority_label(sample[\"annotators\"][\"label\"])] for sample in dataset]\n",
        "\n",
        "    cm = confusion_matrix(golds, preds, labels=label_order)\n",
        "    disp = ConfusionMatrixDisplay(confusion_matrix=cm, display_labels=label_order)\n",
        "\n",
        "    fig, ax = plt.subplots(figsize=(6, 6))\n",
        "    disp.plot(ax=ax, cmap=\"Blues\", values_format=\"d\")\n",
        "    plt.title(\"Confusion Matrix\")\n",
        "    plt.show()\n",
        "\n"
      ]
    },
    {
      "cell_type": "code",
      "execution_count": 17,
      "metadata": {
        "id": "2Dn4weAFHgtS"
      },
      "outputs": [],
      "source": []
    },
    {
      "cell_type": "code",
      "execution_count": 18,
      "metadata": {
        "id": "ltK5IejXHhjx"
      },
      "outputs": [],
      "source": [
        "# Global state to track where we left off\n"
      ]
    },
    {
      "cell_type": "code",
      "execution_count": 66,
      "metadata": {
        "id": "H0kEiLe2HkMf"
      },
      "outputs": [],
      "source": [
        "def run_gemini_in_chunks(dataset, fewshot_data=None, chunk_size=10, temperature=0.2):\n",
        "    global gemini_run_index\n",
        "\n",
        "    if gemini_run_index >= len(dataset):\n",
        "        print(\"✅ All samples have been processed.\")\n",
        "        return []\n",
        "\n",
        "    end_index = min(gemini_run_index + chunk_size, len(dataset))\n",
        "    chunk = list(dataset.select(range(gemini_run_index, end_index)))\n",
        "\n",
        "    results = []\n",
        "    for sample in chunk:\n",
        "        text = \" \".join(sample[\"post_tokens\"])\n",
        "        prompt = format_gemini_prompt(text, fewshot_data=fewshot_data)\n",
        "        response = model.generate_content(\n",
        "            prompt,\n",
        "            generation_config={\n",
        "                \"temperature\": temperature,\n",
        "            }\n",
        "        )\n",
        "        result = response.text\n",
        "        results.append({\"generated_text\": result})\n",
        "\n",
        "    print(f\"✅ Processed samples {gemini_run_index} to {end_index - 1} with temperature={temperature}\")\n",
        "    gemini_run_index = end_index\n",
        "    return results\n"
      ]
    },
    {
      "cell_type": "code",
      "execution_count": 67,
      "metadata": {
        "id": "DY9DeAfXS2Sr"
      },
      "outputs": [],
      "source": [
        "def run_gemini_in_chunks(dataset, fewshot_data=None, chunk_size=5, temperature=0.2):\n",
        "    global gemini_run_index\n",
        "\n",
        "    if gemini_run_index >= len(dataset):\n",
        "        print(\"✅ All samples have been processed.\")\n",
        "        return []\n",
        "\n",
        "    end_index = min(gemini_run_index + chunk_size, len(dataset))\n",
        "    chunk = list(dataset.select(range(gemini_run_index, end_index)))\n",
        "\n",
        "    results = []\n",
        "    for sample in chunk:\n",
        "        text = \" \".join(sample[\"post_tokens\"])\n",
        "        prompt = format_gemini_prompt(text)\n",
        "\n",
        "        # First pass\n",
        "        response = model.generate_content(\n",
        "            prompt,\n",
        "            generation_config={\n",
        "                \"temperature\": temperature}\n",
        "        )\n",
        "        result_text = response.text\n",
        "\n",
        "        # If the model is uncertain, request second pass\n",
        "        if \"SECOND PASS\" in result_text:\n",
        "            print(\"🔁 Re-prompting for second pass due to uncertainty...\")\n",
        "            second_prompt = result_text + \"\\nPlease reconsider and respond again in JSON format.\"\n",
        "            second_response = model.generate_content(\n",
        "                second_prompt,\n",
        "                generation_config={\n",
        "                    \"temperature\": temperature}\n",
        "            )\n",
        "            result_text = second_response.text\n",
        "\n",
        "        results.append({\"generated_text\": result_text})\n",
        "\n",
        "    print(f\"✅ Processed samples {gemini_run_index} to {end_index - 1} with temperature={temperature}\")\n",
        "    gemini_run_index = end_index\n",
        "    return results\n"
      ]
    },
    {
      "cell_type": "code",
      "source": [
        "import json\n",
        "import os\n",
        "\n",
        "BLOCKED_LOG_FILE = \"blocked_samples.json\"\n",
        "\n",
        "def log_blocked_sample(index, text, reason=\"PROHIBITED_CONTENT\"):\n",
        "    blocked_entry = {\n",
        "        \"index\": index,\n",
        "        \"text\": text,\n",
        "        \"reason\": reason\n",
        "    }\n",
        "\n",
        "    # Append to log file\n",
        "    if os.path.exists(BLOCKED_LOG_FILE):\n",
        "        with open(BLOCKED_LOG_FILE, \"r\", encoding=\"utf-8\") as f:\n",
        "            data = json.load(f)\n",
        "    else:\n",
        "        data = []\n",
        "\n",
        "    data.append(blocked_entry)\n",
        "\n",
        "    with open(BLOCKED_LOG_FILE, \"w\", encoding=\"utf-8\") as f:\n",
        "        json.dump(data, f, ensure_ascii=False, indent=2)\n",
        "\n",
        "    print(f\"🚫 Logged blocked sample {index}\")\n",
        "\n",
        "def run_gemini_in_chunks(dataset, fewshot_data=None, chunk_size=5, temperature=0.2):\n",
        "    global gemini_run_index\n",
        "\n",
        "    if gemini_run_index >= len(dataset):\n",
        "        print(\"✅ All samples have been processed.\")\n",
        "        return []\n",
        "\n",
        "    end_index = min(gemini_run_index + chunk_size, len(dataset))\n",
        "    chunk = list(dataset.select(range(gemini_run_index, end_index)))\n",
        "\n",
        "    results = []\n",
        "    for i, sample in enumerate(chunk, start=gemini_run_index):\n",
        "        text = \" \".join(sample[\"post_tokens\"])\n",
        "        prompt = format_gemini_prompt(text)\n",
        "\n",
        "        try:\n",
        "            response = model.generate_content(\n",
        "                prompt,\n",
        "                generation_config={\"temperature\": temperature}\n",
        "            )\n",
        "\n",
        "            # Handle blocked responses\n",
        "            if not response.candidates:\n",
        "                reason = getattr(response, \"prompt_feedback\", {}).get(\"block_reason\", \"PROHIBITED_CONTENT\")\n",
        "                print(f\"🚫 Prompt blocked for sample {i}: {reason}\")\n",
        "                log_blocked_sample(i, text, reason)\n",
        "                results.append({\"generated_text\": \"BLOCKED\"})\n",
        "                continue\n",
        "\n",
        "            result_text = response.text\n",
        "\n",
        "            # Handle second pass\n",
        "            if \"SECOND PASS\" in result_text:\n",
        "                print(f\"🔁 Re-prompting for sample {i} due to uncertainty...\")\n",
        "                second_prompt = result_text + \"\\nPlease reconsider and respond again in JSON format.\"\n",
        "                second_response = model.generate_content(\n",
        "                    second_prompt,\n",
        "                    generation_config={\"temperature\": temperature}\n",
        "                )\n",
        "\n",
        "                if not second_response.candidates:\n",
        "                    reason = getattr(second_response, \"prompt_feedback\", {}).get(\"block_reason\", \"PROHIBITED_CONTENT\")\n",
        "                    print(f\"🚫 Second pass blocked for sample {i}: {reason}\")\n",
        "                    log_blocked_sample(i, text, reason)\n",
        "                    results.append({\"generated_text\": \"BLOCKED\"})\n",
        "                    continue\n",
        "\n",
        "                result_text = second_response.text\n",
        "\n",
        "            results.append({\"generated_text\": result_text})\n",
        "\n",
        "        except Exception as e:\n",
        "            print(f\"⚠️ Error processing sample {i}: {e}\")\n",
        "            results.append({\"generated_text\": \"ERROR\"})\n",
        "\n",
        "    print(f\"✅ Processed samples {gemini_run_index} to {end_index - 1} with temperature={temperature}\")\n",
        "    gemini_run_index = end_index\n",
        "    return results\n"
      ],
      "metadata": {
        "id": "gHTtSHEdTyDl"
      },
      "execution_count": 68,
      "outputs": []
    },
    {
      "cell_type": "code",
      "execution_count": 84,
      "metadata": {
        "id": "qjyAu_Q5P_qS"
      },
      "outputs": [],
      "source": [
        "from sklearn.metrics import accuracy_score, f1_score\n",
        "\n",
        "def evaluate_outputs(dataset, outputs):\n",
        "    preds = [extract_label_from_text(x[\"generated_text\"]) for x in outputs]\n",
        "\n",
        "    golds_majority = [\n",
        "        label_map[Counter(sample[\"annotators\"][\"label\"]).most_common(1)[0][0]]\n",
        "        for sample in dataset.select(range(len(preds)))\n",
        "    ]\n",
        "\n",
        "    # Custom accuracy: prediction ∈ any annotator's labels\n",
        "    match_any_annotator = []\n",
        "    for sample, pred in zip(dataset.select(range(len(preds))), preds):\n",
        "        annotator_labels = [label_map[l] for l in sample[\"annotators\"][\"label\"]]\n",
        "        match_any_annotator.append(int(pred in annotator_labels))\n",
        "\n",
        "    custom_acc = sum(match_any_annotator) / len(preds)\n",
        "\n",
        "    # Final reporting\n",
        "    print(\"Accuracy (majority gold):\", accuracy_score(golds_majority, preds))\n",
        "    print(\"Macro-F1:                \", f1_score(golds_majority, preds, average=\"macro\"))\n",
        "    print(\"Custom Accuracy (any annotator agrees):\", round(custom_acc, 3))\n",
        "\n"
      ]
    },
    {
      "cell_type": "code",
      "execution_count": 70,
      "metadata": {
        "id": "2lFQDOVJQlBQ"
      },
      "outputs": [],
      "source": [
        "from collections import Counter\n",
        "from sklearn.metrics import confusion_matrix, ConfusionMatrixDisplay\n",
        "import matplotlib.pyplot as plt\n",
        "\n",
        "label_map = {0: \"hatespeech\", 1: \"normal\", 2: \"offensive\"}\n",
        "label_order = [\"hatespeech\", \"normal\", \"offensive\" ]\n",
        "\n",
        "\n",
        "def plot_confusion_matrix_from_outputs(dataset, outputs):\n",
        "    preds = [extract_label_from_text(x[\"generated_text\"]) for x in outputs]\n",
        "\n",
        "    golds = [\n",
        "        label_map[\n",
        "            Counter(sample[\"annotators\"][\"label\"]).most_common(1)[0][0]\n",
        "        ]\n",
        "        for sample in dataset.select(range(len(preds)))\n",
        "    ]\n",
        "\n",
        "    cm = confusion_matrix(golds, preds, labels=label_order)\n",
        "    disp = ConfusionMatrixDisplay(confusion_matrix=cm, display_labels=label_order)\n",
        "    fig, ax = plt.subplots(figsize=(6, 6))\n",
        "    disp.plot(ax=ax, cmap=\"Blues\", values_format=\"d\")\n",
        "    plt.title(\"Confusion Matrix\")\n",
        "    plt.show()\n"
      ]
    },
    {
      "cell_type": "code",
      "execution_count": 71,
      "metadata": {
        "id": "4XHkdDHeT71G"
      },
      "outputs": [],
      "source": [
        "import random\n",
        "import re\n",
        "from collections import Counter\n",
        "\n",
        "label_map = {0: \"hatespeech\", 1: \"normal\", 2: \"offensive\"}\n",
        "\n",
        "def extract_label_and_explanation(text):\n",
        "    label_match = re.search(r'\"label\"\\s*:\\s*\"?(normal|offensive|hatespeech)\"?', text.lower())\n",
        "    explanation_match = re.search(r'\"explanation\"\\s*:\\s*\"([^\"]+)\"', text)\n",
        "\n",
        "    label = label_match.group(1) if label_match else \"unknown\"\n",
        "    explanation = explanation_match.group(1) if explanation_match else \"(no explanation found)\"\n",
        "    return label, explanation\n",
        "\n",
        "def print_sample_info(dataset, outputs, index=None, label=None):\n",
        "    if label:\n",
        "        # Search for a random sample with that predicted label\n",
        "        matches = [\n",
        "            i for i, out in enumerate(outputs)\n",
        "            if extract_label_and_explanation(out[\"generated_text\"])[0] == label\n",
        "        ]\n",
        "        if not matches:\n",
        "            print(f\"❌ No predicted samples found with label '{label}'\")\n",
        "            return\n",
        "        index = random.choice(matches)\n",
        "        print(f\"🎯 Random sample with predicted label '{label}': index {index}\")\n",
        "\n",
        "    if index is None or index >= len(outputs):\n",
        "        print(f\"❌ Invalid index: {index}\")\n",
        "        return\n",
        "\n",
        "    sample = dataset[index]\n",
        "    output_text = outputs[index][\"generated_text\"]\n",
        "    text_input = \" \".join(sample[\"post_tokens\"])\n",
        "\n",
        "    # Get true labels\n",
        "    raw_labels = sample[\"annotators\"][\"label\"]\n",
        "    label_strings = [label_map[l] for l in raw_labels]\n",
        "    majority = Counter(label_strings).most_common(1)[0][0]\n",
        "\n",
        "    # Extract prediction\n",
        "    pred_label, explanation = extract_label_and_explanation(output_text)\n",
        "\n",
        "    # --- Print everything ---\n",
        "    print(f\"\\n📄 Input Text (Sample #{index}):\\n{text_input}\\n\")\n",
        "    print(\"🧠 Full Model Output:\\n\" + output_text + \"\\n\")\n",
        "    print(\"🔎 Extracted Prediction:\")\n",
        "    print(f\"   Label       : {pred_label}\")\n",
        "    print(f\"   Explanation : {explanation}\\n\")\n",
        "    print(\"🧑‍⚖️ Annotator Labels:\")\n",
        "    print(f\"   Numeric     : {raw_labels}\")\n",
        "    print(f\"   Mapped      : {label_strings}\")\n",
        "    print(f\"   Majority    : {majority}\")\n"
      ]
    },
    {
      "cell_type": "code",
      "source": [
        "import json\n",
        "import os\n",
        "import random\n",
        "\n",
        "# ✅ Define path in Google Drive\n",
        "DRIVE_PATH = \"/content/drive/MyDrive/gemini_checkpoints\"\n",
        "os.makedirs(DRIVE_PATH, exist_ok=True)\n",
        "CHECKPOINT_FILE = os.path.join(DRIVE_PATH, \"gemini_checkpoint.json\")\n",
        "\n",
        "def save_checkpoint(outputs, index):\n",
        "    \"\"\"Save current outputs and index to a checkpoint file in Drive.\"\"\"\n",
        "    checkpoint = {\n",
        "        \"gemini_run_index\": index,\n",
        "        \"outputs\": outputs\n",
        "    }\n",
        "    with open(CHECKPOINT_FILE, \"w\", encoding=\"utf-8\") as f:\n",
        "        json.dump(checkpoint, f, ensure_ascii=False, indent=2)\n",
        "    print(f\"💾 Checkpoint saved at index {index} to {CHECKPOINT_FILE}\")\n",
        "\n",
        "def load_checkpoint():\n",
        "    \"\"\"Load checkpoint if it exists from Drive.\"\"\"\n",
        "    if os.path.exists(CHECKPOINT_FILE):\n",
        "        with open(CHECKPOINT_FILE, \"r\", encoding=\"utf-8\") as f:\n",
        "            checkpoint = json.load(f)\n",
        "        print(f\"🔄 Loaded checkpoint at index {checkpoint['gemini_run_index']}\")\n",
        "        return checkpoint[\"outputs\"], checkpoint[\"gemini_run_index\"]\n",
        "    return [], 0\n",
        "\n",
        "def process_dataset(dataset, chunk=5, temp=0.2):\n",
        "    global gemini_run_index\n",
        "\n",
        "    # Load checkpoint if available\n",
        "    outputs, gemini_run_index = load_checkpoint()\n",
        "\n",
        "    fewshot_data = random.sample(list(full_validation), 3)\n",
        "    total_len = len(dataset)\n",
        "\n",
        "    while gemini_run_index < total_len:\n",
        "        chunk_results = run_gemini_in_chunks(\n",
        "            dataset,\n",
        "            fewshot_data=fewshot_data,\n",
        "            chunk_size=chunk,\n",
        "            temperature=temp\n",
        "        )\n",
        "        outputs.extend(chunk_results)\n",
        "\n",
        "        # ✅ Save progress after every chunk\n",
        "        save_checkpoint(outputs, gemini_run_index)\n",
        "\n",
        "    print(\"🎉 Finished processing all samples.\")\n",
        "    return outputs\n"
      ],
      "metadata": {
        "id": "ZZnY05KibYk9"
      },
      "execution_count": 72,
      "outputs": []
    },
    {
      "cell_type": "code",
      "source": [
        "# Check the number of samples in the full validation dataset\n",
        "print(f\"🔎 Number of samples in full_validation: {len(full_validation)}\")\n"
      ],
      "metadata": {
        "colab": {
          "base_uri": "https://localhost:8080/"
        },
        "id": "DKVCaW1shYqg",
        "outputId": "3cc80b93-fc38-4db6-81af-19323c7eedc5"
      },
      "execution_count": 73,
      "outputs": [
        {
          "output_type": "stream",
          "name": "stdout",
          "text": [
            "🔎 Number of samples in full_validation: 1922\n"
          ]
        }
      ]
    },
    {
      "cell_type": "code",
      "source": [
        "outputs = process_dataset(dataset, chunk=5, temp=0.2)\n"
      ],
      "metadata": {
        "colab": {
          "base_uri": "https://localhost:8080/"
        },
        "id": "CNCSCRYgcJs2",
        "outputId": "2b348458-a08a-4374-9ac0-59ed97d5d7f4"
      },
      "execution_count": 74,
      "outputs": [
        {
          "output_type": "stream",
          "name": "stdout",
          "text": [
            "🔄 Loaded checkpoint at index 1922\n",
            "🎉 Finished processing all samples.\n"
          ]
        }
      ]
    },
    {
      "cell_type": "code",
      "source": [
        "import shutil\n",
        "\n",
        "FINAL_FILE = os.path.join(DRIVE_PATH, \"gemini_results.json\")\n",
        "shutil.copyfile(CHECKPOINT_FILE, FINAL_FILE)\n",
        "print(f\"✅ Final results saved to {FINAL_FILE}\")\n"
      ],
      "metadata": {
        "id": "DZv1EdfGcPCh",
        "colab": {
          "base_uri": "https://localhost:8080/"
        },
        "outputId": "50068bc1-13cf-409e-ab18-497a30741d32"
      },
      "execution_count": 75,
      "outputs": [
        {
          "output_type": "stream",
          "name": "stdout",
          "text": [
            "✅ Final results saved to /content/drive/MyDrive/gemini_checkpoints/gemini_results.json\n"
          ]
        }
      ]
    },
    {
      "cell_type": "code",
      "source": [
        "import json\n",
        "import os\n",
        "from sklearn.metrics import accuracy_score, f1_score\n",
        "\n",
        "CHECKPOINT_FILE = os.path.join(DRIVE_PATH, \"gemini_checkpoint.json\")\n",
        "\n",
        "def evaluate_outputs(dataset, outputs=None):\n",
        "    \"\"\"\n",
        "    Evaluates predictions even if the process stopped early.\n",
        "    Loads from checkpoint if outputs not provided.\n",
        "    \"\"\"\n",
        "    label_map = {0: \"hatespeech\", 1: \"normal\", 2: \"offensive\"}\n",
        "\n",
        "    # Load outputs from checkpoint if not passed\n",
        "    if outputs is None:\n",
        "        if os.path.exists(CHECKPOINT_FILE):\n",
        "            with open(CHECKPOINT_FILE, \"r\", encoding=\"utf-8\") as f:\n",
        "                checkpoint = json.load(f)\n",
        "            outputs = checkpoint[\"outputs\"]\n",
        "            print(f\"🔄 Loaded {len(outputs)} predictions from checkpoint\")\n",
        "        else:\n",
        "            raise FileNotFoundError(\"No outputs provided and no checkpoint found.\")\n",
        "\n",
        "    processed_count = len(outputs)\n",
        "    preds = [extract_label_from_text(x[\"generated_text\"]) for x in outputs]\n",
        "\n",
        "    golds = [\n",
        "        label_map[max(set(sample[\"annotators\"][\"label\"]), key=sample[\"annotators\"][\"label\"].count)]\n",
        "        for sample in dataset.select(range(processed_count))\n",
        "    ]\n",
        "\n",
        "    print(f\"✅ Evaluating {processed_count}/{len(dataset)} samples\")\n",
        "    print(\"📊 Accuracy:\", accuracy_score(golds, preds))\n",
        "    print(\"📊 Macro-F1:\", f1_score(golds, preds, average=\"macro\"))\n",
        "\n"
      ],
      "metadata": {
        "id": "IbFyOEseWCdz"
      },
      "execution_count": 82,
      "outputs": []
    },
    {
      "cell_type": "code",
      "source": [
        "import json\n",
        "import os\n",
        "from sklearn.metrics import accuracy_score, f1_score\n",
        "\n",
        "CHECKPOINT_FILE = os.path.join(DRIVE_PATH, \"gemini_checkpoint.json\")\n",
        "\n",
        "def evaluate_outputs(dataset, outputs=None):\n",
        "    \"\"\"\n",
        "    Evaluates predictions even if the process stopped early.\n",
        "    Includes custom accuracy (correct if at least one annotator agrees).\n",
        "    Loads from checkpoint if outputs not provided.\n",
        "    \"\"\"\n",
        "    label_map = {0: \"hatespeech\", 1: \"normal\", 2: \"offensive\"}\n",
        "\n",
        "    # Load outputs from checkpoint if not passed\n",
        "    if outputs is None:\n",
        "        if os.path.exists(CHECKPOINT_FILE):\n",
        "            with open(CHECKPOINT_FILE, \"r\", encoding=\"utf-8\") as f:\n",
        "                checkpoint = json.load(f)\n",
        "            outputs = checkpoint[\"outputs\"]\n",
        "            print(f\"🔄 Loaded {len(outputs)} predictions from checkpoint\")\n",
        "        else:\n",
        "            raise FileNotFoundError(\"No outputs provided and no checkpoint found.\")\n",
        "\n",
        "    processed_count = len(outputs)\n",
        "    preds = [extract_label_from_text(x[\"generated_text\"]) for x in outputs]\n",
        "\n",
        "    # Majority labels for standard accuracy\n",
        "    golds = [\n",
        "        label_map[max(set(sample[\"annotators\"][\"label\"]), key=sample[\"annotators\"][\"label\"].count)]\n",
        "        for sample in dataset.select(range(processed_count))\n",
        "    ]\n",
        "\n",
        "    # ---- Custom Accuracy Calculation ----\n",
        "    custom_correct = 0\n",
        "    for i, sample in enumerate(dataset.select(range(processed_count))):\n",
        "        annotator_labels = [label_map[l] for l in sample[\"annotators\"][\"label\"]]\n",
        "        if preds[i] in annotator_labels:\n",
        "            custom_correct += 1\n",
        "\n",
        "    custom_accuracy = custom_correct / processed_count\n",
        "\n",
        "    print(f\"✅ Evaluating {processed_count}/{len(dataset)} samples\")\n",
        "    print(\"📊 Accuracy:\", accuracy_score(golds, preds))\n",
        "    print(\"📊 Macro-F1:\", f1_score(golds, preds, average='macro'))\n",
        "    print(f\"🟢 Custom Accuracy (≥1 annotator agrees): {custom_accuracy:.4f}\")\n"
      ],
      "metadata": {
        "id": "JNLJaFUfoZRW"
      },
      "execution_count": 88,
      "outputs": []
    },
    {
      "cell_type": "code",
      "source": [
        "import json\n",
        "import os\n",
        "\n",
        "def load_outputs_from_checkpoint():\n",
        "    \"\"\"\n",
        "    Loads the 'outputs' list from the saved checkpoint file.\n",
        "    Returns:\n",
        "        list: Outputs containing generated_text for processed samples.\n",
        "    \"\"\"\n",
        "    if not os.path.exists(CHECKPOINT_FILE):\n",
        "        raise FileNotFoundError(\"Checkpoint file not found. Cannot load outputs.\")\n",
        "\n",
        "    with open(CHECKPOINT_FILE, \"r\", encoding=\"utf-8\") as f:\n",
        "        checkpoint = json.load(f)\n",
        "\n",
        "    outputs = checkpoint.get(\"outputs\", [])\n",
        "    print(f\"🔄 Loaded {len(outputs)} predictions from checkpoint\")\n",
        "    return outputs\n"
      ],
      "metadata": {
        "id": "NMZL6TiOXJ_C"
      },
      "execution_count": 77,
      "outputs": []
    },
    {
      "cell_type": "code",
      "execution_count": 89,
      "metadata": {
        "id": "K6-cHEgPP21D",
        "colab": {
          "base_uri": "https://localhost:8080/"
        },
        "outputId": "61bdab0a-aae5-45a3-80c6-5420bdb748e6"
      },
      "outputs": [
        {
          "output_type": "stream",
          "name": "stdout",
          "text": [
            "🔄 Loaded 1922 predictions from checkpoint\n",
            "✅ Evaluating 1922/1922 samples\n",
            "📊 Accuracy: 0.6534859521331946\n",
            "📊 Macro-F1: 0.4611037402020292\n",
            "🟢 Custom Accuracy (≥1 annotator agrees): 0.7997\n"
          ]
        }
      ],
      "source": [
        "evaluate_outputs(dataset, None)\n"
      ]
    },
    {
      "cell_type": "code",
      "source": [],
      "metadata": {
        "id": "S9mXywiSoAQN"
      },
      "execution_count": null,
      "outputs": []
    },
    {
      "cell_type": "code",
      "execution_count": 79,
      "metadata": {
        "id": "sFy-4mrJQm39",
        "colab": {
          "base_uri": "https://localhost:8080/",
          "height": 516
        },
        "outputId": "1a784ee8-a3a8-4004-c9b2-deb93441d195"
      },
      "outputs": [
        {
          "output_type": "stream",
          "name": "stdout",
          "text": [
            "🔄 Loaded 1922 predictions from checkpoint\n"
          ]
        },
        {
          "output_type": "display_data",
          "data": {
            "text/plain": [
              "<Figure size 600x600 with 2 Axes>"
            ],
            "image/png": "[encoded data removed]"
          },
          "metadata": {}
        }
      ],
      "source": [
        "outputs = load_outputs_from_checkpoint()\n",
        "plot_confusion_matrix_from_outputs(dataset, outputs)\n"
      ]
    },
    {
      "cell_type": "code",
      "execution_count": 33,
      "metadata": {
        "id": "2Ng_UoX9T9kb",
        "colab": {
          "base_uri": "https://localhost:8080/"
        },
        "outputId": "88123008-3207-4ff1-8263-ed4468fb448b"
      },
      "outputs": [
        {
          "output_type": "stream",
          "name": "stdout",
          "text": [
            "\n",
            "📄 Input Text (Sample #4):\n",
            "<user> <user> you all only caring about their hair if these kids were white it would be different latinos love playing both sides they your homeboy until u say mi amigo or deportation then u a porch monkey i could never\n",
            "\n",
            "🧠 Full Model Output:\n",
            "```json\n",
            "{\"label\": \"hatespeech\", \"explanation\": \"Attacks an ethnic group with a broad negative generalization ('latinos love playing both sides') and uses a racial slur in a racially charged context.\"}\n",
            "```\n",
            "\n",
            "🔎 Extracted Prediction:\n",
            "   Label       : hatespeech\n",
            "   Explanation : Attacks an ethnic group with a broad negative generalization ('latinos love playing both sides') and uses a racial slur in a racially charged context.\n",
            "\n",
            "🧑‍⚖️ Annotator Labels:\n",
            "   Numeric     : [1, 1, 1]\n",
            "   Mapped      : ['normal', 'normal', 'normal']\n",
            "   Majority    : normal\n"
          ]
        }
      ],
      "source": [
        "print_sample_info(dataset, outputs, index=4)              # ← Specific sample\n"
      ]
    },
    {
      "cell_type": "code",
      "execution_count": 34,
      "metadata": {
        "id": "UO9XNSXLfUls",
        "colab": {
          "base_uri": "https://localhost:8080/"
        },
        "outputId": "9c0bcb26-0c5a-4646-f571-e66f40d3f05c"
      },
      "outputs": [
        {
          "output_type": "stream",
          "name": "stdout",
          "text": [
            "🎯 Random sample with predicted label 'hatespeech': index 743\n",
            "\n",
            "📄 Input Text (Sample #743):\n",
            "why do women care so much about being on the same level as men when men actually do not give f**k <censored> need some education here\n",
            "\n",
            "🧠 Full Model Output:\n",
            "{\"label\": \"hatespeech\", \"explanation\": \"Uses a gendered slur to attack and demean women as a group for seeking equality.\"}\n",
            "\n",
            "🔎 Extracted Prediction:\n",
            "   Label       : hatespeech\n",
            "   Explanation : Uses a gendered slur to attack and demean women as a group for seeking equality.\n",
            "\n",
            "🧑‍⚖️ Annotator Labels:\n",
            "   Numeric     : [1, 1, 1]\n",
            "   Mapped      : ['normal', 'normal', 'normal']\n",
            "   Majority    : normal\n"
          ]
        }
      ],
      "source": [
        "print_sample_info(dataset, outputs, label=\"hatespeech\")    # ← Random predicted match\n"
      ]
    },
    {
      "cell_type": "code",
      "source": [
        "from datasets import load_dataset\n",
        "from transformers import BertTokenizer, BertForSequenceClassification, Trainer, TrainingArguments\n",
        "from sklearn.model_selection import train_test_split\n",
        "from sklearn.metrics import accuracy_score, f1_score, confusion_matrix\n",
        "import pandas as pd\n",
        "import torch\n",
        "from collections import Counter\n",
        "import numpy as np\n",
        "\n",
        "MODEL_DIR = \"./saved_bert_model\"\n",
        "\n",
        "# 1️⃣ Load dataset\n",
        "dataset = load_dataset(\"hatexplain\")\n",
        "\n",
        "# Extract texts and labels\n",
        "texts = [' '.join(item) for item in dataset['train']['post_tokens']]\n",
        "labels = [\n",
        "    max(Counter(item['label']).items(), key=lambda x: x[1])[0]\n",
        "    for item in dataset['train']['annotators']\n",
        "]\n",
        "label_mapping = {0: 'hatespeech', 1: 'normal', 2: 'offensive'}\n",
        "df = pd.DataFrame({'text': texts, 'label': labels})\n",
        "\n",
        "# 2️⃣ Train/Test split (20% for test)\n",
        "train_texts, test_texts, train_labels, test_labels = train_test_split(\n",
        "    df['text'], df['label'], test_size=0.2, random_state=42\n",
        ")\n",
        "train_texts = train_texts.reset_index(drop=True)\n",
        "test_texts = test_texts.reset_index(drop=True)\n",
        "train_labels = train_labels.reset_index(drop=True)\n",
        "test_labels = test_labels.reset_index(drop=True)\n",
        "\n",
        "# 3️⃣ Tokenization\n",
        "tokenizer = BertTokenizer.from_pretrained('bert-base-uncased')\n",
        "train_encodings = tokenizer(train_texts.tolist(), truncation=True, padding=True, max_length=128)\n",
        "test_encodings = tokenizer(test_texts.tolist(), truncation=True, padding=True, max_length=128)\n",
        "\n",
        "class HateSpeechDataset(torch.utils.data.Dataset):\n",
        "    def __init__(self, encodings, labels):\n",
        "        self.encodings = encodings\n",
        "        self.labels = labels\n",
        "\n",
        "    def __getitem__(self, idx):\n",
        "        item = {key: torch.tensor(val[idx]) for key, val in self.encodings.items()}\n",
        "        item['labels'] = torch.tensor(self.labels[idx])\n",
        "        return item\n",
        "\n",
        "    def __len__(self):\n",
        "        return len(self.labels)\n",
        "\n",
        "train_dataset = HateSpeechDataset(train_encodings, train_labels)\n",
        "test_dataset = HateSpeechDataset(test_encodings, test_labels)\n",
        "\n",
        "# 4️⃣ Load BERT model\n",
        "model = BertForSequenceClassification.from_pretrained('bert-base-uncased', num_labels=3)\n",
        "\n",
        "# 5️⃣ Training arguments\n",
        "training_args = TrainingArguments(\n",
        "    output_dir='./results',\n",
        "    num_train_epochs=3,\n",
        "    per_device_train_batch_size=16,\n",
        "    per_device_eval_batch_size=16,\n",
        "    warmup_steps=500,\n",
        "    weight_decay=0.01,\n",
        "    learning_rate=2e-5,\n",
        "    logging_dir='./logs',\n",
        "    logging_steps=50,\n",
        "    save_total_limit=2,\n",
        ")\n",
        "\n",
        "trainer = Trainer(\n",
        "    model=model,\n",
        "    args=training_args,\n",
        "    train_dataset=train_dataset,\n",
        "    eval_dataset=test_dataset,\n",
        ")\n",
        "\n",
        "# 6️⃣ Train and save\n",
        "trainer.train()\n",
        "model.save_pretrained(MODEL_DIR)\n",
        "tokenizer.save_pretrained(MODEL_DIR)\n",
        "print(f\"✅ Model saved to {MODEL_DIR}\")\n",
        "\n",
        "# 7️⃣ Evaluate\n",
        "results = trainer.evaluate()\n",
        "print(\"📊 Raw evaluation metrics:\", results)\n",
        "\n",
        "# Predictions for confusion matrix and F1\n",
        "predictions = trainer.predict(test_dataset)\n",
        "y_pred = np.argmax(predictions.predictions, axis=1)\n",
        "y_true = predictions.label_ids\n",
        "\n",
        "print(\"✅ Accuracy:\", accuracy_score(y_true, y_pred))\n",
        "print(\"📊 Macro-F1:\", f1_score(y_true, y_pred, average=\"macro\"))\n",
        "print(\"🔀 Confusion Matrix:\\n\", confusion_matrix(y_true, y_pred))\n"
      ],
      "metadata": {
        "colab": {
          "base_uri": "https://localhost:8080/",
          "height": 1000
        },
        "id": "IFrFtgARRR6y",
        "outputId": "9994054b-bca5-4b46-de28-184a87b08078"
      },
      "execution_count": 37,
      "outputs": [
        {
          "output_type": "stream",
          "name": "stderr",
          "text": [
            "Some weights of BertForSequenceClassification were not initialized from the model checkpoint at bert-base-uncased and are newly initialized: ['classifier.bias', 'classifier.weight']\n",
            "You should probably TRAIN this model on a down-stream task to be able to use it for predictions and inference.\n",
            "\u001b[34m\u001b[1mwandb\u001b[0m: \u001b[33mWARNING\u001b[0m The `run_name` is currently set to the same value as `TrainingArguments.output_dir`. If this was not intended, please specify a different run name by setting the `TrainingArguments.run_name` parameter.\n"
          ]
        },
        {
          "output_type": "display_data",
          "data": {
            "text/plain": [
              "<IPython.core.display.Javascript object>"
            ],
            "application/javascript": [
              "\n",
              "        window._wandbApiKey = new Promise((resolve, reject) => {\n",
              "            function loadScript(url) {\n",
              "            return new Promise(function(resolve, reject) {\n",
              "                let newScript = document.createElement(\"script\");\n",
              "                newScript.onerror = reject;\n",
              "                newScript.onload = resolve;\n",
              "                document.body.appendChild(newScript);\n",
              "                newScript.src = url;\n",
              "            });\n",
              "            }\n",
              "            loadScript(\"https://cdn.jsdelivr.net/npm/postmate/build/postmate.min.js\").then(() => {\n",
              "            const iframe = document.createElement('iframe')\n",
              "            iframe.style.cssText = \"width:0;height:0;border:none\"\n",
              "            document.body.appendChild(iframe)\n",
              "            const handshake = new Postmate({\n",
              "                container: iframe,\n",
              "                url: 'https://wandb.ai/authorize'\n",
              "            });\n",
              "            const timeout = setTimeout(() => reject(\"Couldn't auto authenticate\"), 5000)\n",
              "            handshake.then(function(child) {\n",
              "                child.on('authorize', data => {\n",
              "                    clearTimeout(timeout)\n",
              "                    resolve(data)\n",
              "                });\n",
              "            });\n",
              "            })\n",
              "        });\n",
              "    "
            ]
          },
          "metadata": {}
        },
        {
          "output_type": "stream",
          "name": "stderr",
          "text": [
            "\u001b[34m\u001b[1mwandb\u001b[0m: Logging into wandb.ai. (Learn how to deploy a W&B server locally: https://wandb.me/wandb-server)\n",
            "\u001b[34m\u001b[1mwandb\u001b[0m: You can find your API key in your browser here: https://wandb.ai/authorize?ref=models\n",
            "wandb: Paste an API key from your profile and hit enter:"
          ]
        },
        {
          "name": "stdout",
          "output_type": "stream",
          "text": [
            " ··········\n"
          ]
        },
        {
          "output_type": "stream",
          "name": "stderr",
          "text": [
            "\u001b[34m\u001b[1mwandb\u001b[0m: \u001b[33mWARNING\u001b[0m If you're specifying your api key in code, ensure this code is not shared publicly.\n",
            "\u001b[34m\u001b[1mwandb\u001b[0m: \u001b[33mWARNING\u001b[0m Consider setting the WANDB_API_KEY environment variable, or running `wandb login` from the command line.\n",
            "\u001b[34m\u001b[1mwandb\u001b[0m: No netrc file found, creating one.\n",
            "\u001b[34m\u001b[1mwandb\u001b[0m: Appending key for api.wandb.ai to your netrc file: /root/.netrc\n",
            "\u001b[34m\u001b[1mwandb\u001b[0m: Currently logged in as: \u001b[33mjerome-ha\u001b[0m (\u001b[33mlong-ha\u001b[0m) to \u001b[32mhttps://api.wandb.ai\u001b[0m. Use \u001b[1m`wandb login --relogin`\u001b[0m to force relogin\n"
          ]
        },
        {
          "output_type": "display_data",
          "data": {
            "text/plain": [
              "<IPython.core.display.HTML object>"
            ],
            "text/html": [
              "Tracking run with wandb version 0.21.0"
            ]
          },
          "metadata": {}
        },
        {
          "output_type": "display_data",
          "data": {
            "text/plain": [
              "<IPython.core.display.HTML object>"
            ],
            "text/html": [
              "Run data is saved locally in <code>/content/wandb/run-20250803_141351-3a4xvbng</code>"
            ]
          },
          "metadata": {}
        },
        {
          "output_type": "display_data",
          "data": {
            "text/plain": [
              "<IPython.core.display.HTML object>"
            ],
            "text/html": [
              "Syncing run <strong><a href='https://wandb.ai/long-ha/huggingface/runs/3a4xvbng' target=\"_blank\">./results</a></strong> to <a href='https://wandb.ai/long-ha/huggingface' target=\"_blank\">Weights & Biases</a> (<a href='https://wandb.me/developer-guide' target=\"_blank\">docs</a>)<br>"
            ]
          },
          "metadata": {}
        },
        {
          "output_type": "display_data",
          "data": {
            "text/plain": [
              "<IPython.core.display.HTML object>"
            ],
            "text/html": [
              " View project at <a href='https://wandb.ai/long-ha/huggingface' target=\"_blank\">https://wandb.ai/long-ha/huggingface</a>"
            ]
          },
          "metadata": {}
        },
        {
          "output_type": "display_data",
          "data": {
            "text/plain": [
              "<IPython.core.display.HTML object>"
            ],
            "text/html": [
              " View run at <a href='https://wandb.ai/long-ha/huggingface/runs/3a4xvbng' target=\"_blank\">https://wandb.ai/long-ha/huggingface/runs/3a4xvbng</a>"
            ]
          },
          "metadata": {}
        },
        {
          "output_type": "stream",
          "name": "stderr",
          "text": [
            "/usr/local/lib/python3.11/dist-packages/torch/nn/modules/module.py:1750: FutureWarning: `encoder_attention_mask` is deprecated and will be removed in version 4.55.0 for `BertSdpaSelfAttention.forward`.\n",
            "  return forward_call(*args, **kwargs)\n"
          ]
        },
        {
          "output_type": "display_data",
          "data": {
            "text/plain": [
              "<IPython.core.display.HTML object>"
            ],
            "text/html": [
              "\n",
              "    <div>\n",
              "      \n",
              "      <progress value='2310' max='2310' style='width:300px; height:20px; vertical-align: middle;'></progress>\n",
              "      [2310/2310 13:06, Epoch 3/3]\n",
              "    </div>\n",
              "    <table border=\"1\" class=\"dataframe\">\n",
              "  <thead>\n",
              " <tr style=\"text-align: left;\">\n",
              "      <th>Step</th>\n",
              "      <th>Training Loss</th>\n",
              "    </tr>\n",
              "  </thead>\n",
              "  <tbody>\n",
              "    <tr>\n",
              "      <td>50</td>\n",
              "      <td>1.155000</td>\n",
              "    </tr>\n",
              "    <tr>\n",
              "      <td>100</td>\n",
              "      <td>1.101300</td>\n",
              "    </tr>\n",
              "    <tr>\n",
              "      <td>150</td>\n",
              "      <td>1.060500</td>\n",
              "    </tr>\n",
              "    <tr>\n",
              "      <td>200</td>\n",
              "      <td>1.013900</td>\n",
              "    </tr>\n",
              "    <tr>\n",
              "      <td>250</td>\n",
              "      <td>0.947100</td>\n",
              "    </tr>\n",
              "    <tr>\n",
              "      <td>300</td>\n",
              "      <td>0.928000</td>\n",
              "    </tr>\n",
              "    <tr>\n",
              "      <td>350</td>\n",
              "      <td>0.881500</td>\n",
              "    </tr>\n",
              "    <tr>\n",
              "      <td>400</td>\n",
              "      <td>0.817800</td>\n",
              "    </tr>\n",
              "    <tr>\n",
              "      <td>450</td>\n",
              "      <td>0.845400</td>\n",
              "    </tr>\n",
              "    <tr>\n",
              "      <td>500</td>\n",
              "      <td>0.779700</td>\n",
              "    </tr>\n",
              "    <tr>\n",
              "      <td>550</td>\n",
              "      <td>0.810400</td>\n",
              "    </tr>\n",
              "    <tr>\n",
              "      <td>600</td>\n",
              "      <td>0.774900</td>\n",
              "    </tr>\n",
              "    <tr>\n",
              "      <td>650</td>\n",
              "      <td>0.789800</td>\n",
              "    </tr>\n",
              "    <tr>\n",
              "      <td>700</td>\n",
              "      <td>0.793700</td>\n",
              "    </tr>\n",
              "    <tr>\n",
              "      <td>750</td>\n",
              "      <td>0.778000</td>\n",
              "    </tr>\n",
              "    <tr>\n",
              "      <td>800</td>\n",
              "      <td>0.762300</td>\n",
              "    </tr>\n",
              "    <tr>\n",
              "      <td>850</td>\n",
              "      <td>0.675800</td>\n",
              "    </tr>\n",
              "    <tr>\n",
              "      <td>900</td>\n",
              "      <td>0.678200</td>\n",
              "    </tr>\n",
              "    <tr>\n",
              "      <td>950</td>\n",
              "      <td>0.667600</td>\n",
              "    </tr>\n",
              "    <tr>\n",
              "      <td>1000</td>\n",
              "      <td>0.678000</td>\n",
              "    </tr>\n",
              "    <tr>\n",
              "      <td>1050</td>\n",
              "      <td>0.656000</td>\n",
              "    </tr>\n",
              "    <tr>\n",
              "      <td>1100</td>\n",
              "      <td>0.654700</td>\n",
              "    </tr>\n",
              "    <tr>\n",
              "      <td>1150</td>\n",
              "      <td>0.656300</td>\n",
              "    </tr>\n",
              "    <tr>\n",
              "      <td>1200</td>\n",
              "      <td>0.646000</td>\n",
              "    </tr>\n",
              "    <tr>\n",
              "      <td>1250</td>\n",
              "      <td>0.692100</td>\n",
              "    </tr>\n",
              "    <tr>\n",
              "      <td>1300</td>\n",
              "      <td>0.641000</td>\n",
              "    </tr>\n",
              "    <tr>\n",
              "      <td>1350</td>\n",
              "      <td>0.657800</td>\n",
              "    </tr>\n",
              "    <tr>\n",
              "      <td>1400</td>\n",
              "      <td>0.645700</td>\n",
              "    </tr>\n",
              "    <tr>\n",
              "      <td>1450</td>\n",
              "      <td>0.621500</td>\n",
              "    </tr>\n",
              "    <tr>\n",
              "      <td>1500</td>\n",
              "      <td>0.650800</td>\n",
              "    </tr>\n",
              "    <tr>\n",
              "      <td>1550</td>\n",
              "      <td>0.700100</td>\n",
              "    </tr>\n",
              "    <tr>\n",
              "      <td>1600</td>\n",
              "      <td>0.537200</td>\n",
              "    </tr>\n",
              "    <tr>\n",
              "      <td>1650</td>\n",
              "      <td>0.532800</td>\n",
              "    </tr>\n",
              "    <tr>\n",
              "      <td>1700</td>\n",
              "      <td>0.520400</td>\n",
              "    </tr>\n",
              "    <tr>\n",
              "      <td>1750</td>\n",
              "      <td>0.482200</td>\n",
              "    </tr>\n",
              "    <tr>\n",
              "      <td>1800</td>\n",
              "      <td>0.478500</td>\n",
              "    </tr>\n",
              "    <tr>\n",
              "      <td>1850</td>\n",
              "      <td>0.524600</td>\n",
              "    </tr>\n",
              "    <tr>\n",
              "      <td>1900</td>\n",
              "      <td>0.508300</td>\n",
              "    </tr>\n",
              "    <tr>\n",
              "      <td>1950</td>\n",
              "      <td>0.516300</td>\n",
              "    </tr>\n",
              "    <tr>\n",
              "      <td>2000</td>\n",
              "      <td>0.477900</td>\n",
              "    </tr>\n",
              "    <tr>\n",
              "      <td>2050</td>\n",
              "      <td>0.481300</td>\n",
              "    </tr>\n",
              "    <tr>\n",
              "      <td>2100</td>\n",
              "      <td>0.458900</td>\n",
              "    </tr>\n",
              "    <tr>\n",
              "      <td>2150</td>\n",
              "      <td>0.474600</td>\n",
              "    </tr>\n",
              "    <tr>\n",
              "      <td>2200</td>\n",
              "      <td>0.503500</td>\n",
              "    </tr>\n",
              "    <tr>\n",
              "      <td>2250</td>\n",
              "      <td>0.443100</td>\n",
              "    </tr>\n",
              "    <tr>\n",
              "      <td>2300</td>\n",
              "      <td>0.508900</td>\n",
              "    </tr>\n",
              "  </tbody>\n",
              "</table><p>"
            ]
          },
          "metadata": {}
        },
        {
          "output_type": "stream",
          "name": "stderr",
          "text": [
            "/usr/local/lib/python3.11/dist-packages/torch/nn/modules/module.py:1750: FutureWarning: `encoder_attention_mask` is deprecated and will be removed in version 4.55.0 for `BertSdpaSelfAttention.forward`.\n",
            "  return forward_call(*args, **kwargs)\n",
            "/usr/local/lib/python3.11/dist-packages/torch/nn/modules/module.py:1750: FutureWarning: `encoder_attention_mask` is deprecated and will be removed in version 4.55.0 for `BertSdpaSelfAttention.forward`.\n",
            "  return forward_call(*args, **kwargs)\n",
            "/usr/local/lib/python3.11/dist-packages/torch/nn/modules/module.py:1750: FutureWarning: `encoder_attention_mask` is deprecated and will be removed in version 4.55.0 for `BertSdpaSelfAttention.forward`.\n",
            "  return forward_call(*args, **kwargs)\n",
            "/usr/local/lib/python3.11/dist-packages/torch/nn/modules/module.py:1750: FutureWarning: `encoder_attention_mask` is deprecated and will be removed in version 4.55.0 for `BertSdpaSelfAttention.forward`.\n",
            "  return forward_call(*args, **kwargs)\n"
          ]
        },
        {
          "output_type": "stream",
          "name": "stdout",
          "text": [
            "✅ Model saved to ./saved_bert_model\n"
          ]
        },
        {
          "output_type": "stream",
          "name": "stderr",
          "text": [
            "/usr/local/lib/python3.11/dist-packages/torch/nn/modules/module.py:1750: FutureWarning: `encoder_attention_mask` is deprecated and will be removed in version 4.55.0 for `BertSdpaSelfAttention.forward`.\n",
            "  return forward_call(*args, **kwargs)\n"
          ]
        },
        {
          "output_type": "display_data",
          "data": {
            "text/plain": [
              "<IPython.core.display.HTML object>"
            ],
            "text/html": []
          },
          "metadata": {}
        },
        {
          "output_type": "stream",
          "name": "stdout",
          "text": [
            "📊 Raw evaluation metrics: {'eval_loss': 0.783139169216156, 'eval_runtime': 18.0348, 'eval_samples_per_second': 170.614, 'eval_steps_per_second': 10.702, 'epoch': 3.0}\n",
            "✅ Accuracy: 0.6906077348066298\n",
            "📊 Macro-F1: 0.6771337322073018\n",
            "🔀 Confusion Matrix:\n",
            " [[782  77 104]\n",
            " [106 911 226]\n",
            " [174 265 432]]\n"
          ]
        }
      ]
    },
    {
      "cell_type": "code",
      "source": [
        "# Check the number of samples in the full validation dataset\n",
        "print(f\"🔎 Number of samples in full_validation: {len(test_dataset)}\")\n"
      ],
      "metadata": {
        "colab": {
          "base_uri": "https://localhost:8080/"
        },
        "id": "mPoAGjvYYL3c",
        "outputId": "46640518-d2ff-4d7a-ddf4-3247ee4e794f"
      },
      "execution_count": 38,
      "outputs": [
        {
          "output_type": "stream",
          "name": "stdout",
          "text": [
            "🔎 Number of samples in full_validation: 3077\n"
          ]
        }
      ]
    },
    {
      "cell_type": "code",
      "source": [
        "from transformers import BertTokenizer, BertForSequenceClassification, Trainer, TrainingArguments\n",
        "import torch\n",
        "import numpy as np\n",
        "from sklearn.metrics import accuracy_score, f1_score, confusion_matrix\n",
        "\n",
        "MODEL_DIR = \"./saved_bert_model\"  # Path to your trained model\n",
        "\n",
        "# 1️⃣ Load model and tokenizer\n",
        "model = BertForSequenceClassification.from_pretrained(MODEL_DIR, num_labels=3)\n",
        "tokenizer = BertTokenizer.from_pretrained(MODEL_DIR)\n",
        "\n",
        "# 2️⃣ Prepare full_validation dataset\n",
        "texts = [' '.join(item[\"post_tokens\"]) for item in full_validation]\n",
        "labels = [\n",
        "    max(set(sample[\"annotators\"][\"label\"]), key=sample[\"annotators\"][\"label\"].count)\n",
        "    for sample in full_validation\n",
        "]\n",
        "\n",
        "# 3️⃣ Tokenize\n",
        "encodings = tokenizer(texts, truncation=True, padding=True, max_length=128)\n",
        "\n",
        "class HateSpeechDataset(torch.utils.data.Dataset):\n",
        "    def __init__(self, encodings, labels):\n",
        "        self.encodings = encodings\n",
        "        self.labels = labels\n",
        "\n",
        "    def __getitem__(self, idx):\n",
        "        item = {key: torch.tensor(val[idx]) for key, val in self.encodings.items()}\n",
        "        item['labels'] = torch.tensor(self.labels[idx])\n",
        "        return item\n",
        "\n",
        "    def __len__(self):\n",
        "        return len(self.labels)\n",
        "\n",
        "test_dataset = HateSpeechDataset(encodings, labels)\n",
        "\n",
        "# 4️⃣ Evaluate\n",
        "training_args = TrainingArguments(output_dir='./results', per_device_eval_batch_size=16)\n",
        "trainer = Trainer(model=model, args=training_args, eval_dataset=test_dataset)\n",
        "\n",
        "results = trainer.evaluate()\n",
        "print(\"📊 Raw evaluation metrics:\", results)\n",
        "\n",
        "predictions = trainer.predict(test_dataset)\n",
        "y_pred = np.argmax(predictions.predictions, axis=1)\n",
        "y_true = predictions.label_ids\n",
        "\n",
        "# Metrics\n",
        "print(\"✅ Accuracy:\", accuracy_score(y_true, y_pred))\n",
        "print(\"📊 Macro-F1:\", f1_score(y_true, y_pred, average=\"macro\"))\n",
        "print(\"🔀 Confusion Matrix:\\n\", confusion_matrix(y_true, y_pred))\n"
      ],
      "metadata": {
        "colab": {
          "base_uri": "https://localhost:8080/",
          "height": 193
        },
        "id": "7XXh2CJtYnO_",
        "outputId": "93f397e8-fc05-4bda-e0f2-51ff1260659b"
      },
      "execution_count": 41,
      "outputs": [
        {
          "output_type": "stream",
          "name": "stderr",
          "text": [
            "/usr/local/lib/python3.11/dist-packages/torch/nn/modules/module.py:1750: FutureWarning: `encoder_attention_mask` is deprecated and will be removed in version 4.55.0 for `BertSdpaSelfAttention.forward`.\n",
            "  return forward_call(*args, **kwargs)\n"
          ]
        },
        {
          "output_type": "display_data",
          "data": {
            "text/plain": [
              "<IPython.core.display.HTML object>"
            ],
            "text/html": []
          },
          "metadata": {}
        },
        {
          "output_type": "stream",
          "name": "stdout",
          "text": [
            "📊 Raw evaluation metrics: {'eval_loss': 0.8054701685905457, 'eval_model_preparation_time': 0.0027, 'eval_runtime': 9.5769, 'eval_samples_per_second': 200.691, 'eval_steps_per_second': 12.635}\n",
            "✅ Accuracy: 0.6826222684703434\n",
            "📊 Macro-F1: 0.6700001519359974\n",
            "🔀 Confusion Matrix:\n",
            " [[480  41  72]\n",
            " [ 60 563 158]\n",
            " [115 164 269]]\n"
          ]
        }
      ]
    },
    {
      "cell_type": "code",
      "source": [
        "from transformers import BertTokenizer, BertForSequenceClassification, Trainer, TrainingArguments\n",
        "import torch\n",
        "import numpy as np\n",
        "import matplotlib.pyplot as plt\n",
        "import seaborn as sns\n",
        "from sklearn.metrics import accuracy_score, f1_score, confusion_matrix\n",
        "\n",
        "# ---- Standard Metrics ----\n",
        "print(\"✅ Accuracy:\", accuracy_score(y_true, y_pred))\n",
        "print(\"📊 Macro-F1:\", f1_score(y_true, y_pred, average=\"macro\"))\n",
        "\n",
        "# ---- Custom Accuracy ----\n",
        "label_map = {0: \"hatespeech\", 1: \"normal\", 2: \"offensive\"}\n",
        "pred_labels = [label_map[p] for p in y_pred]\n",
        "\n",
        "custom_correct = 0\n",
        "for i, sample in enumerate(full_validation):\n",
        "    annotator_labels = [label_map[l] for l in sample[\"annotators\"][\"label\"]]\n",
        "    if pred_labels[i] in annotator_labels:\n",
        "        custom_correct += 1\n",
        "\n",
        "custom_accuracy = custom_correct / len(full_validation)\n",
        "print(f\"🟢 Custom Accuracy (≥1 annotator agrees): {custom_accuracy:.4f}\")\n",
        "\n",
        "# ---- Confusion Matrix ----\n",
        "cm = confusion_matrix(y_true, y_pred)\n",
        "labels = [\"hatespeech\", \"normal\", \"offensive\"]\n",
        "\n",
        "plt.figure(figsize=(8, 6))\n",
        "sns.heatmap(cm, annot=True, fmt=\"d\", cmap=\"Blues\",\n",
        "            xticklabels=labels, yticklabels=labels)\n",
        "plt.title(\"Confusion Matrix for BERT on Full Validation Set\")\n",
        "plt.xlabel(\"Predicted Label\")\n",
        "plt.ylabel(\"True Label\")\n",
        "plt.tight_layout()\n",
        "plt.show()"
      ],
      "metadata": {
        "colab": {
          "base_uri": "https://localhost:8080/",
          "height": 659
        },
        "id": "EtJclBAUZEY-",
        "outputId": "503e43c8-917f-4751-a5b9-3c2066baf1e4"
      },
      "execution_count": 43,
      "outputs": [
        {
          "output_type": "stream",
          "name": "stdout",
          "text": [
            "✅ Accuracy: 0.6826222684703434\n",
            "📊 Macro-F1: 0.6700001519359974\n",
            "🟢 Custom Accuracy (≥1 annotator agrees): 0.8434\n"
          ]
        },
        {
          "output_type": "display_data",
          "data": {
            "text/plain": [
              "<Figure size 800x600 with 2 Axes>"
            ],
            "image/png": "[encoded data removed]"
          },
          "metadata": {}
        }
      ]
    },
    {
      "cell_type": "code",
      "source": [
        "import json\n",
        "import numpy as np\n",
        "from transformers import BertTokenizer, BertForSequenceClassification, Trainer, TrainingArguments\n",
        "from statsmodels.stats.contingency_tables import mcnemar\n",
        "\n",
        "MODEL_DIR = \"./saved_bert_model\"\n",
        "\n",
        "# Map text labels to numeric IDs\n",
        "label_to_id = {\"hatespeech\": 0, \"normal\": 1, \"offensive\": 2}\n",
        "\n",
        "# 1️⃣ Load LLM predictions\n",
        "with open(CHECKPOINT_FILE, \"r\", encoding=\"utf-8\") as f:\n",
        "    checkpoint = json.load(f)\n",
        "\n",
        "outputs_llm = checkpoint[\"outputs\"]\n",
        "y_pred_llm = []\n",
        "for out in outputs_llm:\n",
        "    label_str = extract_label_from_text(out[\"generated_text\"]).lower()\n",
        "    if label_str in label_to_id:\n",
        "        y_pred_llm.append(label_to_id[label_str])\n",
        "    else:\n",
        "        # Handle unexpected outputs (mark as -1 or handle separately)\n",
        "        y_pred_llm.append(-1)\n",
        "\n",
        "y_pred_llm = np.array(y_pred_llm)\n",
        "\n",
        "# 2️⃣ Load BERT predictions on full_validation\n",
        "model = BertForSequenceClassification.from_pretrained(MODEL_DIR, num_labels=3)\n",
        "tokenizer = BertTokenizer.from_pretrained(MODEL_DIR)\n",
        "\n",
        "texts = [' '.join(item[\"post_tokens\"]) for item in full_validation]\n",
        "labels_majority = np.array([\n",
        "    max(set(sample[\"annotators\"][\"label\"]), key=sample[\"annotators\"][\"label\"].count)\n",
        "    for sample in full_validation\n",
        "])\n",
        "\n",
        "encodings = tokenizer(texts, truncation=True, padding=True, max_length=128)\n",
        "\n",
        "class HateSpeechDataset(torch.utils.data.Dataset):\n",
        "    def __init__(self, encodings, labels):\n",
        "        self.encodings = encodings\n",
        "        self.labels = labels\n",
        "\n",
        "    def __getitem__(self, idx):\n",
        "        item = {key: torch.tensor(val[idx]) for key, val in self.encodings.items()}\n",
        "        item['labels'] = torch.tensor(self.labels[idx])\n",
        "        return item\n",
        "\n",
        "    def __len__(self):\n",
        "        return len(self.labels)\n",
        "\n",
        "test_dataset = HateSpeechDataset(encodings, labels_majority)\n",
        "\n",
        "training_args = TrainingArguments(output_dir='./results', per_device_eval_batch_size=16)\n",
        "trainer = Trainer(model=model, args=training_args, eval_dataset=test_dataset)\n",
        "\n",
        "predictions = trainer.predict(test_dataset)\n",
        "y_pred_bert = np.argmax(predictions.predictions, axis=1)\n",
        "\n",
        "# Ensure both prediction arrays match dataset size\n",
        "min_len = min(len(y_pred_bert), len(y_pred_llm), len(labels_majority))\n",
        "y_pred_bert = y_pred_bert[:min_len]\n",
        "y_pred_llm = y_pred_llm[:min_len]\n",
        "labels_majority = labels_majority[:min_len]\n",
        "\n",
        "# 3️⃣ McNemar’s test\n",
        "bert_correct = y_pred_bert == labels_majority\n",
        "llm_correct = y_pred_llm == labels_majority\n",
        "\n",
        "b = np.sum(bert_correct & ~llm_correct)\n",
        "c = np.sum(~bert_correct & llm_correct)\n",
        "\n",
        "table = [[0, b],\n",
        "         [c, 0]]\n",
        "\n",
        "result = mcnemar(table, exact=False, correction=True)\n",
        "\n",
        "print(\"📊 McNemar’s Test Results\")\n",
        "print(f\"b (BERT correct, LLM wrong): {b}\")\n",
        "print(f\"c (BERT wrong, LLM correct): {c}\")\n",
        "print(f\"Chi-square statistic: {result.statistic:.4f}\")\n",
        "print(f\"p-value: {result.pvalue:.4f}\")\n",
        "\n",
        "if result.pvalue < 0.05:\n",
        "    print(\"✅ Statistically significant difference between BERT and LLM.\")\n",
        "else:\n",
        "    print(\"❌ No statistically significant difference between BERT and LLM.\")\n"
      ],
      "metadata": {
        "colab": {
          "base_uri": "https://localhost:8080/",
          "height": 176
        },
        "id": "VIKwIojeZoHk",
        "outputId": "92aa83ed-dcf4-42eb-e14e-662c9fa97036"
      },
      "execution_count": 47,
      "outputs": [
        {
          "output_type": "stream",
          "name": "stderr",
          "text": [
            "/usr/local/lib/python3.11/dist-packages/torch/nn/modules/module.py:1750: FutureWarning: `encoder_attention_mask` is deprecated and will be removed in version 4.55.0 for `BertSdpaSelfAttention.forward`.\n",
            "  return forward_call(*args, **kwargs)\n"
          ]
        },
        {
          "output_type": "display_data",
          "data": {
            "text/plain": [
              "<IPython.core.display.HTML object>"
            ],
            "text/html": []
          },
          "metadata": {}
        },
        {
          "output_type": "stream",
          "name": "stdout",
          "text": [
            "📊 McNemar’s Test Results\n",
            "b (BERT correct, LLM wrong): 280\n",
            "c (BERT wrong, LLM correct): 224\n",
            "Chi-square statistic: 6.0020\n",
            "p-value: 0.0143\n",
            "✅ Statistically significant difference between BERT and LLM.\n"
          ]
        }
      ]
    }
  ],
  "metadata": {
    "colab": {
      "provenance": [],
      "machine_shape": "hm",
      "gpuType": "T4"
    },
    "kernelspec": {
      "display_name": "Python 3",
      "name": "python3"
    },
    "language_info": {
      "name": "python"
    },
    "accelerator": "GPU"
  },
  "nbformat": 4,
  "nbformat_minor": 0
}